{
 "cells": [
  {
   "cell_type": "code",
   "execution_count": 1,
   "metadata": {},
   "outputs": [],
   "source": [
    "%matplotlib inline\n",
    "import nltk\n",
    "#from wordcloud import WordCloud, STOPWORDS\n",
    "import matplotlib.pyplot as plt\n",
    "import random\n",
    "import string\n",
    "import seaborn as sns"
   ]
  },
  {
   "cell_type": "code",
   "execution_count": 31,
   "metadata": {},
   "outputs": [],
   "source": [
    "#In case you don't have nltk working, here are the english stopwords\n",
    "eng_stops = ['i', 'me', 'my', 'myself', 'we', 'our', 'ours', 'ourselves', 'you', \\\n",
    "             \"you're\", \"you've\", \"you'll\", \"you'd\", 'your', 'yours', 'yourself', 'yourselves',\\\n",
    "             'he', 'him', 'his', 'himself', 'she', \"she's\", 'her', 'hers', 'herself', \\\n",
    "             'it', \"it's\", 'its', 'itself', 'they', 'them', 'their', 'theirs', 'themselves',\\\n",
    "             'what', 'which', 'who', 'whom', 'this', 'that', \"that'll\", 'these', 'those', \\\n",
    "             'am', 'is', 'are', 'was', 'were', 'be', 'been', 'being', 'have', 'has', 'had', \\\n",
    "             'having', 'do', 'does', 'did', 'doing', 'a', 'an', 'the', 'and', 'but', 'if', \\\n",
    "             'or', 'because', 'as', 'until', 'while', 'of', 'at', 'by', 'for', 'with', 'about',\\\n",
    "             'against', 'between', 'into', 'through', 'during', 'before', 'after', 'above', 'below', \\\n",
    "             'to', 'from', 'up', 'down', 'in', 'out', 'on', 'off', 'over', 'under', 'again', 'further', \\\n",
    "             'then', 'once', 'here', 'there', 'when', 'where', 'why', 'how', 'all', 'any', 'both', 'each', \\\n",
    "             'few', 'more', 'most', 'other', 'some', 'such', 'no', 'nor', 'not', 'only', 'own', 'same', 'so', \\\n",
    "             'than', 'too', 'very', 's', 't', 'can', 'will', 'just', 'don', \"don't\", 'should', \"should've\",\\\n",
    "             'now', 'd', 'll', 'm', 'o', 're', 've', 'y', 'ain', 'aren', \"aren't\", 'couldn', \"couldn't\", \\\n",
    "             'didn', \"didn't\", 'doesn', \"doesn't\", 'hadn', \"hadn't\", 'hasn', \"hasn't\", 'haven', \"haven't\", \\\n",
    "             'isn', \"isn't\", 'ma', 'mightn', \"mightn't\", 'mustn', \"mustn't\", 'needn', \"needn't\", 'shan',\\\n",
    "             \"shan't\", 'shouldn', \"shouldn't\", 'wasn', \"wasn't\", 'weren', \"weren't\", 'won', \"won't\", 'wouldn',\\\n",
    "             \"wouldn't\"]"
   ]
  },
  {
   "cell_type": "markdown",
   "metadata": {},
   "source": [
    "### Word count with dictionaries"
   ]
  },
  {
   "cell_type": "code",
   "execution_count": 5,
   "metadata": {},
   "outputs": [
    {
     "name": "stdout",
     "output_type": "stream",
     "text": [
      "{'how': 1, 'are': 1, 'you': 3, 'donald': 1, 'well': 1, 'thank': 1, 'lester': 1, 'and': 1, 'thanks': 1, 'to': 1, 'hofstra': 1, 'for': 1, 'hosting': 1, 'us': 1}\n"
     ]
    }
   ],
   "source": [
    "with open('test_3.txt', 'r', encoding = 'UTF-8') as clinton: #open the file\n",
    "    result = {}\n",
    "    text = clinton.read() #reads in whole file as a string, text is a string\n",
    "    text = text.lower().translate(text.maketrans('','','?!,.:;\"')).split()\n",
    "    for word in text:\n",
    "        if word not in result:\n",
    "            result[word] = 1\n",
    "        else:\n",
    "            old = result[word] #look up old value\n",
    "            new_v = old + 1 #add 1\n",
    "            result[word] = new_v #assign new value to word\n",
    "            result[word] += 1 #result[word] = result[word] + 1\n",
    "        \n",
    "    return result"
   ]
  },
  {
   "cell_type": "code",
   "execution_count": null,
   "metadata": {
    "collapsed": true
   },
   "outputs": [],
   "source": [
    "write_test('debate-clinton.txt', 'test_3.txt', 3)"
   ]
  },
  {
   "cell_type": "code",
   "execution_count": 10,
   "metadata": {},
   "outputs": [],
   "source": [
    "def word_count(filename):\n",
    "    with open(filename, 'r', encoding = 'UTF-8') as clinton: #open the file\n",
    "        result = {}\n",
    "        text = clinton.read() #reads in whole file as a string, text is a string\n",
    "        text = text.lower().translate(text.maketrans('','','?!,.:;\"')).split()\n",
    "        for word in text:\n",
    "            if word not in result:\n",
    "                result[word] = 1\n",
    "            else:\n",
    "                old = result[word] #look up old value\n",
    "                new_v = old + 1 #add 1\n",
    "                result[word] = new_v #assign new value to word\n",
    "                result[word] += 1 #result[word] = result[word] + 1\n",
    "    return result"
   ]
  },
  {
   "cell_type": "code",
   "execution_count": 11,
   "metadata": {},
   "outputs": [
    {
     "name": "stdout",
     "output_type": "stream",
     "text": [
      "{'how': 1, 'are': 1, 'you': 3, 'donald': 1, 'well': 1, 'thank': 1, 'lester': 1, 'and': 1, 'thanks': 1, 'to': 1, 'hofstra': 1, 'for': 1, 'hosting': 1, 'us': 1}\n"
     ]
    }
   ],
   "source": [
    "words = word_count('test_3.txt')\n",
    "print(words)"
   ]
  },
  {
   "cell_type": "code",
   "execution_count": 12,
   "metadata": {},
   "outputs": [
    {
     "name": "stdout",
     "output_type": "stream",
     "text": [
      "{'how': 25, 'are': 75, 'you': 141, 'donald': 41, 'well': 69, 'thank': 1, 'lester': 11, 'and': 375, 'thanks': 1, 'to': 445, 'hofstra': 1, 'for': 83, 'hosting': 1, 'us': 41, 'the': 467, 'central': 1, 'question': 7, 'in': 191, 'this': 63, 'election': 3, 'is': 111, 'really': 37, 'what': 77, 'kind': 19, 'of': 247, 'country': 31, 'we': 255, 'want': 39, 'be': 113, 'future': 9, \"we'll\": 11, 'build': 5, 'together': 11, 'today': 3, 'my': 19, \"granddaughter's\": 1, 'second': 7, 'birthday': 1, 'so': 79, 'i': 267, 'think': 77, 'about': 67, 'a': 211, 'lot': 35, 'first': 11, 'have': 167, 'an': 21, 'economy': 25, 'that': 267, 'works': 3, 'everyone': 11, 'not': 77, 'just': 27, 'those': 15, 'at': 65, 'top': 9, 'means': 7, 'need': 45, 'new': 25, 'jobs': 33, 'good': 31, 'with': 69, 'rising': 5, 'incomes': 9, 'invest': 7, 'your': 45, 'infrastructure': 1, 'advanced': 1, 'manufacturing': 3, 'innovation': 1, 'technology': 1, 'clean': 5, 'renewable': 1, 'energy': 7, 'small': 5, 'business': 29, 'because': 43, 'most': 7, 'will': 41, 'come': 9, 'from': 33, 'also': 25, 'make': 31, 'fairer': 1, 'starts': 1, 'raising': 3, 'national': 9, 'minimum': 3, 'wage': 1, 'guarantee': 1, 'finally': 7, 'equal': 3, 'pay': 13, \"women's\": 1, 'work': 29, 'see': 19, 'more': 41, 'companies': 3, 'do': 93, 'profit-sharing': 1, 'if': 31, 'help': 7, 'create': 7, 'profits': 1, 'should': 29, 'able': 11, 'share': 5, 'them': 37, 'executives': 1, 'support': 15, 'people': 61, 'who': 41, 'struggling': 1, 'balance': 3, 'family': 7, \"i've\": 21, 'heard': 9, 'many': 21, 'difficult': 3, 'choices': 1, 'face': 7, 'stresses': 1, \"you're\": 11, 'under': 5, \"let's\": 13, 'paid': 13, 'leave': 3, 'earned': 1, 'sick': 1, 'days': 1, 'sure': 9, 'affordable': 1, 'child': 1, 'care': 3, 'debt-free': 3, 'college': 5, 'going': 49, 'it': 117, \"we're\": 35, 'by': 23, 'having': 9, 'wealthy': 15, 'their': 37, 'fair': 9, 'close': 3, 'corporate': 3, 'loopholes': 1, 'tonight': 3, 'on': 51, 'stage': 1, 'trump': 3, \"it's\": 39, 'debate': 3, 'where': 13, 'talking': 1, 'important': 17, 'issues': 5, 'facing': 7, 'our': 77, 'judge': 1, 'can': 57, 'shoulder': 1, 'immense': 1, 'awesome': 1, 'responsibilities': 5, 'presidency': 1, 'put': 15, 'into': 17, 'action': 1, 'plans': 9, 'life': 5, 'better': 11, 'hope': 9, 'earn': 1, 'vote': 5, 'november': 3, '8th': 1, 'trade': 13, 'issue': 3, 'course': 5, '5': 1, 'percent': 11, \"world's\": 1, 'population': 1, 'other': 13, '95': 1, 'smart': 3, 'deals': 7, 'though': 5, 'tax': 31, 'system': 13, 'rewards': 1, 'financial': 5, 'transactions': 1, 'plan': 15, 'has': 57, 'forth': 3, 'would': 77, 'trickle-down': 7, 'economics': 1, 'all': 23, 'over': 15, 'again': 17, 'fact': 15, 'extreme': 1, 'version': 1, 'biggest': 7, 'cuts': 3, 'than': 5, \"we've\": 33, 'ever': 13, 'had': 15, 'call': 3, 'trumped-up': 3, \"that's\": 35, 'exactly': 1, 'grow': 5, 'different': 11, 'view': 1, \"what's\": 3, 'best': 5, 'growing': 1, 'investments': 5, 'actually': 17, 'produce': 1, 'somewhat': 1, 'perspectives': 1, 'understand': 7, 'know': 45, 'was': 51, 'very': 23, 'fortunate': 1, 'his': 25, 'benefit': 7, 'he': 83, 'started': 3, '$14': 1, 'million': 19, 'borrowed': 1, 'father': 5, 'believes': 1, 'off': 5, 'everything': 11, 'out': 31, 'there': 37, \"don't\": 19, 'buy': 7, 'experience': 1, 'small-businessman': 1, 'worked': 9, 'hard': 7, 'printed': 1, 'drapery': 3, 'fabrics': 3, 'long': 7, 'tables': 1, 'pulled': 1, 'went': 5, 'down': 7, 'silkscreen': 1, 'dumped': 1, 'paint': 1, 'took': 5, 'squeegee': 1, 'kept': 3, 'believe': 7, 'middle': 13, 'class': 9, 'education': 5, 'skills': 3, 'stop': 1, 'remember': 1, 'were': 17, 'eight': 3, 'years': 15, 'ago': 3, 'worst': 7, 'crisis': 3, 'great': 5, 'recession': 5, 'since': 5, '1930s': 1, 'large': 1, 'part': 11, 'policies': 3, 'slashed': 1, 'taxes': 7, 'failed': 3, 'eyes': 1, 'wall': 3, 'street': 5, 'created': 1, 'perfect': 1, 'storm': 1, 'one': 37, 'rooted': 1, 'housing': 1, 'said': 29, 'back': 13, '2006': 1, 'gee': 1, 'does': 7, 'collapse': 3, 'then': 13, 'go': 19, 'some': 25, 'money': 11, 'did': 15, 'nine': 5, '--': 57, 'lost': 3, 'five': 1, 'homes': 1, '$13': 1, 'trillion': 7, 'wealth': 1, 'wiped': 1, 'now': 17, 'abyss': 1, 'been': 21, 'easy': 1, 'precipice': 1, 'potentially': 1, 'much': 11, 'but': 71, 'last': 3, 'thing': 11, 'place': 3, 'independent': 3, 'experts': 1, 'looked': 9, 'proposed': 13, \"donald's\": 7, 'basically': 1, \"they've\": 11, 'which': 13, 'blow': 1, 'up': 21, 'debt': 15, '$5': 5, 'instances': 1, 'disadvantage': 1, 'middle-class': 3, 'families': 7, 'compared': 1, 'effect': 1, 'lose': 5, '35': 3, 'maybe': 9, 'another': 3, 'ok': 3, 'intend': 5, 'get': 31, 'done': 9, '10': 3, 'making': 7, 'take': 11, 'clean-': 1, 'superpower': 1, '21st': 1, 'century': 1, 'thinks': 1, 'climate': 1, 'change': 1, 'hoax': 1, 'perpetrated': 1, 'chinese': 1, 'real': 5, 'science': 1, 'grip': 1, 'deal': 13, 'both': 9, 'home': 13, 'abroad': 5, \"here's\": 1, 'deploy': 1, 'half': 1, 'billion': 3, 'solar': 1, 'panels': 1, 'enough': 1, 'power': 1, 'every': 3, 'modern': 1, 'electric': 1, 'grid': 1, 'economic': 1, 'activity': 1, 'tried': 3, 'specific': 1, 'am': 5, 'determined': 1, 'moving': 1, 'building': 3, 'progress': 3, 'made': 9, 'never': 9, 'got': 27, 'trouble': 1, 'thought': 1, 'quite': 3, 'bit': 1, 'husband': 1, 'pretty': 1, 'job': 7, '1990s': 3, 'balanced': 1, 'budget': 5, 'everybody': 1, 'look': 19, 'facts': 7, 'when': 35, 'senate': 1, 'number': 7, 'came': 1, 'before': 5, 'me': 9, 'held': 1, 'same': 7, 'test': 1, 'they': 47, 'america': 7, 'raise': 1, 'security': 7, 'voted': 3, 'multinational': 1, 'known': 1, 'as': 45, 'cafta': 1, 'against': 7, 'hold': 3, 'standards': 1, 'these': 9, 'assume': 1, 'only': 11, 'challenge': 3, \"i'm\": 13, 'special': 1, 'prosecutor': 1, 'enforce': 1, 'accountable': 1, 'secretary': 5, 'state': 11, 'increased': 3, 'american': 17, 'exports': 3, 'globally': 1, '30': 1, 'china': 3, '50': 3, 'helped': 1, 'senator': 1, 'opinion': 3, 'accurate': 1, 'once': 3, 'negotiated': 3, 'terms': 1, 'laid': 3, 'wrote': 3, 'no': 19, 'live': 5, 'own': 1, 'reality': 1, 'say': 15, 'hoped': 1, 'responsible': 1, 'concluded': 3, \"wasn't\": 1, 'book': 3, 'even': 11, 'announced': 1, 'differences': 1, 'views': 1, 'leadership': 5, 'world': 11, 'why': 13, 'add': 7, 'oh': 1, 'written': 1, 'called': 11, 'stronger': 1, 'pick': 1, 'tomorrow': 1, 'bookstore': 1, 'or': 13, 'airport': 1, 'near': 5, 'strong': 1, 'growth': 7, 'sustained': 1, 'robust': 1, 'set': 1, 'mine': 1, 'yours': 1, 'explode': 1, \"can't\": 3, 'left': 1, 'stand': 3, 'assumed': 1, 'charges': 1, 'claims': 3, 'taken': 11, 'page': 1, 'website': 1, 'hillaryclintoncom': 1, 'turned': 1, 'fact-checker': 1, 'real-time': 1, 'please': 3, 'penny': 1, 'cut': 1, 'regulations': 1, 'streamline': 1, 'businesses': 7, 'gains': 1, 'time': 9, 'corporations': 1, 'least': 1, 'fight': 1, 'isis': 15, 'checkers': 1, 'feeling': 3, 'end': 3, 'evening': 1, 'blamed': 1, 'happened': 3, 'yeah': 3, 'start': 3, 'clock': 1, 'proposals': 3, 'changes': 1, 'rates': 1, 'kinds': 9, 'referring': 1, 'cause': 3, 'repatriation': 1, 'bringing': 1, 'stranded': 1, 'overseas': 1, 'happen': 5, 'way': 7, 'loophole': 1, 'advantage': 1, \"you've\": 7, 'approach': 1, '$4': 1, 'proposing': 1, 'mess': 1, '2008': 1, '2009': 1, 'slashing': 1, \"hasn't\": 1, 'saying': 3, 'hey': 1, 'contributions': 1, 'rebuild': 1, 'top-down': 1, 'investing': 1, 'young': 13, 'helping': 1, 'refinance': 1, 'lower': 1, 'rate': 3, 'things': 13, 'boost': 1, 'broad-based': 1, 'inclusive': 1, 'advantages': 1, 'seen': 5, 'example': 1, 'bait-and-': 1, 'switch': 3, 'here': 7, '40': 5, 'running': 1, 'president': 11, 'released': 1, 'returns': 9, 'nearly': 1, '39': 1, 'irs': 1, 'clear': 7, 'prohibition': 3, 'releasing': 1, 'audit': 1, 'ask': 1, 'yourself': 3, \"won't\": 1, 'release': 3, 'may': 5, 'couple': 3, 'reasons': 7, \"he's\": 21, 'rich': 1, 'says': 5, 'charitable': 1, 'third': 1, 'dealings': 1, 'told': 1, 'through': 1, 'investigative': 1, 'reporting': 1, 'owes': 3, '$650': 1, 'foreign': 7, 'banks': 1, \"doesn't\": 1, 'watching': 1, 'nothing': 1, 'federal': 9, \"anybody's\": 1, 'turn': 3, 'authorities': 1, 'trying': 9, 'casino': 1, 'license': 1, 'showed': 1, \"didn't\": 3, 'any': 11, 'income': 3, 'zero': 7, 'troops': 7, 'vets': 1, 'schools': 3, 'health': 5, 'probably': 1, 'enthusiastic': 1, 'rest': 1, 'must': 1, 'something': 9, 'terrible': 1, 'hide': 1, 'disclosure': 1, 'statements': 1, 'give': 9, 'details': 1, 'seems': 1, 'deserve': 5, 'reason': 1, \"there's\": 9, 'hiding': 3, 'guess': 1, 'keep': 5, 'guessing': 1, 'might': 3, 'white': 3, 'house': 1, 'conflicts': 1, 'owe': 1, 'answers': 1, 'provide': 7, 'mistake': 3, 'using': 3, 'private': 3, 'e-': 1, 'mail': 1, 'obviously': 1, 'differently': 1, 'excuses': 1, 'responsibility': 1, \"haven't\": 1, 'main': 1, 'claim': 3, 'united': 9, 'states': 13, 'talk': 11, 'campaign': 5, 'manager': 1, 'built': 1, 'backs': 1, 'little': 3, 'guys': 1, 'indeed': 1, 'met': 5, 'stiffed': 3, 'dishwashers': 1, 'painters': 1, 'architects': 1, 'glass': 1, 'installers': 5, 'marble': 1, 'like': 5, 'dad': 1, 'refused': 3, 'finished': 1, 'asked': 5, 'architect': 1, 'audience': 1, 'designed': 1, 'clubhouses': 1, 'golf': 1, 'courses': 1, 'beautiful': 1, 'facility': 1, 'immediately': 1, 'use': 9, \"wouldn't\": 1, 'man': 9, 'needed': 3, 'charging': 1, 'thousands': 1, 'apology': 1, 'someone': 3, 'labor': 1, 'goods': 1, 'produced': 1, 'certainly': 3, 'relieved': 1, 'late': 1, 'provided': 1, 'expected': 1, 'bargain': 1, 'sides': 1, 'bankruptcy': 3, 'six': 1, 'times': 1, 'businesspeople': 1, 'king': 1, 'leverage': 1, 'suggested': 1, 'try': 7, 'negotiate': 1, 'sometimes': 7, 'direct': 3, 'transfer': 1, 'government': 11, 'bad': 1, 'right': 11, 'race': 3, 'remains': 1, 'significant': 1, 'unfortunately': 5, 'still': 5, 'determines': 7, 'too': 19, 'often': 1, 'public': 1, 'yes': 3, \"they're\": 7, 'treated': 1, 'criminal': 9, 'justice': 9, 'two': 9, 'tragic': 1, 'examples': 1, 'tulsa': 1, 'charlotte': 1, 'several': 1, 'restore': 3, 'trust': 3, 'between': 1, 'communities': 19, 'police': 21, 'training': 3, 'techniques': 1, 'prepared': 5, 'force': 1, 'necessary': 1, 'respected': 1, 'law': 9, 'respect': 5, 'case': 1, 'neighborhoods': 5, 'day': 1, 'reform': 3, 'platform': 1, 'begin': 3, 'remedy': 1, 'problems': 11, 'recognize': 1, 'addition': 1, 'challenges': 3, 'policing': 5, 'brave': 1, 'officers': 3, 'equally': 1, 'bring': 1, 'order': 3, 'working': 13, 'mutual': 3, 'goal': 1, 'guns': 3, 'hands': 5, 'gun': 11, 'epidemic': 1, 'leading': 1, 'death': 1, 'african-': 1, 'men': 7, 'next': 3, 'causes': 1, 'tackle': 1, 'plague': 1, 'violence': 1, 'big': 1, 'contributor': 1, 'seeing': 3, 'rallies': 1, 'unfortunate': 1, 'paints': 1, 'such': 1, 'dire': 1, 'negative': 1, 'picture': 1, 'black': 5, 'vibrancy': 1, 'church': 1, 'employ': 1, 'opportunities': 3, 'kids': 1, 'proud': 3, 'supporting': 3, 'lifting': 1, 'always': 1, 'safe': 3, 'ways': 5, 'doing': 5, 'ineffective': 3, 'stop-and-frisk': 1, 'found': 1, 'unconstitutional': 1, 'community': 3, 'violent': 1, 'crime': 5, 'one-half': 1, '1991': 1, 'property': 1, 'creep': 1, '25': 1, 'cooperation': 3, 'unintended': 1, 'consequences': 3, 'african-american': 3, 'latino': 1, 'ended': 3, 'jail': 1, 'nonviolent': 1, 'offenses': 1, 'likely': 1, 'arrested': 1, 'charged': 1, 'convicted': 1, 'incarcerated': 1, 'address': 1, 'systemic': 1, 'racism': 1, 'cannot': 3, 'forward': 1, 'divert': 1, 'mandatory': 1, 'sentences': 1, 'away': 3, 'chance': 1, 'programs': 1, 'glad': 1, 'ending': 1, 'prisons': 1, \"shouldn't\": 1, 'profit': 1, 'motivation': 1, 'fill': 1, 'prison': 1, 'cells': 1, 'americans': 3, 'positive': 1, 'strongly': 1, 'commonsense': 1, 'safety': 1, 'measures': 1, 'assist': 1, 'supported': 3, 'along': 1, 'lobby': 1, 'military-': 1, 'style': 1, 'weapons': 11, 'streets': 1, 'places': 1, 'outgunned': 1, 'comprehensive': 1, 'background': 1, 'checks': 1, 'harm': 1, 'pass': 1, 'anyone': 3, \"who's\": 1, 'terrorist': 1, 'watch': 1, 'list': 1, 'being': 5, 'dangerous': 3, 'fly': 1, 'ought': 1, 'bipartisan': 1, 'implicit': 3, 'bias': 3, 'problem': 5, 'jump': 1, 'conclusions': 1, 'each': 1, 'therefore': 1, 'asking': 1, 'questions': 1, 'comes': 1, 'literally': 1, 'fatal': 1, 'retraining': 1, 'group': 1, 'distinguished': 1, 'experienced': 1, 'chiefs': 3, 'few': 1, 'weeks': 1, 'admit': 1, 'concerns': 3, 'mental': 3, 'handle': 1, 'assistance': 1, 'could': 5, 'position': 1, 'offer': 1, 'mayors': 3, 'current': 1, 'mayor': 1, 'continued': 1, 'drop': 1, 'including': 3, 'murders': 1, 'york': 5, 'excellent': 1, 'credit': 3, 'across': 3, 'board': 1, 'murder': 1, 'learn': 1, 'effective': 1, 'sound': 1, 'impact': 1, 'disagrees': 1, 'keeping': 1, 'disagree': 1, 'respecting': 1, 'rights': 1, 'faith': 1, 'criticized': 1, 'preparing': 1, 'else': 5, 'listen': 1, 'cyber': 9, 'warfare': 3, 'clearly': 1, 'point': 3, 'adversaries': 1, 'hacking': 1, 'groups': 1, 'mostly': 1, 'commercial': 1, 'steal': 1, 'information': 17, 'increasingly': 1, 'attacks': 7, 'coming': 3, 'organs': 1, 'recent': 1, 'troubling': 3, 'russia': 5, 'doubt': 3, 'used': 1, 'organizations': 1, 'deeply': 3, 'concerned': 3, 'praiseworthy': 1, 'vladimir': 1, 'putin': 5, 'playing': 1, 'tough': 1, 'game': 1, 'let': 7, 'loose': 1, 'attackers': 1, 'hack': 7, 'files': 3, 'personal': 1, 'democratic': 1, 'committee': 1, 'recently': 1, 'learned': 1, 'preferred': 1, 'methods': 1, 'wreak': 1, 'havoc': 1, 'collect': 1, 'whether': 3, 'iran': 5, 'anybody': 1, 'greater': 1, 'capacity': 1, 'sit': 1, 'idly': 1, 'permit': 1, 'actors': 1, 'after': 7, 'private-sector': 1, 'public-sector': 1, 'tools': 1, 'engage': 1, 'defend': 1, 'citizens': 1, 'russians': 1, 'treating': 1, 'almost': 1, 'probing': 1, 'far': 3, 'shocked': 1, 'publicly': 1, 'invited': 1, 'unacceptable': 1, 'officials': 1, 'served': 1, 'republican': 1, 'administrations': 1, 'unfit': 1, 'commander-': 1, 'in-chief': 1, 'comments': 1, 'worry': 1, 'threats': 1, 'addressing': 1, 'defeat': 5, 'involve': 1, 'online': 3, 'tech': 1, 'prevent': 3, 'operatives': 1, 'internet': 1, 'radicalize': 1, 'europe': 3, 'elsewhere': 3, 'intensify': 1, 'air': 1, 'strikes': 1, 'eventually': 1, 'arab': 1, 'kurdish': 1, 'partners': 1, 'raqqa': 1, 'caliphate': 1, 'military': 3, 'assisting': 1, 'iraq': 9, 'hoping': 1, 'within': 1, 'year': 1, 'push': 1, 'squeeze': 1, 'syria': 1, 'cognizant': 1, 'fighters': 1, 'volunteer': 1, 'priority': 1, 'possible': 1, 'involved': 1, 'efforts': 3, 'al': 1, 'qaida': 1, 'taking': 1, 'bin': 1, 'laden': 1, 'baghdadi': 1, 'organizing': 1, 'principles': 1, 'disrupt': 1, 'propaganda': 1, 'fact-checkers': 1, 'turning': 1, 'volume': 1, 'invasion': 1, 'absolutely': 1, 'proved': 1, 'advocated': 1, 'actions': 1, 'libya': 1, 'urged': 1, 'gadhafi': 1, 'him': 3, 'larger': 1, 'constantly': 1, 'george': 1, 'w': 1, 'bush': 1, 'agreement': 3, 'barack': 1, 'obama': 1, 'stayed': 1, 'then-iraqi': 1, 'protected': 1, 'iraqi': 1, 'protect': 1, 'intelligence': 5, 'surge': 1, 'looking': 1, 'scrap': 1, 'enforcement': 3, 'minnesota': 1, 'jersey': 1, 'responded': 1, 'quickly': 1, 'professionally': 1, 'occurred': 1, 'rahami': 1, 'brought': 1, 'find': 1, 'alive': 1, 'prove': 1, 'vacuum': 1, 'east': 5, 'closely': 3, 'allies': 3, 'dismissive': 1, 'nato': 1, 'longest': 1, 'alliance': 1, 'history': 1, 'attention': 1, 'terrorism': 1, 'friends': 1, 'muslim': 5, 'majority': 3, 'nations': 5, 'consistently': 1, 'insulted': 1, 'muslims': 3, 'cooperating': 1, 'front': 1, 'lines': 1, 'anywhere': 3, 'alienated': 1, 'pushed': 1, 'rhetoric': 1, 'led': 1, 'covered': 3, 'ground': 1, 'whew': 1, 'temperament': 1, 'commander-in-': 1, 'chief': 1, 'taunted': 1, 'nuclear': 15, 'repeatedly': 1, 'japan': 3, 'south': 3, 'korea': 3, 'saudi': 1, 'arabia': 1, 'policy': 1, 'democrats': 1, 'republicans': 1, 'reduce': 1, 'proliferation': 1, 'war': 3, 'asia': 1, 'fine': 1, 'folks': 1, 'cavalier': 1, 'attitude': 1, 'number-one': 1, 'threat': 1, 'becomes': 1, 'particularly': 1, 'threatening': 1, 'terrorists': 1, 'material': 1, 'provoked': 1, 'tweet': 1, 'fingers': 1, 'codes': 1, 'sense': 1, 'describes': 1, 'words': 3, 'matter': 5, 'run': 1, 'reassure': 1, 'defense': 1, 'treaties': 1, 'honor': 1, 'essential': 1, \"america's\": 1, 'word': 5, 'caused': 1, 'questioning': 1, 'worries': 1, 'leaders': 1, 'globe': 1, 'talked': 1, 'behalf': 3, 'myself': 1, 'entire': 1, 'global': 1, 'situation': 1, 'personally': 1, \"i'd\": 1, 'rather': 1, 'lid': 1, 'program': 1, 'tells': 1, 'bombed': 1, 'criticize': 1, 'successful': 1, 'giving': 1, 'access': 1, 'iranian': 1, 'facilities': 1, 'tell': 1, 'alternative': 1, 'secret': 3, 'precise': 1, 'around': 5, 'follow': 1, 'presidential': 1, 'campaigns': 1, 'hints': 1, 'rely': 1, 'lead': 1, 'strength': 1, 'accordance': 1, 'values': 1, 'leader': 1, 'count': 1, 'decisions': 1, 'further': 1, 'peace': 1, 'prosperity': 1, 'bullies': 1, 'destabilize': 1, 'interfere': 1, 'interests': 1, 'given': 1, 'looks': 1, 'stamina': 1, 'women': 3, 'pigs': 1, 'slobs': 1, 'dogs': 1, 'pregnancy': 1, 'inconvenience': 1, 'employers': 1, 'unless': 1, 'woman': 3, 'beauty': 3, 'contest': 1, 'loves': 1, 'contests': 1, 'hanging': 1, 'miss': 3, 'piggy': 1, 'her': 3, 'housekeeping': 1, 'she': 5, 'latina': 1, 'name': 3, 'alicia': 1, 'machado': 1, 'become': 1, 'citizen': 1, 'bet': 1, \"she's\": 1, 'democracy': 1, 'win': 1, 'outcome': 1, 'plant': 1, 'doubts': 1, \"election's\": 1, 'depended': 1}\n"
     ]
    }
   ],
   "source": [
    "words = word_count('debate-clinton.txt')\n",
    "print(words)"
   ]
  },
  {
   "cell_type": "markdown",
   "metadata": {},
   "source": [
    "### Iterating over a dictionary"
   ]
  },
  {
   "cell_type": "code",
   "execution_count": 13,
   "metadata": {},
   "outputs": [],
   "source": [
    "r = {'good': 16, 'with': 35, 'rising': 3, 'incomes': 5, 'invest': 4} "
   ]
  },
  {
   "cell_type": "code",
   "execution_count": 14,
   "metadata": {},
   "outputs": [
    {
     "name": "stdout",
     "output_type": "stream",
     "text": [
      "good\n",
      "with\n",
      "rising\n",
      "incomes\n",
      "invest\n"
     ]
    }
   ],
   "source": [
    "for item in r:\n",
    "    print(item)"
   ]
  },
  {
   "cell_type": "code",
   "execution_count": 15,
   "metadata": {},
   "outputs": [
    {
     "name": "stdout",
     "output_type": "stream",
     "text": [
      "good\n",
      "with\n",
      "rising\n",
      "incomes\n",
      "invest\n"
     ]
    }
   ],
   "source": [
    "for item in r.keys():\n",
    "    print(item)"
   ]
  },
  {
   "cell_type": "code",
   "execution_count": 16,
   "metadata": {},
   "outputs": [
    {
     "name": "stdout",
     "output_type": "stream",
     "text": [
      "16\n",
      "35\n",
      "3\n",
      "5\n",
      "4\n"
     ]
    }
   ],
   "source": [
    "for item in r.values():\n",
    "    print(item)"
   ]
  },
  {
   "cell_type": "code",
   "execution_count": 17,
   "metadata": {},
   "outputs": [
    {
     "name": "stdout",
     "output_type": "stream",
     "text": [
      "('good', 16)\n",
      "('with', 35)\n",
      "('rising', 3)\n",
      "('incomes', 5)\n",
      "('invest', 4)\n"
     ]
    }
   ],
   "source": [
    "for item in r.items():\n",
    "    print(item)"
   ]
  },
  {
   "cell_type": "code",
   "execution_count": 18,
   "metadata": {},
   "outputs": [
    {
     "name": "stdout",
     "output_type": "stream",
     "text": [
      "Key is good \n",
      "Value is 16\n",
      "Key is with \n",
      "Value is 35\n",
      "Key is rising \n",
      "Value is 3\n",
      "Key is incomes \n",
      "Value is 5\n",
      "Key is invest \n",
      "Value is 4\n"
     ]
    }
   ],
   "source": [
    "for key, value in r.items():\n",
    "    print('Key is', key,'\\nValue is',value)"
   ]
  },
  {
   "cell_type": "markdown",
   "metadata": {},
   "source": [
    "### Most common words (without NLTK)"
   ]
  },
  {
   "cell_type": "code",
   "execution_count": 21,
   "metadata": {},
   "outputs": [],
   "source": [
    "#How does it work?\n",
    "#What's wrong with it?\n",
    "def top_words(tally, num = 10):\n",
    "    inv = {} #empty dictionary\n",
    "    for w,n in tally.items():\n",
    "        inv[n] = w\n",
    "    print(inv)\n",
    "    tg = sorted(inv, reverse = True)[0:num]\n",
    "    result = {}\n",
    "    for val in tg:\n",
    "        result[inv[val]] = val\n",
    "    return result\n"
   ]
  },
  {
   "cell_type": "code",
   "execution_count": 22,
   "metadata": {},
   "outputs": [
    {
     "name": "stdout",
     "output_type": "stream",
     "text": [
      "{25: 'some', 75: 'are', 141: 'you', 41: 'who', 69: 'with', 1: 'depended', 11: 'weapons', 375: 'and', 445: 'to', 83: 'he', 467: 'the', 7: 'after', 191: 'in', 63: 'this', 3: 'name', 111: 'is', 37: 'one', 77: 'would', 19: 'communities', 247: 'of', 31: 'get', 255: 'we', 39: \"it's\", 113: 'be', 9: 'iraq', 5: 'she', 79: 'so', 267: 'that', 67: 'about', 211: 'a', 35: 'when', 167: 'have', 21: 'police', 27: 'got', 15: 'nuclear', 65: 'at', 45: 'as', 33: \"we've\", 29: 'said', 43: 'because', 13: 'working', 93: 'do', 61: 'people', 49: 'going', 117: 'it', 23: 'very', 51: 'was', 17: 'information', 57: '--', 71: 'but', 47: 'they'}\n",
      "{'the': 467, 'to': 445, 'and': 375, 'that': 267, 'we': 255, 'of': 247, 'a': 211, 'in': 191, 'have': 167, 'you': 141, 'it': 117, 'be': 113, 'is': 111, 'do': 93, 'he': 83, 'so': 79, 'would': 77, 'are': 75, 'but': 71, 'with': 69}\n"
     ]
    }
   ],
   "source": [
    "result = top_words(words, 20)\n",
    "print(result) "
   ]
  },
  {
   "cell_type": "code",
   "execution_count": 23,
   "metadata": {},
   "outputs": [],
   "source": [
    "#same as above in case you are curious, but still has same problems\n",
    "def top_words(tally, num = 10):\n",
    "    inv = {n:w for w,n in tally.items()}\n",
    "    tg = sorted(inv, reverse = True)[0:num]\n",
    "    return {inv[val]:val for val in tg}\n"
   ]
  },
  {
   "cell_type": "code",
   "execution_count": 24,
   "metadata": {},
   "outputs": [
    {
     "name": "stdout",
     "output_type": "stream",
     "text": [
      "{'the': 467, 'to': 445, 'and': 375, 'that': 267, 'we': 255, 'of': 247, 'a': 211, 'in': 191, 'have': 167, 'you': 141, 'it': 117, 'be': 113, 'is': 111, 'do': 93, 'he': 83, 'so': 79, 'would': 77, 'are': 75, 'but': 71, 'with': 69}\n"
     ]
    }
   ],
   "source": [
    "result = top_words(words, 20)\n",
    "print(result)"
   ]
  },
  {
   "cell_type": "code",
   "execution_count": null,
   "metadata": {},
   "outputs": [],
   "source": []
  },
  {
   "cell_type": "markdown",
   "metadata": {},
   "source": [
    "### Word count and other things with NLTK"
   ]
  },
  {
   "cell_type": "code",
   "execution_count": 36,
   "metadata": {},
   "outputs": [],
   "source": [
    "with open('debate-trump.txt','r',encoding='UTF-8') as clinton:\n",
    "    tokens = clinton.read().translate(str.maketrans('','','?!,.:;-')).lower().split()"
   ]
  },
  {
   "cell_type": "code",
   "execution_count": 37,
   "metadata": {},
   "outputs": [],
   "source": [
    "word_c = nltk.FreqDist(tokens)"
   ]
  },
  {
   "cell_type": "code",
   "execution_count": 27,
   "metadata": {},
   "outputs": [
    {
     "name": "stdout",
     "output_type": "stream",
     "text": [
      "[('the', 234), ('to', 223), ('and', 188), ('i', 134), ('that', 134), ('we', 128), ('of', 124), ('a', 106), ('in', 96), ('have', 84), ('you', 71), ('it', 59), ('be', 57), ('is', 56), ('do', 47), ('for', 42), ('he', 42), ('so', 40), ('what', 39), ('think', 39)]\n"
     ]
    }
   ],
   "source": [
    "print(word_c.most_common(20))"
   ]
  },
  {
   "cell_type": "code",
   "execution_count": 38,
   "metadata": {},
   "outputs": [],
   "source": [
    "tokens = [token for token in tokens if token not in eng_stops]"
   ]
  },
  {
   "cell_type": "code",
   "execution_count": null,
   "metadata": {},
   "outputs": [],
   "source": [
    "result = []\n",
    "for token in tokens:\n",
    "    if token not in eng_stops:\n",
    "        result.append(token)"
   ]
  },
  {
   "cell_type": "code",
   "execution_count": 39,
   "metadata": {},
   "outputs": [],
   "source": [
    "word_c = nltk.FreqDist(tokens)"
   ]
  },
  {
   "cell_type": "code",
   "execution_count": 40,
   "metadata": {},
   "outputs": [
    {
     "name": "stdout",
     "output_type": "stream",
     "text": [
      "[('country', 49), ('going', 46), ('look', 44), (\"they're\", 40), ('said', 37), ('think', 37), ('people', 33), ('say', 31), (\"i'm\", 30), (\"that's\", 29), ('many', 28), ('know', 27), ('secretary', 27), ('get', 26), (\"we're\", 25), ('one', 25), ('want', 23), ('like', 22), ('well', 22), ('years', 22)]\n"
     ]
    }
   ],
   "source": [
    "print(word_c.most_common(20))"
   ]
  },
  {
   "cell_type": "code",
   "execution_count": 41,
   "metadata": {},
   "outputs": [
    {
     "data": {
      "image/png": "[encoded data removed]",
      "text/plain": [
       "<Figure size 432x288 with 1 Axes>"
      ]
     },
     "metadata": {
      "needs_background": "light"
     },
     "output_type": "display_data"
    },
    {
     "data": {
      "text/plain": [
       "<matplotlib.axes._subplots.AxesSubplot at 0x1a1990b5f8>"
      ]
     },
     "execution_count": 41,
     "metadata": {},
     "output_type": "execute_result"
    }
   ],
   "source": [
    "word_c.plot(20)"
   ]
  },
  {
   "cell_type": "code",
   "execution_count": 42,
   "metadata": {},
   "outputs": [],
   "source": [
    "debate_text = nltk.Text(tokens)"
   ]
  },
  {
   "cell_type": "code",
   "execution_count": 47,
   "metadata": {},
   "outputs": [
    {
     "name": "stdout",
     "output_type": "stream",
     "text": [
      "Displaying 18 of 18 matches:\n",
      "thank lester jobs fleeing country they're going mexico\n",
      "ny countries thing we're losing good jobs many look what's happening mexico fr\n",
      "small car division leaving thousands jobs leaving michigan leaving ohio they'r\n",
      "ing perhaps we'll talking later stop jobs stolen us stop companies leaving uni\n",
      "ls stop countries stealing companies jobs well one thing start father gave sma\n",
      "te trade deals lester they're taking jobs they're giving incentives they're th\n",
      "eated movement years what's happened jobs country economy generally look owe $\n",
      "t longer lester well first thing let jobs leave companies leaving could name m\n",
      "i exact tell much better job keeping jobs much better job giving companies inc\n",
      " michigan look ohio look places many jobs companies leaving they're gone hilla\n",
      "nk solutions bring excuse bring back jobs can't bring back jobs yeah 30 years \n",
      "use bring back jobs can't bring back jobs yeah 30 years well approved nafta ap\n",
      " proud create tremendous numbers new jobs regulations going regulate businesse\n",
      "t life well i'm really calling major jobs wealthy going create tremendous jobs\n",
      "jobs wealthy going create tremendous jobs they're going expand companies they'\n",
      "ary clinton made bad decisions terms jobs terms what's going look worst reviva\n",
      "get defeating isis want get creating jobs want get strong border want get thin\n",
      "nager involved like can't bring back jobs can't produce well say nothing say n\n"
     ]
    }
   ],
   "source": [
    "debate_text.concordance('jobs')"
   ]
  },
  {
   "cell_type": "code",
   "execution_count": 44,
   "metadata": {},
   "outputs": [
    {
     "name": "stdout",
     "output_type": "stream",
     "text": [
      "lester_fleeing good_many thousands_leaving stop_stolen companies_well\n",
      "taking_they're happened_country let_leave keeping_much many_companies\n",
      "back_can't back_yeah new_regulations major_wealthy tremendous_they're\n",
      "terms_terms creating_want\n",
      "None\n"
     ]
    }
   ],
   "source": [
    "print(debate_text.common_contexts(['jobs']))"
   ]
  },
  {
   "cell_type": "code",
   "execution_count": 45,
   "metadata": {},
   "outputs": [
    {
     "name": "stdout",
     "output_type": "stream",
     "text": [
      "['secretary clinton', 'sean hannity', 'law order', 'inner cities', 'middle east', '$20 trillion', 'north korea', 'trade deals', 'long time', 'birth certificate', 'united states', 'new york', 'wait minute', 'barack obama', 'ahead schedule', \"obama's fault\", 'real estate', 'saudi arabia', \"they're going\", 'taken care']\n"
     ]
    }
   ],
   "source": [
    "print(debate_text.collocation_list())"
   ]
  },
  {
   "cell_type": "markdown",
   "metadata": {
    "collapsed": true
   },
   "source": [
    "### Wordcloud (ask me how!)"
   ]
  },
  {
   "cell_type": "markdown",
   "metadata": {},
   "source": [
    "Try this from a terminal:\n",
    "\n",
    "conda install -c conda-forge wordcloud\n",
    "\n",
    "Don't be surprised if it doesn't work!"
   ]
  },
  {
   "cell_type": "code",
   "execution_count": null,
   "metadata": {},
   "outputs": [],
   "source": [
    "text = open('debate-trump.txt','r',encoding = 'UTF-8')\n",
    "up_text = text.read().upper()\n",
    "text.close()\n",
    "stopwords = set(STOPWORDS)\n",
    "stopwords.add('UPON')\n",
    "wc = WordCloud(margin=10,random_state=1, stopwords=stopwords, colormap='jet').generate(up_text)\n",
    "wc.to_file('test.png')\n",
    "plt.figure()\n",
    "plt.imshow(wc)\n",
    "plt.axis('off')\n",
    "plt.show()"
   ]
  },
  {
   "cell_type": "code",
   "execution_count": null,
   "metadata": {
    "collapsed": true
   },
   "outputs": [],
   "source": []
  }
 ],
 "metadata": {
  "kernelspec": {
   "display_name": "Python 3",
   "language": "python",
   "name": "python3"
  },
  "language_info": {
   "codemirror_mode": {
    "name": "ipython",
    "version": 3
   },
   "file_extension": ".py",
   "mimetype": "text/x-python",
   "name": "python",
   "nbconvert_exporter": "python",
   "pygments_lexer": "ipython3",
   "version": "3.7.3"
  }
 },
 "nbformat": 4,
 "nbformat_minor": 2
}
