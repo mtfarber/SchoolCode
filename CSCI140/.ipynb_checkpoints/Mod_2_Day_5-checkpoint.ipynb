{
 "cells": [
  {
   "cell_type": "code",
   "execution_count": 2,
   "metadata": {},
   "outputs": [],
   "source": [
    "FRONT = 'äöy'\n",
    "MIDDLE = 'ei'\n",
    "BACK = 'aou'"
   ]
  },
  {
   "cell_type": "code",
   "execution_count": 12,
   "metadata": {},
   "outputs": [],
   "source": [
    "#Input: a word\n",
    "#Output: the vowel pattern for that word, e.g. \"taivas\", 'BMB'\n",
    "def pattern(word):\n",
    "    i = 0\n",
    "    result = ''\n",
    "    while i < len(word):\n",
    "        letter = word[i]\n",
    "        if letter in FRONT:\n",
    "            result += 'F'\n",
    "        elif letter in BACK:\n",
    "            result += 'B'\n",
    "        elif letter in MIDDLE:\n",
    "            result += 'M'\n",
    "        i += 1\n",
    "    return result   "
   ]
  },
  {
   "cell_type": "code",
   "execution_count": 14,
   "metadata": {},
   "outputs": [
    {
     "name": "stdout",
     "output_type": "stream",
     "text": [
      "FFF\n",
      "BMB\n",
      "MMBB\n",
      "MBB\n",
      "MBBMBMBBMMMBBBMBBMBBMBBMBMMMBMB\n"
     ]
    }
   ],
   "source": [
    "print(pattern('tänään'))\n",
    "print(pattern('taivas'))\n",
    "print(pattern('kilpikonna'))\n",
    "print(pattern('peruna'))\n",
    "print (pattern('Lentokonesuihkuturbiinimoottoriapumekaanikkoaliupseerioppilas'))"
   ]
  },
  {
   "cell_type": "code",
   "execution_count": 16,
   "metadata": {},
   "outputs": [],
   "source": [
    "def pattern(word):\n",
    "    result = ''\n",
    "    for letter in word:\n",
    "        if letter in FRONT:\n",
    "            result += 'F'\n",
    "        elif letter in BACK:\n",
    "            result += 'B'\n",
    "        elif letter in MIDDLE:\n",
    "            result += 'M'\n",
    "    return result"
   ]
  },
  {
   "cell_type": "code",
   "execution_count": 17,
   "metadata": {},
   "outputs": [
    {
     "name": "stdout",
     "output_type": "stream",
     "text": [
      "FFF\n",
      "BMB\n",
      "MMBB\n",
      "MBB\n"
     ]
    }
   ],
   "source": [
    "print(pattern('tänään'))\n",
    "print(pattern('taivas'))\n",
    "print(pattern('kilpikonna'))\n",
    "print(pattern('peruna'))"
   ]
  },
  {
   "cell_type": "code",
   "execution_count": 15,
   "metadata": {},
   "outputs": [
    {
     "name": "stdout",
     "output_type": "stream",
     "text": [
      "Hello!\n",
      "Hello!\n",
      "Hello!\n",
      "Hello!\n",
      "Hello!\n",
      "Hello!\n"
     ]
    }
   ],
   "source": [
    "text = 'turtle'\n",
    "for letter in text:\n",
    "    print('Hello!')"
   ]
  },
  {
   "cell_type": "code",
   "execution_count": 18,
   "metadata": {},
   "outputs": [
    {
     "name": "stdout",
     "output_type": "stream",
     "text": [
      "mato\n",
      "rtle\n",
      "neapple\n"
     ]
    }
   ],
   "source": [
    "names = ['tomato', 'turtle', 'pineapple']\n",
    "for name in names:\n",
    "    print(name[2:])"
   ]
  },
  {
   "cell_type": "code",
   "execution_count": 23,
   "metadata": {},
   "outputs": [],
   "source": [
    "#Input: a word\n",
    "#Output: a list of INDICES for vowels in that word\n",
    "#Example: taivas [1,2,4]\n",
    "def vowel_locate(word):\n",
    "    locs = []\n",
    "    for i in range (len(word)):\n",
    "        if word[i] in (FRONT+MIDDLE+BACK):\n",
    "            locs += [i]\n",
    "    return locs"
   ]
  },
  {
   "cell_type": "code",
   "execution_count": 25,
   "metadata": {},
   "outputs": [
    {
     "name": "stdout",
     "output_type": "stream",
     "text": [
      "[0, 4, 7]\n",
      "[]\n",
      "[0, 1, 2, 3, 4, 5]\n"
     ]
    }
   ],
   "source": [
    "print(vowel_locate('umbrella'))\n",
    "print(vowel_locate('sqrt'))\n",
    "print(vowel_locate('oooooo'))"
   ]
  },
  {
   "cell_type": "code",
   "execution_count": 32,
   "metadata": {},
   "outputs": [
    {
     "name": "stdout",
     "output_type": "stream",
     "text": [
      "0\n",
      "1\n",
      "2\n",
      "3\n",
      "4\n",
      "5\n",
      "6\n"
     ]
    }
   ],
   "source": [
    "for i in range(7):\n",
    "    print(i)"
   ]
  },
  {
   "cell_type": "code",
   "execution_count": 34,
   "metadata": {},
   "outputs": [
    {
     "name": "stdout",
     "output_type": "stream",
     "text": [
      "2\n",
      "1\n",
      "0\n",
      "-1\n",
      "-2\n",
      "-3\n",
      "-4\n",
      "-5\n",
      "-6\n"
     ]
    }
   ],
   "source": [
    "for i in range(2,-7,-1):\n",
    "    print(i)"
   ]
  },
  {
   "cell_type": "code",
   "execution_count": 30,
   "metadata": {},
   "outputs": [],
   "source": [
    "def vowel_pattern_meta(list_of_words):\n",
    "    result = []\n",
    "    for word in list_of_words:\n",
    "        result += [pattern(word)]\n",
    "    return result"
   ]
  },
  {
   "cell_type": "code",
   "execution_count": 31,
   "metadata": {},
   "outputs": [
    {
     "name": "stdout",
     "output_type": "stream",
     "text": [
      "['BMB', 'FF', 'BB']\n"
     ]
    }
   ],
   "source": [
    "print(vowel_pattern_meta(['taivas', 'lyö', 'tulta']))"
   ]
  },
  {
   "cell_type": "code",
   "execution_count": null,
   "metadata": {
    "collapsed": true
   },
   "outputs": [],
   "source": []
  }
 ],
 "metadata": {
  "kernelspec": {
   "display_name": "Python 3",
   "language": "python",
   "name": "python3"
  },
  "language_info": {
   "codemirror_mode": {
    "name": "ipython",
    "version": 3
   },
   "file_extension": ".py",
   "mimetype": "text/x-python",
   "name": "python",
   "nbconvert_exporter": "python",
   "pygments_lexer": "ipython3",
   "version": "3.7.3"
  }
 },
 "nbformat": 4,
 "nbformat_minor": 2
}
