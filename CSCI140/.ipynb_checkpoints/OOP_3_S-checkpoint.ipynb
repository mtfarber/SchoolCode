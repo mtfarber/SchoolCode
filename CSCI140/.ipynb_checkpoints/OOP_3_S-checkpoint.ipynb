{
 "cells": [
  {
   "cell_type": "code",
   "execution_count": 1,
   "metadata": {},
   "outputs": [],
   "source": [
    "import pandas as pd\n",
    "import random\n",
    "import math\n",
    "import numpy as np"
   ]
  },
  {
   "cell_type": "code",
   "execution_count": 28,
   "metadata": {},
   "outputs": [],
   "source": [
    "class DNA: #inside object\n",
    "    \n",
    "    def __init__(self, sequence, snp_freq = 10e-9): #Constructor, make object, set up\n",
    "        self.__sequence = sequence.upper() #str\n",
    "        self.__previous = pd.DataFrame(columns = ['Generation', 'Changes'])\n",
    "        self.__previous.set_index('Generation', inplace = True)\n",
    "        self.__generation = 0 #int\n",
    "        self.__mut_freq = snp_freq #float\n",
    "        \n",
    "    \n",
    "    def replicate(self):\n",
    "        self.__generation += 1\n",
    "        #sample from a binomial distribution to figure out if it will occur\n",
    "        num_muts = (np.random.binomial(len(self.__sequence),self.__mut_freq)) #How many bases to change\n",
    "        #pick random locations\n",
    "        mut_locs = random.sample(range(len(self.__sequence)), num_muts) #list of locations\n",
    "        new_seq = self.__sequence\n",
    "        for location in mut_locs: #why is this ok if there are no locations\n",
    "            new_base = random.choice('ATCG')\n",
    "            while new_base == self.__sequence[location]: #what does this do\n",
    "                new_base = random.choice('ATCG')\n",
    "            new_seq = new_seq[:location] + new_base + new_seq[location+1:] #what does this do\n",
    "        self.__previous.loc[self.__generation, 'Changes'] = self.get_position_changes(new_seq) #What does this do?\n",
    "        self.__sequence = new_seq\n",
    "        return mut_locs\n",
    "        \n",
    "    def transcribe(self): \n",
    "        return self.__sequence.replace('T','U')\n",
    "    \n",
    "    def rev_comp(self):\n",
    "        return self.__sequence[::-1].translate(self.__sequence.maketrans('ACTG','TGAC'))\n",
    "        \n",
    "    \n",
    "    def gc_content(self):\n",
    "        GC = 0\n",
    "        for letter in self.__sequence:\n",
    "            if letter in 'GC':\n",
    "                GC += 1\n",
    "        return GC/len(self.__sequence)\n",
    "    \n",
    "    def get_mut_freq(self):\n",
    "        return self.__mut_freq\n",
    "    \n",
    "    def get_generation(self):\n",
    "        return self.__generation\n",
    "    \n",
    "    def get_sequence(self):\n",
    "        return self.__sequence\n",
    "    \n",
    "    def get_history(self):\n",
    "        return str(self.__previous)\n",
    "    \n",
    "    def get_position_changes(self, other_seq): #debug\n",
    "        result = []\n",
    "        for i in range(len(self.__sequence)):\n",
    "            if self.__sequence[i] != other_seq[i]:\n",
    "                    result.append(self.__sequence[i] + str(i+1) + other_seq[i])\n",
    "        return result\n",
    "     \n",
    "    def __str__(self): #Debug\n",
    "        return 'Sequence with length ' + str(len(self.__sequence))"
   ]
  },
  {
   "cell_type": "code",
   "execution_count": 29,
   "metadata": {},
   "outputs": [],
   "source": [
    "seq = 'ACTGGATTGCA'"
   ]
  },
  {
   "cell_type": "code",
   "execution_count": 30,
   "metadata": {},
   "outputs": [
    {
     "name": "stdout",
     "output_type": "stream",
     "text": [
      "['C2T', 'G4T']\n"
     ]
    }
   ],
   "source": [
    "#How do we test the DNA class?\n",
    "#outside object, main program\n",
    "#create and object!\n",
    "my_dna = DNA(seq, 0.1) #constructor call\n",
    "#print(my_dna.rev_comp())\n",
    "#print(my_dna.transcribe())\n",
    "#print(my_dna.gc_content())\n",
    "#print(my_dna.get_position_changes('ATTT'))\n"
   ]
  },
  {
   "cell_type": "code",
   "execution_count": null,
   "metadata": {
    "collapsed": true
   },
   "outputs": [],
   "source": [
    "class RNA:\n",
    "    \n",
    "    def __init__ (self, sequence):\n",
    "        self.__sequence = sequence.upper()\n",
    "        aminos = pd.read_csv('codons_R.txt', sep = '\\t') #https://github.com/zhanxw/anno/blob/master/codon.txt\n",
    "        self.__aa_table = dict(zip(aminos['Codon'], aminos['Letter']))\n",
    "    \n",
    "    def translate(self, frame = 1, find_orf = True, dashes = False ): #just consider frames 1 through 3 for now,debug\n",
    "        peptide = ''\n",
    "        if(find_orf):\n",
    "            frame = self.__sequence.find('AUG')\n",
    "        else:\n",
    "            frame -= 1\n",
    "        if frame >= 1:\n",
    "            for i in range(len(self.__sequence),3):\n",
    "                codon = self.__sequence[i:i+2]\n",
    "                aa = self.__aa_table(codon)\n",
    "                peptide += aa\n",
    "                if dashes:\n",
    "                    peptide += '-'\n",
    "            return peptide\n",
    "    \n",
    "    def get_sequence(self):\n",
    "        pass\n",
    "    \n",
    "    def __str__(self):\n",
    "        pass"
   ]
  },
  {
   "cell_type": "code",
   "execution_count": null,
   "metadata": {},
   "outputs": [],
   "source": [
    "def rand_RNA_seq(length):\n",
    "    return ''.join([random.choice('ACUG') for i in range(length)])"
   ]
  },
  {
   "cell_type": "code",
   "execution_count": null,
   "metadata": {
    "collapsed": true
   },
   "outputs": [],
   "source": [
    "#Test the RNA class\n"
   ]
  }
 ],
 "metadata": {
  "kernelspec": {
   "display_name": "Python 3",
   "language": "python",
   "name": "python3"
  },
  "language_info": {
   "codemirror_mode": {
    "name": "ipython",
    "version": 3
   },
   "file_extension": ".py",
   "mimetype": "text/x-python",
   "name": "python",
   "nbconvert_exporter": "python",
   "pygments_lexer": "ipython3",
   "version": "3.7.3"
  }
 },
 "nbformat": 4,
 "nbformat_minor": 2
}
