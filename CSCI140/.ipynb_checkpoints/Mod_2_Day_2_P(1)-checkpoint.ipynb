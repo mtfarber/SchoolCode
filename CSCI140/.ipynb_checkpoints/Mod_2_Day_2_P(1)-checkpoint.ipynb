{
 "cells": [
  {
   "cell_type": "code",
   "execution_count": 1,
   "metadata": {},
   "outputs": [],
   "source": [
    "import random\n",
    "import numpy"
   ]
  },
  {
   "cell_type": "code",
   "execution_count": 2,
   "metadata": {},
   "outputs": [],
   "source": [
    "#Function to turn monetary values into numeric quantities\n",
    "def convert(amount):\n",
    "    return float()"
   ]
  },
  {
   "cell_type": "code",
   "execution_count": null,
   "metadata": {
    "collapsed": true
   },
   "outputs": [],
   "source": [
    "b = '$56.42'\n",
    "r1 = convert(b)\n",
    "print(r1)\n",
    "print(amount)\n"
   ]
  },
  {
   "cell_type": "code",
   "execution_count": null,
   "metadata": {
    "collapsed": true
   },
   "outputs": [],
   "source": [
    "#Same as above, but with a list, remove your lowest score\n",
    "def drop_grade(grades):\n",
    "    result = grades[1:]\n",
    "    return result\n",
    "    print('Just checking', result)"
   ]
  },
  {
   "cell_type": "code",
   "execution_count": null,
   "metadata": {
    "collapsed": true
   },
   "outputs": [],
   "source": [
    "scores = [90, 87, 95, 67, 100]\n",
    "final = drop_grade(scores)\n",
    "print(numpy.mean(final)) #Is this right?"
   ]
  },
  {
   "cell_type": "code",
   "execution_count": null,
   "metadata": {
    "collapsed": true
   },
   "outputs": [],
   "source": [
    "def drop_grade(grades, num_to_drop):\n",
    "    result = grades[:-1] #is this right?\n",
    "    return result"
   ]
  },
  {
   "cell_type": "code",
   "execution_count": null,
   "metadata": {
    "collapsed": true
   },
   "outputs": [],
   "source": [
    "scores = [90, 87, 95, 67, 100, 72, 95]\n",
    "final = drop_grade(scores, 2)\n",
    "print(numpy.mean(final)) #Is this right?"
   ]
  },
  {
   "cell_type": "code",
   "execution_count": null,
   "metadata": {
    "collapsed": true
   },
   "outputs": [],
   "source": [
    "def drop_grade(grades, num_to_drop = 1):\n",
    "    return grades[fill_in]"
   ]
  },
  {
   "cell_type": "code",
   "execution_count": null,
   "metadata": {
    "collapsed": true
   },
   "outputs": [],
   "source": [
    "scores = [90, 87, 95, 67, 100, 72, 95]\n",
    "final = drop_grade(scores, 2)\n",
    "print(numpy.mean(final)) #Is this right?"
   ]
  },
  {
   "cell_type": "code",
   "execution_count": null,
   "metadata": {
    "collapsed": true
   },
   "outputs": [],
   "source": [
    "scores = [90, 87, 95, 67, 100, 72, 95]\n",
    "final = drop_grade(scores) #What will happen here?\n",
    "print(numpy.mean(final)) #Is this right?"
   ]
  },
  {
   "cell_type": "code",
   "execution_count": null,
   "metadata": {
    "collapsed": true
   },
   "outputs": [],
   "source": [
    "def get_random_students(students_list, num = 4):\n",
    "    return random.sample(students_list, num)"
   ]
  },
  {
   "cell_type": "code",
   "execution_count": null,
   "metadata": {
    "collapsed": true
   },
   "outputs": [],
   "source": [
    "students = ['Apple', 'Banana', 'Cherries', 'Pineapple', 'Turtle', 'Kiwi', 'Tortoise']\n",
    "result = get_random_students(students)\n",
    "print(result)"
   ]
  },
  {
   "cell_type": "code",
   "execution_count": null,
   "metadata": {
    "collapsed": true
   },
   "outputs": [],
   "source": [
    "students = ['Apple', 'Banana', 'Cherries', 'Pineapple', 'Turtle', 'Kiwi', 'Tortoise']\n",
    "result = get_random_students(students, 8)\n",
    "print(result)"
   ]
  },
  {
   "cell_type": "code",
   "execution_count": null,
   "metadata": {
    "collapsed": true
   },
   "outputs": [],
   "source": [
    "def get_random_students_2(students_list, num = 4):\n",
    "    return random.choices(students_list, num)"
   ]
  },
  {
   "cell_type": "code",
   "execution_count": null,
   "metadata": {
    "collapsed": true
   },
   "outputs": [],
   "source": [
    "students = ['Apple', 'Banana', 'Cherries', 'Pineapple', 'Turtle', 'Kiwi', 'Tortoise']\n",
    "result = get_random_students_2(students)\n",
    "print(result)"
   ]
  },
  {
   "cell_type": "code",
   "execution_count": null,
   "metadata": {
    "collapsed": true
   },
   "outputs": [],
   "source": [
    "students = ['Apple', 'Banana', 'Cherries', 'Pineapple', 'Turtle', 'Kiwi', 'Tortoise']\n",
    "result = get_random_students(students, 8)\n",
    "print(result)"
   ]
  },
  {
   "cell_type": "code",
   "execution_count": null,
   "metadata": {
    "collapsed": true
   },
   "outputs": [],
   "source": [
    "def random_mutation(DNA):\n",
    "    position = random.randint(0, len(DNA))\n",
    "    new_base = random.choice('ACTG') \n",
    "    return DNA[:position] + new_base + DNA[position:]"
   ]
  },
  {
   "cell_type": "code",
   "execution_count": null,
   "metadata": {
    "collapsed": true
   },
   "outputs": [],
   "source": [
    "DNA = 'ACTGC'\n",
    "#DNA = 'ACTCGGAAGACCCGAGAGCCGAACGGACCGAAGCCCAG'\n",
    "mutant = random_mutation(DNA)\n",
    "print(mutant)"
   ]
  },
  {
   "cell_type": "code",
   "execution_count": null,
   "metadata": {
    "collapsed": true
   },
   "outputs": [],
   "source": [
    "def is_mutated(DNA, DNA2):\n",
    "    pass"
   ]
  },
  {
   "cell_type": "code",
   "execution_count": null,
   "metadata": {
    "collapsed": true
   },
   "outputs": [],
   "source": [
    "print(is_mutated(DNA, mutant))"
   ]
  },
  {
   "cell_type": "code",
   "execution_count": null,
   "metadata": {
    "collapsed": true
   },
   "outputs": [],
   "source": [
    "DNA = 'ACTGC'\n",
    "position = 3\n",
    "possibles = 'ACT'\n",
    "#test here first\n",
    "print(possibles)"
   ]
  },
  {
   "cell_type": "code",
   "execution_count": null,
   "metadata": {
    "collapsed": true
   },
   "outputs": [],
   "source": [
    "def random_mutation_2(DNA):\n",
    "    position = random.randint(0, len(DNA))\n",
    "    possibles = 'ACT'\n",
    "    #add stuff\n",
    "    new_base = random.choice('ACTG') \n",
    "    return DNA[:position] + new_base + DNA[position:]"
   ]
  }
 ],
 "metadata": {
  "kernelspec": {
   "display_name": "Python 3",
   "language": "python",
   "name": "python3"
  },
  "language_info": {
   "codemirror_mode": {
    "name": "ipython",
    "version": 3
   },
   "file_extension": ".py",
   "mimetype": "text/x-python",
   "name": "python",
   "nbconvert_exporter": "python",
   "pygments_lexer": "ipython3",
   "version": "3.7.3"
  }
 },
 "nbformat": 4,
 "nbformat_minor": 2
}
