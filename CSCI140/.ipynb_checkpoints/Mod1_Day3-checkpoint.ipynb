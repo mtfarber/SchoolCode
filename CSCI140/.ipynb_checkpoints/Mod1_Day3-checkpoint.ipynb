{
 "cells": [
  {
   "cell_type": "markdown",
   "metadata": {},
   "source": [
    "### Review strings\n",
    "\n",
    "Example:\n",
    "\n",
    "Inputs:Dana, L Willner\n",
    "\n",
    "Output: DLWillne@wm.edu\n"
   ]
  },
  {
   "cell_type": "code",
   "execution_count": 4,
   "metadata": {},
   "outputs": [
    {
     "name": "stdout",
     "output_type": "stream",
     "text": [
      "Enter your first name: m\n",
      "Enter your middle initial: t\n",
      "Enter your last name: farber\n",
      "Your WM email address is: mtfarberwm.edu\n"
     ]
    }
   ],
   "source": [
    "first = input('Enter your first name: ')\n",
    "mid = input('Enter your middle initial: ')\n",
    "last = input('Enter your last name: ')\n",
    "domain = 'wm.edu'\n",
    "email = (first[0] + mid + last[:6] + domain + '@')\n",
    "print('Your WM email address is:', email)"
   ]
  },
  {
   "cell_type": "markdown",
   "metadata": {},
   "source": [
    "### Lists"
   ]
  },
  {
   "cell_type": "code",
   "execution_count": 5,
   "metadata": {},
   "outputs": [],
   "source": [
    "info = ['A Student', '555', 3.65, 87]"
   ]
  },
  {
   "cell_type": "code",
   "execution_count": 6,
   "metadata": {},
   "outputs": [],
   "source": [
    "#Get the name"
   ]
  },
  {
   "cell_type": "code",
   "execution_count": 7,
   "metadata": {},
   "outputs": [],
   "source": [
    "#Get the GPA"
   ]
  },
  {
   "cell_type": "code",
   "execution_count": 8,
   "metadata": {},
   "outputs": [],
   "source": [
    "#Get just the name and ID in a list"
   ]
  },
  {
   "cell_type": "code",
   "execution_count": 9,
   "metadata": {},
   "outputs": [],
   "source": [
    "info[1] = '444' #Will this work?"
   ]
  },
  {
   "cell_type": "code",
   "execution_count": 10,
   "metadata": {},
   "outputs": [],
   "source": [
    "test_info = info"
   ]
  },
  {
   "cell_type": "code",
   "execution_count": 13,
   "metadata": {},
   "outputs": [
    {
     "name": "stdout",
     "output_type": "stream",
     "text": [
      "['A Student', '444', 3.65, 95]\n",
      "['A Student', '444', 3.65, 95]\n"
     ]
    }
   ],
   "source": [
    "#Update credit hours to 95\n",
    "info[-1] = 95\n",
    "print(info)\n",
    "print(test_info)\n",
    "#pythontutor.com"
   ]
  },
  {
   "cell_type": "code",
   "execution_count": 14,
   "metadata": {},
   "outputs": [],
   "source": [
    "info_2 = ['B Student', '930551555', 2.89, 45]\n",
    "info_3 = ['C','333',1.45,15]"
   ]
  },
  {
   "cell_type": "code",
   "execution_count": 16,
   "metadata": {},
   "outputs": [
    {
     "name": "stdout",
     "output_type": "stream",
     "text": [
      "['A Student', '444', 3.65, 95, 'B Student', '930551555', 2.89, 45, 'C', '333', 1.45, 15]\n",
      "['444', '930551555', '333']\n"
     ]
    }
   ],
   "source": [
    "all_info = info + info_2 + info_3 \n",
    "print(all_info)\n",
    "#Get just the IDs out of this list\n",
    "print(all_info[1::4])"
   ]
  },
  {
   "cell_type": "code",
   "execution_count": 2,
   "metadata": {},
   "outputs": [
    {
     "name": "stdout",
     "output_type": "stream",
     "text": [
      "[1, 7, 343, 2401, 16807, 117649, 823543, 5764801, 40353607]\n"
     ]
    }
   ],
   "source": [
    "#Silly example\n",
    "POWERS_OF_SEVEN = [1, 7, 49, 343, 2401, 16807, 117649, 823543, 5764801, 40353607]\n",
    "choice  = int(input('What power would you like to raise 7 to? You can choose from 0 to 9.'))\n",
    "#Desired print line: 7 to the power of 3 is 343\n",
    "#fill in\n",
    "print('7 to the power of',choice,'is',POWERS_OF_7[choice])"
   ]
  },
  {
   "cell_type": "markdown",
   "metadata": {},
   "source": [
    "Lists with strings in them"
   ]
  },
  {
   "cell_type": "code",
   "execution_count": 17,
   "metadata": {},
   "outputs": [
    {
     "name": "stdout",
     "output_type": "stream",
     "text": [
      "Your WM email address is: SBAnthon@wm.edu\n"
     ]
    }
   ],
   "source": [
    "name = ['Susan', 'B', 'Anthony']\n",
    "domain = 'wm.edu'\n",
    "email = name[0][0] + name[1] + name[2][:6] + '@' + domain\n",
    "print('Your WM email address is:', email)"
   ]
  },
  {
   "cell_type": "markdown",
   "metadata": {},
   "source": [
    "## Practice debugging"
   ]
  },
  {
   "cell_type": "code",
   "execution_count": 24,
   "metadata": {},
   "outputs": [
    {
     "name": "stdout",
     "output_type": "stream",
     "text": [
      "Enter first number: 1\n",
      "Enter second number: 1\n",
      "Enter third number: 1\n",
      "The standard deviation is 0.0\n"
     ]
    }
   ],
   "source": [
    "num_one = float(input('Enter first number: ')) #input\n",
    "num_two = float(input('Enter second number: ')) #input\n",
    "num_three = float(input('Enter third number: ')) #input\n",
    "data = [num_one, num_two, num_three] #put in a list\n",
    "mean = sum(data)/len(data) #find the mean\n",
    "stdev = (((data[0]-mean)**2 + (data[1]-mean)**2 + (data[2]-mean)**2)/3)**0.5 #computation\n",
    "print('The standard deviation is ' + str(stdev)) #printing output"
   ]
  },
  {
   "cell_type": "code",
   "execution_count": null,
   "metadata": {
    "collapsed": true
   },
   "outputs": [],
   "source": []
  }
 ],
 "metadata": {
  "kernelspec": {
   "display_name": "Python 3",
   "language": "python",
   "name": "python3"
  },
  "language_info": {
   "codemirror_mode": {
    "name": "ipython",
    "version": 3
   },
   "file_extension": ".py",
   "mimetype": "text/x-python",
   "name": "python",
   "nbconvert_exporter": "python",
   "pygments_lexer": "ipython3",
   "version": "3.7.3"
  }
 },
 "nbformat": 4,
 "nbformat_minor": 2
}
