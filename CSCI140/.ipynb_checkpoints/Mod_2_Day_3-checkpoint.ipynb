{
 "cells": [
  {
   "cell_type": "code",
   "execution_count": 12,
   "metadata": {},
   "outputs": [],
   "source": [
    "from random import choice, randint"
   ]
  },
  {
   "cell_type": "code",
   "execution_count": 44,
   "metadata": {},
   "outputs": [],
   "source": [
    "#Input, string in format of 12hr time: '4:30 PM'\n",
    "#Output, string in format of 24hr time: '1630'\n",
    "def military(time):\n",
    "    hours = int(time[:-6])\n",
    "    minutes = time[-5:-3]\n",
    "    meridian = time[-2:]\n",
    "    if hours < 12 and meridian == 'PM':\n",
    "        hours = str(hours + 12)\n",
    "    elif hours == 12 and meridian == 'AM':\n",
    "        if minutes =='00':\n",
    "            hours = '24'\n",
    "        else:\n",
    "            hours = '00'\n",
    "    else:\n",
    "        hours = str(hours)\n",
    "        print('else')\n",
    "    if len(hours) < 2:\n",
    "        hours = '0' + hours\n",
    "    return hours + minutes\n",
    "    #print(hours, minutes, meridian, 'inside the function')"
   ]
  },
  {
   "cell_type": "code",
   "execution_count": 45,
   "metadata": {},
   "outputs": [
    {
     "name": "stdout",
     "output_type": "stream",
     "text": [
      "else\n",
      "0230\n"
     ]
    }
   ],
   "source": [
    "#do this here first\n",
    "#time = '2:30 PM'\n",
    "#print(military(time))\n",
    "#time_2 = '12:15 PM'\n",
    "#print(military(time_2))\n",
    "time_3 = '2:30 AM'\n",
    "print(military(time_3))\n",
    "#hours = \n",
    "#minutes = \n",
    "#meridian = "
   ]
  },
  {
   "cell_type": "code",
   "execution_count": 9,
   "metadata": {},
   "outputs": [
    {
     "name": "stdout",
     "output_type": "stream",
     "text": [
      "True\n",
      "<class 'bool'>\n"
     ]
    }
   ],
   "source": [
    "#scratch work\n",
    "hours = 12\n",
    "is_12 = (hours == 12)\n",
    "print(is_12)\n",
    "print(type(is_12))"
   ]
  },
  {
   "cell_type": "code",
   "execution_count": 22,
   "metadata": {},
   "outputs": [
    {
     "name": "stdout",
     "output_type": "stream",
     "text": [
      "12\n",
      "13\n"
     ]
    }
   ],
   "source": [
    "#scratch work\n",
    "hours = 1\n",
    "meridian = 'PM'\n",
    "if hours < 12 and meridian == 'PM':\n",
    "    hours += 12\n",
    "    print('12')\n",
    "print (hours)"
   ]
  },
  {
   "cell_type": "code",
   "execution_count": 33,
   "metadata": {},
   "outputs": [
    {
     "name": "stdout",
     "output_type": "stream",
     "text": [
      "if block\n",
      "00\n"
     ]
    }
   ],
   "source": [
    "#scratch work\n",
    "hours = 12\n",
    "minutes = '00'\n",
    "meridian = 'AM'\n",
    "if hours == 12 and meridian == 'AM':\n",
    "    print('if block')\n",
    "    if minutes =='00':\n",
    "        hours = '24'\n",
    "        print('second if block')\n",
    "    else:\n",
    "        hours = '00'\n",
    "print (hours)"
   ]
  },
  {
   "cell_type": "code",
   "execution_count": 24,
   "metadata": {
    "collapsed": true
   },
   "outputs": [],
   "source": [
    "def random_mutation(DNA):\n",
    "    position = random.randint(0, len(DNA))\n",
    "    base = random.choice('ACTG') \n",
    "    return DNA[:position] + base + DNA[position:]"
   ]
  },
  {
   "cell_type": "code",
   "execution_count": 30,
   "metadata": {},
   "outputs": [
    {
     "name": "stdout",
     "output_type": "stream",
     "text": [
      "AT\n"
     ]
    }
   ],
   "source": [
    "DNA = 'AT'\n",
    "mutant = random_mutation_better(DNA)\n",
    "print(mutant)"
   ]
  },
  {
   "cell_type": "code",
   "execution_count": 5,
   "metadata": {
    "collapsed": true
   },
   "outputs": [],
   "source": [
    "def random_mutation_better(DNA):\n",
    "    position = random.randint(0, len(DNA)-1)\n",
    "    #Fix this so that it only chooses from the appropriate bases\n",
    "    #There's other mistakes in here too....\n",
    "    #print(position)\n",
    "    if position == 'A':\n",
    "        base = random.choice('CTG')\n",
    "    if position == 'C':\n",
    "        base = random.choice('TGA')\n",
    "    if position == 'G':\n",
    "        base = random.choice('ATC')\n",
    "    else:\n",
    "        base = random.choice('GAC')\n",
    "    #print(base)\n",
    "    return DNA[:position] + base + DNA[position+1:]"
   ]
  },
  {
   "cell_type": "code",
   "execution_count": 23,
   "metadata": {},
   "outputs": [
    {
     "name": "stdout",
     "output_type": "stream",
     "text": [
      "C\n"
     ]
    }
   ],
   "source": [
    "DNA = 'A'\n",
    "mutant = random_mutation_better(DNA)\n",
    "print(mutant)"
   ]
  },
  {
   "cell_type": "code",
   "execution_count": 3,
   "metadata": {
    "collapsed": true
   },
   "outputs": [],
   "source": [
    "def is_mutated(DNA, DNA2):\n",
    "    return DNA != DNA2"
   ]
  },
  {
   "cell_type": "code",
   "execution_count": null,
   "metadata": {
    "collapsed": true
   },
   "outputs": [],
   "source": [
    "DNA = 'AT'\n",
    "mutant = random_mutation_better(DNA)\n",
    "print(mutant)"
   ]
  }
 ],
 "metadata": {
  "kernelspec": {
   "display_name": "Python 3",
   "language": "python",
   "name": "python3"
  },
  "language_info": {
   "codemirror_mode": {
    "name": "ipython",
    "version": 3
   },
   "file_extension": ".py",
   "mimetype": "text/x-python",
   "name": "python",
   "nbconvert_exporter": "python",
   "pygments_lexer": "ipython3",
   "version": "3.7.3"
  }
 },
 "nbformat": 4,
 "nbformat_minor": 2
}
