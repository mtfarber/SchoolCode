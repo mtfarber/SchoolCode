{
 "cells": [
  {
   "cell_type": "code",
   "execution_count": 1,
   "metadata": {},
   "outputs": [],
   "source": [
    "import random\n",
    "\n",
    "#import lines go at the top\n",
    "#do the readings to learn about different formats\n",
    "#What's the difference in Python Tutor?"
   ]
  },
  {
   "cell_type": "markdown",
   "metadata": {},
   "source": [
    "### Built-in"
   ]
  },
  {
   "cell_type": "code",
   "execution_count": 2,
   "metadata": {},
   "outputs": [],
   "source": [
    "students = ['George', 'Turtle', 'Tortoise', 'Potato', 'Terrapin', 'Yam']"
   ]
  },
  {
   "cell_type": "code",
   "execution_count": 3,
   "metadata": {},
   "outputs": [
    {
     "name": "stdout",
     "output_type": "stream",
     "text": [
      "6\n"
     ]
    }
   ],
   "source": [
    "a = len(students)\n",
    "print(a)"
   ]
  },
  {
   "cell_type": "markdown",
   "metadata": {},
   "source": [
    "### Imported"
   ]
  },
  {
   "cell_type": "code",
   "execution_count": 6,
   "metadata": {},
   "outputs": [
    {
     "name": "stdout",
     "output_type": "stream",
     "text": [
      "Turtle\n",
      "Terrapin\n"
     ]
    }
   ],
   "source": [
    "students = ['George', 'Turtle', 'Tortoise', 'Potato', 'Terrapin', 'Yam']\n",
    "selected = random.choice(students)\n",
    "print(selected)\n",
    "selected_2 = random.choice(students)\n",
    "print(selected_2)"
   ]
  },
  {
   "cell_type": "markdown",
   "metadata": {},
   "source": [
    "### Writing our own functions"
   ]
  },
  {
   "cell_type": "code",
   "execution_count": 7,
   "metadata": {},
   "outputs": [
    {
     "name": "stdout",
     "output_type": "stream",
     "text": [
      "How much does your coffee cost? 3.5\n",
      "How many days per year? 100\n",
      "You spent 350.0 dollars on coffee this year\n"
     ]
    }
   ],
   "source": [
    "cost = float(input('How much does your coffee cost? '))\n",
    "days = int(input('How many days per year? '))\n",
    "total = cost * days\n",
    "print('You spent',total,'dollars on coffee this year')"
   ]
  },
  {
   "cell_type": "code",
   "execution_count": 8,
   "metadata": {},
   "outputs": [],
   "source": [
    "#function definition\n",
    "#def nam_you_pick(arguments):\n",
    "def coffee(cost,days):\n",
    "    total = cost * days\n",
    "    return total\n",
    "print('Hi')\n",
    "print('This is the best')\n",
    "print('In the function')"
   ]
  },
  {
   "cell_type": "code",
   "execution_count": 10,
   "metadata": {},
   "outputs": [
    {
     "name": "stdout",
     "output_type": "stream",
     "text": [
      "350.0\n",
      "3500.0\n"
     ]
    }
   ],
   "source": [
    "#function invocation/calling the function/using the function\n",
    "#main program\n",
    "test = coffee(1.75, 200)\n",
    "print(test)\n",
    "print(test*10)"
   ]
  },
  {
   "cell_type": "code",
   "execution_count": null,
   "metadata": {
    "collapsed": true
   },
   "outputs": [],
   "source": [
    "result = coffee(3.25, 100)\n",
    "ten_years = result*10\n",
    "print(ten_years)"
   ]
  },
  {
   "cell_type": "code",
   "execution_count": null,
   "metadata": {
    "collapsed": true
   },
   "outputs": [],
   "source": [
    "#Rewrite with print"
   ]
  },
  {
   "cell_type": "code",
   "execution_count": null,
   "metadata": {
    "collapsed": true
   },
   "outputs": [],
   "source": [
    "result = coffee(3.25, 100)\n",
    "print('You spent', result, 'on coffee this year.')"
   ]
  },
  {
   "cell_type": "code",
   "execution_count": null,
   "metadata": {
    "collapsed": true
   },
   "outputs": [],
   "source": [
    "#Print vs. return\n",
    "result = coffee(3.25, 100)\n",
    "print('You spent', result, 'on coffee this year.')"
   ]
  },
  {
   "cell_type": "code",
   "execution_count": null,
   "metadata": {
    "collapsed": true
   },
   "outputs": [],
   "source": [
    "result = coffee(3.25, 100)\n",
    "ten_years = result*10"
   ]
  }
 ],
 "metadata": {
  "kernelspec": {
   "display_name": "Python 3",
   "language": "python",
   "name": "python3"
  },
  "language_info": {
   "codemirror_mode": {
    "name": "ipython",
    "version": 3
   },
   "file_extension": ".py",
   "mimetype": "text/x-python",
   "name": "python",
   "nbconvert_exporter": "python",
   "pygments_lexer": "ipython3",
   "version": "3.7.3"
  }
 },
 "nbformat": 4,
 "nbformat_minor": 2
}
