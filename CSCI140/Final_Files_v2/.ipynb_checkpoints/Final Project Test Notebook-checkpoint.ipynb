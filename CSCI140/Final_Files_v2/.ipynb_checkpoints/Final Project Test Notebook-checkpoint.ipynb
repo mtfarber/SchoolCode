{
 "cells": [
  {
   "cell_type": "code",
   "execution_count": 99,
   "metadata": {},
   "outputs": [],
   "source": [
    "def std_dev(filename, n = True): #don't change this\n",
    "    try:\n",
    "        with open(filename, 'r', encoding = 'UTF-8') as file: #don't change this\n",
    "            data = file.read() #don't change this\n",
    "        try:\n",
    "            data = [int(x) for x in data.split('\\n')] #process data from file\n",
    "        except ValueError as ve:\n",
    "            print(ve)\n",
    "            print('The file has a letter inside or is empty')\n",
    "        else:\n",
    "            mean = sum(data)/len(data) #find the mean\n",
    "            sum_sq = 0\n",
    "            for item in data: #find squared difference for each item, i.e. difference between item and mean squared        \n",
    "                sum_sq += ((item - mean)**2)\n",
    "            #Mean of sq diffs for both cases\n",
    "            try:\n",
    "                if n: \n",
    "                    mean_sq = sum_sq/len(data)\n",
    "                else:\n",
    "                    mean_sq = sum_sq/(len(data)-1)\n",
    "                return round(mean_sq**0.5,4) #return sqrt of mean of sq diffs\n",
    "            except ZeroDivisionError as zde:\n",
    "                print(zde)\n",
    "                print('Can not calculate standard deviation with one number.')\n",
    "    except IOError as ie:\n",
    "        print(ie)\n",
    "        print('The file you are looking for does not exist.')"
   ]
  },
  {
   "cell_type": "code",
   "execution_count": 100,
   "metadata": {},
   "outputs": [
    {
     "name": "stdout",
     "output_type": "stream",
     "text": [
      "15.8291\n"
     ]
    }
   ],
   "source": [
    "print(std_dev('test_data_negative.txt'))"
   ]
  },
  {
   "cell_type": "code",
   "execution_count": null,
   "metadata": {},
   "outputs": [],
   "source": [
    "'''\n",
    "Exception Handling:\n",
    "\n",
    "Test Code:\n",
    "When there are negative numbers\n",
    "no numbers in the file\n",
    "string in the file\n",
    "only one number when n is true and false\n",
    "file doesn't exist\n",
    "'''"
   ]
  }
 ],
 "metadata": {
  "kernelspec": {
   "display_name": "Python 3",
   "language": "python",
   "name": "python3"
  },
  "language_info": {
   "codemirror_mode": {
    "name": "ipython",
    "version": 3
   },
   "file_extension": ".py",
   "mimetype": "text/x-python",
   "name": "python",
   "nbconvert_exporter": "python",
   "pygments_lexer": "ipython3",
   "version": "3.7.4"
  }
 },
 "nbformat": 4,
 "nbformat_minor": 2
}
