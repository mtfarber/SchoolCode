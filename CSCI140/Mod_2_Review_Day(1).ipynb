{
 "cells": [
  {
   "cell_type": "code",
   "execution_count": 25,
   "metadata": {},
   "outputs": [],
   "source": [
    "import random"
   ]
  },
  {
   "cell_type": "markdown",
   "metadata": {},
   "source": [
    "### PSA: Why we don't use is when we mean =="
   ]
  },
  {
   "cell_type": "code",
   "execution_count": 4,
   "metadata": {},
   "outputs": [
    {
     "name": "stdout",
     "output_type": "stream",
     "text": [
      "4349390464 4349390464\n",
      "True\n",
      "True\n"
     ]
    }
   ],
   "source": [
    "a = 72\n",
    "b = 72\n",
    "print(a == b)\n",
    "print(a is b)"
   ]
  },
  {
   "cell_type": "code",
   "execution_count": 2,
   "metadata": {},
   "outputs": [
    {
     "name": "stdout",
     "output_type": "stream",
     "text": [
      "True\n",
      "True\n"
     ]
    }
   ],
   "source": [
    "a = 'turtle'\n",
    "b = 'turtle'\n",
    "print(a == b)\n",
    "print(a is b)"
   ]
  },
  {
   "cell_type": "code",
   "execution_count": 3,
   "metadata": {},
   "outputs": [
    {
     "name": "stdout",
     "output_type": "stream",
     "text": [
      "4388394232 4388394112\n",
      "True\n",
      "False\n"
     ]
    }
   ],
   "source": [
    "a = 42.6\n",
    "b = 42.6\n",
    "print(id(a), id(b))\n",
    "print(a==b)\n",
    "print(a is b)"
   ]
  },
  {
   "cell_type": "code",
   "execution_count": 5,
   "metadata": {},
   "outputs": [
    {
     "name": "stdout",
     "output_type": "stream",
     "text": [
      "4388490864 4388490512\n",
      "True\n",
      "False\n"
     ]
    }
   ],
   "source": [
    "a = 989\n",
    "b = 989\n",
    "print(id(a), id(b))\n",
    "print(a==b)\n",
    "print(a is b)"
   ]
  },
  {
   "cell_type": "markdown",
   "metadata": {},
   "source": [
    "### How to test a function"
   ]
  },
  {
   "cell_type": "code",
   "execution_count": 12,
   "metadata": {},
   "outputs": [],
   "source": [
    "#define the function\n",
    "def my_perfect_mult_func(a, b):\n",
    "    result = 0\n",
    "    for i in range(a):\n",
    "        result +=b\n",
    "    return result\n",
    "#call the function"
   ]
  },
  {
   "cell_type": "code",
   "execution_count": 13,
   "metadata": {},
   "outputs": [
    {
     "name": "stdout",
     "output_type": "stream",
     "text": [
      "30\n"
     ]
    }
   ],
   "source": [
    "print(my_perfect_mult_func(5, 6))"
   ]
  },
  {
   "cell_type": "markdown",
   "metadata": {},
   "source": [
    "### About return"
   ]
  },
  {
   "cell_type": "code",
   "execution_count": 14,
   "metadata": {},
   "outputs": [
    {
     "name": "stdout",
     "output_type": "stream",
     "text": [
      "Enter a number: 6\n"
     ]
    },
    {
     "ename": "SyntaxError",
     "evalue": "'return' outside function (<ipython-input-14-46fb2a968974>, line 3)",
     "output_type": "error",
     "traceback": [
      "\u001b[0;36m  File \u001b[0;32m\"<ipython-input-14-46fb2a968974>\"\u001b[0;36m, line \u001b[0;32m3\u001b[0m\n\u001b[0;31m    return num**0.5\u001b[0m\n\u001b[0m    ^\u001b[0m\n\u001b[0;31mSyntaxError\u001b[0m\u001b[0;31m:\u001b[0m 'return' outside function\n"
     ]
    }
   ],
   "source": [
    "num = input('Enter a number: ')\n",
    "if num > 0:\n",
    "    return num**0.5\n",
    "elif num == 0:\n",
    "    return 0\n",
    "else:\n",
    "    return str((-num)**0.5) + 'j'"
   ]
  },
  {
   "cell_type": "code",
   "execution_count": null,
   "metadata": {
    "collapsed": true
   },
   "outputs": [],
   "source": [
    "def funky(town, place):\n",
    "    answer = town + place\n",
    "    return answer"
   ]
  },
  {
   "cell_type": "code",
   "execution_count": null,
   "metadata": {
    "collapsed": true
   },
   "outputs": [],
   "source": [
    "funky(3,5)\n",
    "print(answer)"
   ]
  },
  {
   "cell_type": "markdown",
   "metadata": {},
   "source": [
    "### From while to for"
   ]
  },
  {
   "cell_type": "code",
   "execution_count": 93,
   "metadata": {},
   "outputs": [],
   "source": [
    "def empty_r(width, height):\n",
    "    i = 0\n",
    "    while(i<height):\n",
    "        if(i == 0 or i == height-1):\n",
    "            print('* '*width)\n",
    "        else: \n",
    "            print('* '+ (width-2)*'  ' +'*')\n",
    "        i += 1"
   ]
  },
  {
   "cell_type": "code",
   "execution_count": 99,
   "metadata": {},
   "outputs": [],
   "source": [
    "def empty_r(width, height):\n",
    "    for i in range(height):\n",
    "        if(i == 0 or i == height-1):\n",
    "            print('* '*width)\n",
    "        else: \n",
    "            print('* '+ (width-2)*'  ' +'*')"
   ]
  },
  {
   "cell_type": "code",
   "execution_count": 100,
   "metadata": {},
   "outputs": [
    {
     "name": "stdout",
     "output_type": "stream",
     "text": [
      "* * * * \n",
      "*     *\n",
      "* * * * \n"
     ]
    }
   ],
   "source": [
    "empty_r(4,3)"
   ]
  },
  {
   "cell_type": "code",
   "execution_count": 101,
   "metadata": {},
   "outputs": [
    {
     "name": "stdout",
     "output_type": "stream",
     "text": [
      "* * * * * \n",
      "*       *\n",
      "*       *\n",
      "*       *\n",
      "*       *\n",
      "*       *\n",
      "*       *\n",
      "*       *\n",
      "*       *\n",
      "* * * * * \n"
     ]
    }
   ],
   "source": [
    "empty_r(5,10)"
   ]
  },
  {
   "cell_type": "code",
   "execution_count": 96,
   "metadata": {},
   "outputs": [
    {
     "name": "stdout",
     "output_type": "stream",
     "text": [
      "* * * * * \n",
      "*       *\n",
      "*       *\n",
      "*       *\n",
      "* * * * * \n"
     ]
    }
   ],
   "source": [
    "empty_r(5,5)"
   ]
  },
  {
   "cell_type": "markdown",
   "metadata": {},
   "source": [
    "### Why doesn't this work?\n"
   ]
  },
  {
   "cell_type": "code",
   "execution_count": null,
   "metadata": {
    "collapsed": true
   },
   "outputs": [],
   "source": [
    "#Input, RNA sequence - string that uses A,U,C,G\n",
    "#Output, Position of start codon: AUG - either position of the A in AUG or returns None if no AUG"
   ]
  },
  {
   "cell_type": "code",
   "execution_count": 22,
   "metadata": {},
   "outputs": [],
   "source": [
    "def find_start(RNA):\n",
    "    for i in range(len(RNA)):\n",
    "        if RNA[i:i+3] == 'AUG':\n",
    "            return i"
   ]
  },
  {
   "cell_type": "code",
   "execution_count": 23,
   "metadata": {},
   "outputs": [],
   "source": [
    "RNA = 'AGGAUGGGGCCCUGAAAAT'\n",
    "RNA_2 = 'AUG'"
   ]
  },
  {
   "cell_type": "code",
   "execution_count": 24,
   "metadata": {},
   "outputs": [
    {
     "name": "stdout",
     "output_type": "stream",
     "text": [
      "0\n",
      "1\n",
      "2\n",
      "3\n",
      "3\n",
      "0\n",
      "0\n"
     ]
    }
   ],
   "source": [
    "print(find_start(RNA))\n",
    "print(find_start(RNA_2))"
   ]
  },
  {
   "cell_type": "code",
   "execution_count": null,
   "metadata": {
    "collapsed": true
   },
   "outputs": [],
   "source": [
    "#Input: RNA sequencing\n",
    "#Output: codons from open reading frame, start with AUG, end with a stop codon, if no start or no stop, return None\n",
    "def make_ORF_codons(RNA):\n",
    "    start_pos = find_start(RNA)\n",
    "    if start_pos < 0:\n",
    "        codons == []\n",
    "        for i in range(0,len(RNA),3):\n",
    "            group = RNA[i:i+2]\n",
    "            if group != ['UGA', 'UAA', 'UAG']:\n",
    "                codons += group\n",
    "            else:\n",
    "                codons += 'STOP'\n",
    "            return codons"
   ]
  },
  {
   "cell_type": "code",
   "execution_count": null,
   "metadata": {
    "collapsed": true
   },
   "outputs": [],
   "source": [
    "print(make_ORF_codons(RNA))\n",
    "print(make_ORF_codons(RNA_2))"
   ]
  },
  {
   "cell_type": "markdown",
   "metadata": {},
   "source": [
    "### Rock, Paper, Scissors game"
   ]
  },
  {
   "cell_type": "code",
   "execution_count": 49,
   "metadata": {},
   "outputs": [],
   "source": [
    "def computer_pick():\n",
    "    random_int = random.randint(1,9)\n",
    "    #result = ''\n",
    "    if(random_int <=3):\n",
    "        return 'paper'\n",
    "    elif(random_int <=6):\n",
    "        return 'rock'\n",
    "    else:\n",
    "        return 'scissors'"
   ]
  },
  {
   "cell_type": "code",
   "execution_count": 56,
   "metadata": {},
   "outputs": [
    {
     "name": "stdout",
     "output_type": "stream",
     "text": [
      "Player\n"
     ]
    }
   ],
   "source": [
    "def winner(player, computer):\n",
    "    if(player == 'paper' and computer == 'rock' or player == 'scissors' and computer == 'paper' \\\n",
    "       or player == 'rock' and computer == 'scissors'):\n",
    "        return 'Player'\n",
    "    elif(player == computer):\n",
    "        return 'Tied - Nobody'\n",
    "    return 'Computer'"
   ]
  },
  {
   "cell_type": "code",
   "execution_count": 67,
   "metadata": {},
   "outputs": [
    {
     "name": "stdout",
     "output_type": "stream",
     "text": [
      "Enter rock, paper, or scissors to play or 0 to quit.0\n"
     ]
    }
   ],
   "source": [
    "choice = input('Enter rock, paper, or scissors to play or 0 to quit.')\n",
    "while choice in ['rock', 'paper','scissors'] or choice != '0':\n",
    "    print(winner(choice, computer_pick()), 'wins!')\n",
    "    choice = input('Enter rock, paper, or scissors to play or 0 to quit.')"
   ]
  },
  {
   "cell_type": "code",
   "execution_count": 64,
   "metadata": {},
   "outputs": [
    {
     "name": "stdout",
     "output_type": "stream",
     "text": [
      "Enter rock, paper, or scissors to play or 0 to quit: 0\n"
     ]
    }
   ],
   "source": [
    "choice = input('Enter rock, paper, or scissors to play or 0 to quit: ')\n",
    "while choice in ['rock','paper','scissors'] and choice != '0':\n",
    "    print(winner(choice,computer_pick()), 'wins!')\n",
    "    choice = input('Enter rock, paper, or scissors to play or 0 to quit: ')"
   ]
  },
  {
   "cell_type": "code",
   "execution_count": null,
   "metadata": {
    "collapsed": true
   },
   "outputs": [],
   "source": []
  }
 ],
 "metadata": {
  "kernelspec": {
   "display_name": "Python 3",
   "language": "python",
   "name": "python3"
  },
  "language_info": {
   "codemirror_mode": {
    "name": "ipython",
    "version": 3
   },
   "file_extension": ".py",
   "mimetype": "text/x-python",
   "name": "python",
   "nbconvert_exporter": "python",
   "pygments_lexer": "ipython3",
   "version": "3.7.3"
  }
 },
 "nbformat": 4,
 "nbformat_minor": 2
}
