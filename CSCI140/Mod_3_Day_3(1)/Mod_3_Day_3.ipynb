{
 "cells": [
  {
   "cell_type": "markdown",
   "metadata": {},
   "source": [
    "### Debugging and review"
   ]
  },
  {
   "cell_type": "code",
   "execution_count": 15,
   "metadata": {},
   "outputs": [],
   "source": [
    "def get_emails(filename):\n",
    "    with open(filename, 'r') as content: #opens the file, content represents the file and isn't a string\n",
    "        emails = []\n",
    "        #emails = set()\n",
    "        tokens = content.read().split() #get data from file, split text into tokens; tokens is a list\n",
    "        for token in tokens: #token will be one string from list of strings\n",
    "            if '@' in token: #look for @, tell us if it is an email address\n",
    "                token = token.translate(token.maketrans('','','<>/\"\\'')) #processing #Do not change token.maketrans('','','<>/\"\\'')\n",
    "                emails.append(token.upper()) #add each token that is an email to the list of results\n",
    "                #emails.add(token.upper())\n",
    "    return emails"
   ]
  },
  {
   "cell_type": "code",
   "execution_count": 13,
   "metadata": {},
   "outputs": [
    {
     "name": "stdout",
     "output_type": "stream",
     "text": [
      "['9056107.1075840200683.JAVAMAIL.EVANS@THYME', 'ROSALEE.FLEMING@ENRON.COM', 'MMILKEN@KNOWLEDGEU.COM', 'MMILKEN@KNOWLEDGEU.COM', 'MMILKEN@KNOWLEDGEU.COM', 'LAYCORPENRON@ENRON', '19511586.1075840200934.JAVAMAIL.EVANS@THYME', 'NO.ADDRESS@ENRON.COM', 'KENNETH.LAY@ENRON.COM,', 'JLAYWP@AOL.COM,', 'MRSLINDA@LPLPI.COM,', 'SHARON@TRAVELPARK.COM', 'JLVITTOR@MOFO.COM', 'JLVITTOR@MOFO.COM', 'ENRON_DEVELOPMENT@CCMAIL', 'JLAYWP@AOL.COM', 'ENRON_DEVELOPMENT@CCMAIL,', 'MRSLINDA@LPLPI.COM', 'ENRON_DEVELOPMENT@CCMAIL,', 'SHARON@TRAVELPARK.COM', 'ENRON_DEVELOPMENT@CCMAIL', 'JLVITTOR@MOFO.COM', 'ENRON_DEVELOPMENT@CCMAIL', '15791788.1075840203209.JAVAMAIL.EVANS@THYME', 'JEFFREY.GARTEN@YALE.EDU', 'KENNETH.LAY@ENRON.COM', 'ROSALEE.FLEMING@ENRON.COM', 'ROSALEE.FLEMING@ENRON.COM', 'JEFFREY.GARTEN@YALE.EDU', 'KENNETH.LAY@ENRON.COM', 'KENNETH.LAY@ENRON.COM', 'ROSALEE.FLEMING@ENRON.COM', 'ROSALEE.FLEMING@ENRON.COM', '28040030.1075840228655.JAVAMAIL.EVANS@THYME', 'RALPH.BLAKEMORE@ENRON.COM', 'KENNETH.LAY@ENRON.COM,', 'JEFF.SKILLING@ENRON.COM']\n"
     ]
    }
   ],
   "source": [
    "addresses = get_emails('enron_excerpt.txt')\n",
    "print(addresses)"
   ]
  },
  {
   "cell_type": "code",
   "execution_count": null,
   "metadata": {
    "collapsed": true
   },
   "outputs": [],
   "source": [
    "'''Expected output:\n",
    "\n",
    "['9056107.1075840200683.JAVAMAIL.EVANS@THYME', 'ROSALEE.FLEMING@ENRON.COM', \n",
    "'MMILKEN@KNOWLEDGEU.COM', 'MMILKEN@KNOWLEDGEU.COM', 'MMILKEN@KNOWLEDGEU.COM',\n",
    " 'LAYCORPENRON@ENRON', '19511586.1075840200934.JAVAMAIL.EVANS@THYME',\n",
    "  'NO.ADDRESS@ENRON.COM', 'KENNETH.LAY@ENRON.COM,', 'JLAYWP@AOL.COM,',\n",
    "   'MRSLINDA@LPLPI.COM,', 'SHARON@TRAVELPARK.COM', 'JLVITTOR@MOFO.COM', \n",
    "   'JLVITTOR@MOFO.COM', 'ENRON_DEVELOPMENT@CCMAIL', 'JLAYWP@AOL.COM',\n",
    "    'ENRON_DEVELOPMENT@CCMAIL,', 'MRSLINDA@LPLPI.COM', 'ENRON_DEVELOPMENT@CCMAIL,', \n",
    "    'SHARON@TRAVELPARK.COM', 'ENRON_DEVELOPMENT@CCMAIL', 'JLVITTOR@MOFO.COM', \n",
    "    'ENRON_DEVELOPMENT@CCMAIL', '15791788.1075840203209.JAVAMAIL.EVANS@THYME',\n",
    "     'JEFFREY.GARTEN@YALE.EDU', 'KENNETH.LAY@ENRON.COM', 'ROSALEE.FLEMING@ENRON.COM', \n",
    "     'ROSALEE.FLEMING@ENRON.COM', 'JEFFREY.GARTEN@YALE.EDU', 'KENNETH.LAY@ENRON.COM', \n",
    "     'KENNETH.LAY@ENRON.COM', 'ROSALEE.FLEMING@ENRON.COM', 'ROSALEE.FLEMING@ENRON.COM', \n",
    "     '28040030.1075840228655.JAVAMAIL.EVANS@THYME', 'RALPH.BLAKEMORE@ENRON.COM',\n",
    "      'KENNETH.LAY@ENRON.COM,', 'JEFF.SKILLING@ENRON.COM']\n",
    "      \n",
    "'''"
   ]
  },
  {
   "cell_type": "markdown",
   "metadata": {},
   "source": [
    "### Dictionaries"
   ]
  },
  {
   "cell_type": "code",
   "execution_count": null,
   "metadata": {
    "collapsed": true
   },
   "outputs": [],
   "source": [
    "text = 'This is some DNA sequence: ACT-G--GCAGGX-XXXX'\n",
    "table = text.maketrans('X', 'N', '-')\n",
    "print(table)\n",
    "print(text.translate(table))\n"
   ]
  },
  {
   "cell_type": "code",
   "execution_count": 16,
   "metadata": {},
   "outputs": [
    {
     "name": "stdout",
     "output_type": "stream",
     "text": [
      "Bacteroidetes\n",
      "25000\n"
     ]
    }
   ],
   "source": [
    "phyla = ['Actinobacteria', 'Bacteroidetes', 'Firmicutes', 'Proteobacteria', 'Verrucomicrobia']\n",
    "abund = [1000, 25000, 35000, 22000, 10]\n",
    "print(phyla[1])\n",
    "print(abund[1])"
   ]
  },
  {
   "cell_type": "code",
   "execution_count": 17,
   "metadata": {},
   "outputs": [],
   "source": [
    "abundance = {'Actinobacteria': 1000, 'Bacteroidetes': 25000, 'Firmicutes': 35000, 'Proteobacteria': 22000, \\\n",
    "            'Verrucomicrobia': 10}"
   ]
  },
  {
   "cell_type": "code",
   "execution_count": 18,
   "metadata": {},
   "outputs": [
    {
     "name": "stdout",
     "output_type": "stream",
     "text": [
      "25000\n"
     ]
    }
   ],
   "source": [
    "print(abundance['Bacteroidetes'])"
   ]
  },
  {
   "cell_type": "code",
   "execution_count": 19,
   "metadata": {},
   "outputs": [
    {
     "ename": "KeyError",
     "evalue": "'TM7'",
     "output_type": "error",
     "traceback": [
      "\u001b[0;31m---------------------------------------------------------------------------\u001b[0m",
      "\u001b[0;31mKeyError\u001b[0m                                  Traceback (most recent call last)",
      "\u001b[0;32m<ipython-input-19-bcb3fc27b577>\u001b[0m in \u001b[0;36m<module>\u001b[0;34m\u001b[0m\n\u001b[0;32m----> 1\u001b[0;31m \u001b[0mprint\u001b[0m\u001b[0;34m(\u001b[0m\u001b[0mabundance\u001b[0m\u001b[0;34m[\u001b[0m\u001b[0;34m'TM7'\u001b[0m\u001b[0;34m]\u001b[0m\u001b[0;34m)\u001b[0m\u001b[0;34m\u001b[0m\u001b[0;34m\u001b[0m\u001b[0m\n\u001b[0m",
      "\u001b[0;31mKeyError\u001b[0m: 'TM7'"
     ]
    }
   ],
   "source": [
    "print(abundance['TM7'])"
   ]
  },
  {
   "cell_type": "code",
   "execution_count": 20,
   "metadata": {},
   "outputs": [
    {
     "name": "stdout",
     "output_type": "stream",
     "text": [
      "None\n"
     ]
    }
   ],
   "source": [
    "print(abundance.get('TM7'))"
   ]
  },
  {
   "cell_type": "code",
   "execution_count": 21,
   "metadata": {},
   "outputs": [
    {
     "name": "stdout",
     "output_type": "stream",
     "text": [
      "{'Actinobacteria': 1000, 'Bacteroidetes': 25000, 'Firmicutes': 65656, 'Proteobacteria': 22000, 'Verrucomicrobia': 10, 'TM7': 2}\n"
     ]
    }
   ],
   "source": [
    "abundance['TM7'] = 2 #add\n",
    "abundance['Firmicutes'] = 65656 #change\n",
    "print(abundance)"
   ]
  },
  {
   "cell_type": "markdown",
   "metadata": {},
   "source": [
    "### Building a dictionary from a file"
   ]
  },
  {
   "cell_type": "code",
   "execution_count": null,
   "metadata": {
    "collapsed": true
   },
   "outputs": [],
   "source": [
    "#LOOK AT THE FILE\n",
    "#IF TOO BIG TO OPEN, DO THIS"
   ]
  },
  {
   "cell_type": "code",
   "execution_count": 22,
   "metadata": {},
   "outputs": [
    {
     "name": "stdout",
     "output_type": "stream",
     "text": [
      "Sample 0\tBacteroidetes\t43\n",
      "Sample 0\tFirmicutes\t43\n",
      "Sample 0\tProteobacteria\t2\n",
      "Sample 0\tVerrucomicrobia\t1\n",
      "Sample 1\tBacteroidetes\t45\n",
      "Sample 1\tFirmicutes\t40\n"
     ]
    }
   ],
   "source": [
    "with open('Phylum_Data.txt', 'r') as data:\n",
    "    text = data.read()\n",
    "    print(text[:150])"
   ]
  },
  {
   "cell_type": "code",
   "execution_count": null,
   "metadata": {
    "collapsed": true
   },
   "outputs": [],
   "source": [
    "#write code to process file in this format and record total number of each phylum seen\n",
    "def sum_taxa(filename): #our test file is Phylum_Data.txt\n",
    "    pass"
   ]
  },
  {
   "cell_type": "code",
   "execution_count": null,
   "metadata": {
    "collapsed": true
   },
   "outputs": [],
   "source": [
    "values = sum_taxa('Phylum_Data.txt')"
   ]
  },
  {
   "cell_type": "code",
   "execution_count": null,
   "metadata": {
    "collapsed": true
   },
   "outputs": [],
   "source": [
    "with open('Phylum_Data.txt', 'r') as table:\n",
    "    phyla = {}\n",
    "    for line in table:\n",
    "        text = line.split()\n",
    "        phyla[text[1]] = text[2]\n",
    "print(phyla)\n",
    "#where are these numbers coming from???? #what is going on?"
   ]
  },
  {
   "cell_type": "code",
   "execution_count": 31,
   "metadata": {},
   "outputs": [
    {
     "ename": "SyntaxError",
     "evalue": "'return' outside function (<ipython-input-31-80ac0b2592bf>, line 11)",
     "output_type": "error",
     "traceback": [
      "\u001b[0;36m  File \u001b[0;32m\"<ipython-input-31-80ac0b2592bf>\"\u001b[0;36m, line \u001b[0;32m11\u001b[0m\n\u001b[0;31m    return phyla\u001b[0m\n\u001b[0m    ^\u001b[0m\n\u001b[0;31mSyntaxError\u001b[0m\u001b[0;31m:\u001b[0m 'return' outside function\n"
     ]
    }
   ],
   "source": [
    "with open('test_file.txt', 'r') as table: #open file for reading\n",
    "    phyla = {} #empty dictionary\n",
    "    for line in table: #pull one line out at a time, line is a string\n",
    "        text = line.rstrip('\\n').split('\\t') #divide up the line, text is a list of strings\n",
    "        if text[1] not in phyla:\n",
    "            phyla[text[1]] = int(text[2]) #text[1] is the name, text[2] is the count, add to the dictionary\n",
    "        else:\n",
    "            current = phyla[text[1]] #value currently associated with that name in dictionary\n",
    "            total = current + int(text[2]) #text[2] is the new value, add them together\n",
    "            phyla[text[1]] = total\n",
    "    return phyla\n",
    "print(phyla)\n",
    "#where are these numbers coming from???? #what is going on?"
   ]
  },
  {
   "cell_type": "code",
   "execution_count": null,
   "metadata": {
    "collapsed": true
   },
   "outputs": [],
   "source": []
  },
  {
   "cell_type": "code",
   "execution_count": null,
   "metadata": {
    "collapsed": true
   },
   "outputs": [],
   "source": []
  },
  {
   "cell_type": "code",
   "execution_count": null,
   "metadata": {
    "collapsed": true
   },
   "outputs": [],
   "source": [
    "#list samples you found each phylum in "
   ]
  },
  {
   "cell_type": "code",
   "execution_count": null,
   "metadata": {
    "collapsed": true
   },
   "outputs": [],
   "source": [
    "with open('Phylum_Data.txt', 'r') as table:\n",
    "    phyla = {}\n",
    "    for line in table:\n",
    "        text = line.rstrip().split('\\t')\n",
    "        if text[1] in phyla:\n",
    "            phyla[text[1]] += text[0] \n",
    "        else:\n",
    "            phyla[text[1]] = text[0]\n",
    "print(phyla)"
   ]
  }
 ],
 "metadata": {
  "kernelspec": {
   "display_name": "Python 3",
   "language": "python",
   "name": "python3"
  },
  "language_info": {
   "codemirror_mode": {
    "name": "ipython",
    "version": 3
   },
   "file_extension": ".py",
   "mimetype": "text/x-python",
   "name": "python",
   "nbconvert_exporter": "python",
   "pygments_lexer": "ipython3",
   "version": "3.7.3"
  }
 },
 "nbformat": 4,
 "nbformat_minor": 2
}
