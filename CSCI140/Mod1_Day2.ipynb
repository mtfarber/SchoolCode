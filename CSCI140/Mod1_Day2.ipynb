{
 "cells": [
  {
   "cell_type": "code",
   "execution_count": 1,
   "metadata": {},
   "outputs": [
    {
     "name": "stdout",
     "output_type": "stream",
     "text": [
      "Enter cost of coffee: 3.5\n",
      "Enter yearly coffee budget: 400.75\n",
      "You can buy 114 cups of coffee and will have 1.75 dollars leftover.\n"
     ]
    }
   ],
   "source": [
    "cost = float(input('Enter cost of coffee: '))\n",
    "budget = float(input('Enter yearly coffee budget: '))\n",
    "cups = int(budget//cost)\n",
    "leftover = budget%cost\n",
    "print('You can buy', cups,'cups of coffee and will have', leftover, 'dollars leftover.')"
   ]
  },
  {
   "cell_type": "code",
   "execution_count": 5,
   "metadata": {},
   "outputs": [
    {
     "name": "stdout",
     "output_type": "stream",
     "text": [
      "Enter cost of coffee: 3.5\n",
      "Enter yearly coffee budget: 400.75\n",
      "You can buy 114 cups of coffee and will have $1.75 leftover.\n"
     ]
    }
   ],
   "source": [
    "cost = float(input('Enter cost of coffee: '))\n",
    "budget = float(input('Enter yearly coffee budget: '))\n",
    "cups = int(budget//cost)\n",
    "leftover = budget%cost\n",
    "print('You can buy ' + str(cups) +' cups of coffee and will have $'+ str(leftover) + ' leftover.')"
   ]
  },
  {
   "cell_type": "code",
   "execution_count": 2,
   "metadata": {},
   "outputs": [
    {
     "name": "stdout",
     "output_type": "stream",
     "text": [
      "11\n"
     ]
    }
   ],
   "source": [
    "a = 5\n",
    "b = 6\n",
    "print(a+b)"
   ]
  },
  {
   "cell_type": "code",
   "execution_count": 3,
   "metadata": {},
   "outputs": [
    {
     "name": "stdout",
     "output_type": "stream",
     "text": [
      "56\n"
     ]
    }
   ],
   "source": [
    "a = '5'\n",
    "b = '6'\n",
    "print(a+b)"
   ]
  },
  {
   "cell_type": "code",
   "execution_count": 14,
   "metadata": {},
   "outputs": [
    {
     "name": "stdout",
     "output_type": "stream",
     "text": [
      "Enter cost of coffee:$4\n",
      "Enter yearly coffee budget: $500\n",
      "You can buy 125 cups of coffee and will have $ 0.0 leftover.\n"
     ]
    }
   ],
   "source": [
    "#Same problem, different input format\n",
    "cost = input('Enter cost of coffee:') #Enter as $2.50 or $3 or $12.50\n",
    "budget = input('Enter yearly coffee budget: ') #Enter as $0.50 or $100 or $1000.50\n",
    "#How do we process the input????\n",
    "cost = float(cost[1:])\n",
    "budget = float(budget[1:])\n",
    "cups = int(budget//cost)\n",
    "leftover = budget%cost\n",
    "print('You can buy', cups,'cups of coffee and will have $', leftover, 'leftover.')"
   ]
  },
  {
   "cell_type": "code",
   "execution_count": 7,
   "metadata": {},
   "outputs": [],
   "source": [
    "cost = '$12.50'"
   ]
  },
  {
   "cell_type": "code",
   "execution_count": 8,
   "metadata": {},
   "outputs": [
    {
     "name": "stdout",
     "output_type": "stream",
     "text": [
      "$\n"
     ]
    }
   ],
   "source": [
    "print(cost[0])"
   ]
  },
  {
   "cell_type": "code",
   "execution_count": 9,
   "metadata": {},
   "outputs": [
    {
     "name": "stdout",
     "output_type": "stream",
     "text": [
      "0\n"
     ]
    }
   ],
   "source": [
    "print(cost[-1])"
   ]
  },
  {
   "cell_type": "code",
   "execution_count": 10,
   "metadata": {},
   "outputs": [
    {
     "ename": "TypeError",
     "evalue": "'str' object does not support item assignment",
     "output_type": "error",
     "traceback": [
      "\u001b[0;31m---------------------------------------------------------------------------\u001b[0m",
      "\u001b[0;31mTypeError\u001b[0m                                 Traceback (most recent call last)",
      "\u001b[0;32m<ipython-input-10-5744379d6092>\u001b[0m in \u001b[0;36m<module>\u001b[0;34m\u001b[0m\n\u001b[0;32m----> 1\u001b[0;31m \u001b[0mcost\u001b[0m\u001b[0;34m[\u001b[0m\u001b[0;36m2\u001b[0m\u001b[0;34m]\u001b[0m \u001b[0;34m=\u001b[0m \u001b[0;34m'3'\u001b[0m\u001b[0;34m\u001b[0m\u001b[0;34m\u001b[0m\u001b[0m\n\u001b[0m",
      "\u001b[0;31mTypeError\u001b[0m: 'str' object does not support item assignment"
     ]
    }
   ],
   "source": [
    "cost[2] = '3'"
   ]
  },
  {
   "cell_type": "code",
   "execution_count": 11,
   "metadata": {},
   "outputs": [
    {
     "name": "stdout",
     "output_type": "stream",
     "text": [
      ".5\n"
     ]
    }
   ],
   "source": [
    "print(cost[3:5])"
   ]
  },
  {
   "cell_type": "code",
   "execution_count": 12,
   "metadata": {},
   "outputs": [
    {
     "name": "stdout",
     "output_type": "stream",
     "text": [
      "6\n"
     ]
    }
   ],
   "source": [
    "print(len(cost))"
   ]
  },
  {
   "cell_type": "code",
   "execution_count": 15,
   "metadata": {},
   "outputs": [
    {
     "ename": "SyntaxError",
     "evalue": "invalid syntax (<ipython-input-15-c46c147b7085>, line 5)",
     "output_type": "error",
     "traceback": [
      "\u001b[0;36m  File \u001b[0;32m\"<ipython-input-15-c46c147b7085>\"\u001b[0;36m, line \u001b[0;32m5\u001b[0m\n\u001b[0;31m    email = #fill in\u001b[0m\n\u001b[0m                    ^\u001b[0m\n\u001b[0;31mSyntaxError\u001b[0m\u001b[0;31m:\u001b[0m invalid syntax\n"
     ]
    }
   ],
   "source": [
    "input('Enter your first name: ')\n",
    "input('Enter your middle initial: ')\n",
    "input('Enter your last name: ')\n",
    "domain = '@wm.edu'\n",
    "email = #fill in\n",
    "print('Your WM email address is:', email)"
   ]
  },
  {
   "cell_type": "code",
   "execution_count": 17,
   "metadata": {},
   "outputs": [
    {
     "name": "stdout",
     "output_type": "stream",
     "text": [
      "100\n",
      "50\n",
      "10050\n"
     ]
    }
   ],
   "source": [
    "cost = '$100.50'\n",
    "print(cost[1:-3])\n",
    "print(cost[-2:])\n",
    "print(cost[1:-3] + cost[-2:])"
   ]
  },
  {
   "cell_type": "code",
   "execution_count": null,
   "metadata": {},
   "outputs": [],
   "source": []
  }
 ],
 "metadata": {
  "kernelspec": {
   "display_name": "Python 3",
   "language": "python",
   "name": "python3"
  },
  "language_info": {
   "codemirror_mode": {
    "name": "ipython",
    "version": 3
   },
   "file_extension": ".py",
   "mimetype": "text/x-python",
   "name": "python",
   "nbconvert_exporter": "python",
   "pygments_lexer": "ipython3",
   "version": "3.7.3"
  }
 },
 "nbformat": 4,
 "nbformat_minor": 2
}
