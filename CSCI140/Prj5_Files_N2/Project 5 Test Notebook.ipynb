{
 "cells": [
  {
   "cell_type": "code",
   "execution_count": 178,
   "metadata": {},
   "outputs": [],
   "source": [
    "import pandas as pd"
   ]
  },
  {
   "cell_type": "code",
   "execution_count": 391,
   "metadata": {},
   "outputs": [],
   "source": [
    "class Portfolio:\n",
    "    \n",
    "    def __init__(self, name, filename = None): #Code is correct, DO NOT CHANGE ANYTHING unless you are completing extra credit\n",
    "        self.__name = name\n",
    "        #Data frame to hold portfolio, index is Symbol\n",
    "        self.__holdings = pd.DataFrame(columns = ['Symbol','Name', 'Shares', 'Last Price'])\n",
    "        self.__holdings.set_index('Symbol', inplace = True)\n",
    "        #Set up dictionary with symbols and names\n",
    "        nasdaq = pd.read_csv('nasdaq_symbol_info.csv')\n",
    "        nasdaq['Security Name'] = nasdaq['Security Name'].str.replace('Common Stock', '').str.rstrip(' -')\n",
    "        self.symbol_map = dict(zip(nasdaq['Symbol'], nasdaq['Security Name']))\n",
    "    \n",
    "    def __is_held(self, symbol): #Code is correct, DO NOT CHANGE ANYTHING in the def line or indented code\n",
    "        return symbol in self.__holdings.index #Do not change\n",
    "        \n",
    "    def buy_stock(self, symbol, shares, price, name = None):#Fill in your code, do not change def line\n",
    "        if self.__is_held(symbol):\n",
    "            self.__holdings.loc[symbol, 'Shares'] += shares\n",
    "            self.__holdings.loc[symbol, 'Last Price'] = price\n",
    "            if pd.isnull(self.__holdings.loc[symbol, 'Name']):\n",
    "                if name != None:\n",
    "                    self.__holdings.loc[symbol, 'Name'] = name\n",
    "        else:\n",
    "            if name != None:\n",
    "                self.__holdings.loc[symbol] = [name, shares, price]\n",
    "            elif symbol in self.symbol_map.keys():\n",
    "                self.__holdings.loc[symbol] = [self.symbol_map[symbol], shares, price]\n",
    "            else:\n",
    "                self.__holdings.loc[symbol] = [name, shares, price]\n",
    "    \n",
    "    def sell_stock(self, symbol, shares): #Fill in your code, do not change def line\n",
    "        if self.__is_held(symbol):\n",
    "            current_shares = self.__holdings.loc[symbol, 'Shares']\n",
    "            if current_shares > shares:\n",
    "                new_shares = current_shares-shares\n",
    "                self.__holdings.loc[symbol, 'Shares'] = new_shares\n",
    "            if current_shares == shares:\n",
    "                self.__holdings.drop(symbol, inplace = True)\n",
    "            if current_shares < shares:\n",
    "                print('Amount to sell is more than amount of shares held.')\n",
    "        else:\n",
    "            print('Stock is not held in the portfolio.')\n",
    "    \n",
    "    def update_price(self, symbol, price): #Fill in your code, do not change def line\n",
    "        if self.__is_held(symbol):\n",
    "            self.__holdings.loc[symbol, 'Last Price'] = price\n",
    "    \n",
    "    def get_total_value(self): #Fill in your code, do not change def line\n",
    "        self.__holdings['Products'] = self.__holdings['Shares'] * self.__holdings['Last Price']\n",
    "        total = self.__holdings['Products'].agg('sum')\n",
    "        del self.__holdings['Products']\n",
    "        return total\n",
    "    \n",
    "    def get_stock_info(self, symbol): #Fill in your code, do not change def line\n",
    "        if self.__is_held(symbol):\n",
    "            return [self.__holdings.loc[symbol, 'Name'],self.__holdings.loc[symbol, 'Shares'],self.__holdings.loc[symbol, 'Last Price']]\n",
    "    \n",
    "    #You won't use the two accessor methods below in your other methods,but they are examples of accessors\n",
    "    #They are needed by the GUI - don't change them\n",
    "    def get_symbols(self): #Code is correct, DO NOT CHANGE ANYTHING in the def line or indented code\n",
    "        return list(self.__holdings.index) #Do not change\n",
    "    \n",
    "    def get_name(self): #Code is correct, DO NOT CHANGE ANYTHING in the def line or indented code\n",
    "        return self.__name #Do not change\n",
    "    \n",
    "    def save_to_file(self, filename): #Fill in your code for EXTRA CREDIT below, do not change def line\n",
    "        pass\n",
    "        \n",
    "    def __str__(self): #Do not change def line, debug the line of code below\n",
    "        return (self.__name + \"'s Portfolio:\\n\"  + str(self.__holdings)) #Correct this line - don't add lines"
   ]
  },
  {
   "cell_type": "code",
   "execution_count": 392,
   "metadata": {},
   "outputs": [],
   "source": [
    "my_port = Portfolio('Matt')"
   ]
  },
  {
   "cell_type": "code",
   "execution_count": 393,
   "metadata": {},
   "outputs": [
    {
     "name": "stdout",
     "output_type": "stream",
     "text": [
      "None\n",
      "5000\n"
     ]
    }
   ],
   "source": [
    "my_port.buy_stock('AAPL',50,100)\n",
    "print(my_port.get_stock_info('TSLA'))\n",
    "print(my_port.get_total_value())"
   ]
  },
  {
   "cell_type": "code",
   "execution_count": 381,
   "metadata": {},
   "outputs": [],
   "source": [
    "holdings = pd.DataFrame(columns = ['Symbol','Name', 'Shares', 'Last Price'])\n",
    "holdings.set_index('Symbol', inplace = True)\n",
    "#Set up dictionary with symbols and names\n",
    "nasdaq = pd.read_csv('nasdaq_symbol_info.csv')\n",
    "nasdaq['Security Name'] = nasdaq['Security Name'].str.replace('Common Stock', '').str.rstrip(' -')\n",
    "symbol_map = dict(zip(nasdaq['Symbol'], nasdaq['Security Name']))\n",
    "\n",
    "def buy_stock(symbol, shares, price, name = None):#Fill in your code, do not change def line\n",
    "        if symbol in holdings.index:\n",
    "            holdings.loc[symbol, 'Shares'] += shares\n",
    "            holdings.loc[symbol, 'Last Price'] = price\n",
    "            if pd.isnull(holdings.loc[symbol, 'Name']):\n",
    "                if name != None:\n",
    "                    holdings.loc[symbol, 'Name'] = name\n",
    "        else:\n",
    "            if name != None:\n",
    "                holdings.loc[symbol] = [name, shares, price]\n",
    "            elif symbol in symbol_map.keys():\n",
    "                holdings.loc[symbol] = [symbol_map[symbol], shares, price]\n",
    "            else:\n",
    "                holdings.loc[symbol] = [name, shares, price]\n",
    "def sell_stock(symbol, shares): #Fill in your code, do not change def line\n",
    "        if symbol in holdings.index:\n",
    "            current_shares = holdings.loc[symbol, 'Shares']\n",
    "            if current_shares > shares:\n",
    "                new_shares = current_shares-shares\n",
    "                holdings.loc[symbol, 'Shares'] = new_shares\n",
    "            if current_shares == shares:\n",
    "                holdings.drop(symbol, inplace = True)\n",
    "            if current_shares < shares:\n",
    "                print('Amount to sell is more than amount of shares held.')\n",
    "        else:\n",
    "            print('Stock is not held in the portfolio.')\n",
    "def get_total_value(): #Fill in your code, do not change def line\n",
    "    holdings['Products'] = holdings['Shares'] * holdings['Last Price']\n",
    "    total = holdings['Products'].agg('sum')\n",
    "    del holdings['Products']\n",
    "    print(total)"
   ]
  },
  {
   "cell_type": "code",
   "execution_count": 384,
   "metadata": {},
   "outputs": [
    {
     "data": {
      "text/html": [
       "<div>\n",
       "<style scoped>\n",
       "    .dataframe tbody tr th:only-of-type {\n",
       "        vertical-align: middle;\n",
       "    }\n",
       "\n",
       "    .dataframe tbody tr th {\n",
       "        vertical-align: top;\n",
       "    }\n",
       "\n",
       "    .dataframe thead th {\n",
       "        text-align: right;\n",
       "    }\n",
       "</style>\n",
       "<table border=\"1\" class=\"dataframe\">\n",
       "  <thead>\n",
       "    <tr style=\"text-align: right;\">\n",
       "      <th></th>\n",
       "      <th>Name</th>\n",
       "      <th>Shares</th>\n",
       "      <th>Last Price</th>\n",
       "    </tr>\n",
       "    <tr>\n",
       "      <th>Symbol</th>\n",
       "      <th></th>\n",
       "      <th></th>\n",
       "      <th></th>\n",
       "    </tr>\n",
       "  </thead>\n",
       "  <tbody>\n",
       "    <tr>\n",
       "      <th>AAPL</th>\n",
       "      <td>Apple Inc.</td>\n",
       "      <td>90</td>\n",
       "      <td>2</td>\n",
       "    </tr>\n",
       "    <tr>\n",
       "      <th>AMZN</th>\n",
       "      <td>Amazon.com, Inc.</td>\n",
       "      <td>5</td>\n",
       "      <td>4</td>\n",
       "    </tr>\n",
       "    <tr>\n",
       "      <th>TSLA</th>\n",
       "      <td>Tesla, Inc.</td>\n",
       "      <td>7</td>\n",
       "      <td>1</td>\n",
       "    </tr>\n",
       "  </tbody>\n",
       "</table>\n",
       "</div>"
      ],
      "text/plain": [
       "                    Name Shares Last Price\n",
       "Symbol                                    \n",
       "AAPL          Apple Inc.     90          2\n",
       "AMZN    Amazon.com, Inc.      5          4\n",
       "TSLA         Tesla, Inc.      7          1"
      ]
     },
     "execution_count": 384,
     "metadata": {},
     "output_type": "execute_result"
    }
   ],
   "source": [
    "buy_stock('TSLA',7,1)\n",
    "#sell_stock('AAPL',500)\n",
    "holdings"
   ]
  },
  {
   "cell_type": "code",
   "execution_count": 387,
   "metadata": {},
   "outputs": [
    {
     "name": "stdout",
     "output_type": "stream",
     "text": [
      "207\n"
     ]
    },
    {
     "data": {
      "text/html": [
       "<div>\n",
       "<style scoped>\n",
       "    .dataframe tbody tr th:only-of-type {\n",
       "        vertical-align: middle;\n",
       "    }\n",
       "\n",
       "    .dataframe tbody tr th {\n",
       "        vertical-align: top;\n",
       "    }\n",
       "\n",
       "    .dataframe thead th {\n",
       "        text-align: right;\n",
       "    }\n",
       "</style>\n",
       "<table border=\"1\" class=\"dataframe\">\n",
       "  <thead>\n",
       "    <tr style=\"text-align: right;\">\n",
       "      <th></th>\n",
       "      <th>Name</th>\n",
       "      <th>Shares</th>\n",
       "      <th>Last Price</th>\n",
       "    </tr>\n",
       "    <tr>\n",
       "      <th>Symbol</th>\n",
       "      <th></th>\n",
       "      <th></th>\n",
       "      <th></th>\n",
       "    </tr>\n",
       "  </thead>\n",
       "  <tbody>\n",
       "    <tr>\n",
       "      <th>AAPL</th>\n",
       "      <td>Apple Inc.</td>\n",
       "      <td>90</td>\n",
       "      <td>2</td>\n",
       "    </tr>\n",
       "    <tr>\n",
       "      <th>AMZN</th>\n",
       "      <td>Amazon.com, Inc.</td>\n",
       "      <td>5</td>\n",
       "      <td>4</td>\n",
       "    </tr>\n",
       "    <tr>\n",
       "      <th>TSLA</th>\n",
       "      <td>Tesla, Inc.</td>\n",
       "      <td>7</td>\n",
       "      <td>1</td>\n",
       "    </tr>\n",
       "  </tbody>\n",
       "</table>\n",
       "</div>"
      ],
      "text/plain": [
       "                    Name Shares Last Price\n",
       "Symbol                                    \n",
       "AAPL          Apple Inc.     90          2\n",
       "AMZN    Amazon.com, Inc.      5          4\n",
       "TSLA         Tesla, Inc.      7          1"
      ]
     },
     "execution_count": 387,
     "metadata": {},
     "output_type": "execute_result"
    }
   ],
   "source": [
    "get_total_value()\n",
    "holdings"
   ]
  },
  {
   "cell_type": "code",
   "execution_count": null,
   "metadata": {},
   "outputs": [],
   "source": []
  }
 ],
 "metadata": {
  "kernelspec": {
   "display_name": "Python 3",
   "language": "python",
   "name": "python3"
  },
  "language_info": {
   "codemirror_mode": {
    "name": "ipython",
    "version": 3
   },
   "file_extension": ".py",
   "mimetype": "text/x-python",
   "name": "python",
   "nbconvert_exporter": "python",
   "pygments_lexer": "ipython3",
   "version": "3.7.3"
  }
 },
 "nbformat": 4,
 "nbformat_minor": 2
}
