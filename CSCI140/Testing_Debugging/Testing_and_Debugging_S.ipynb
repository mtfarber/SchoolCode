{
 "cells": [
  {
   "cell_type": "code",
   "execution_count": 1,
   "metadata": {},
   "outputs": [],
   "source": [
    "import unittest\n",
    "import numpy as np"
   ]
  },
  {
   "cell_type": "code",
   "execution_count": 24,
   "metadata": {},
   "outputs": [],
   "source": [
    "def median(data):\n",
    "    midpt = int(len(data)/2) #find the middle, len(data)//2\n",
    "    try:\n",
    "        data = sorted(data) #put data in order/sorting      \n",
    "        if len(data) % 2 == 0: #even\n",
    "            return (data[midpt] + data[midpt-1])/2\n",
    "        else: #odd case\n",
    "            return data[midpt]\n",
    "    except TypeError as te:\n",
    "        print(te)\n",
    "        print('Invalid input')\n",
    "    except IndexError as ie:\n",
    "        print(ie)\n",
    "        print('Cannot process an empty list')"
   ]
  },
  {
   "cell_type": "code",
   "execution_count": 14,
   "metadata": {},
   "outputs": [
    {
     "name": "stdout",
     "output_type": "stream",
     "text": [
      "8\n",
      "8.0\n"
     ]
    }
   ],
   "source": [
    "#Test cases, sorted, odd\n",
    "data = [1,3,8,16,25]\n",
    "print(median(data))\n",
    "print(np.median(data))"
   ]
  },
  {
   "cell_type": "code",
   "execution_count": 15,
   "metadata": {},
   "outputs": [
    {
     "name": "stdout",
     "output_type": "stream",
     "text": [
      "12.0\n",
      "12.0\n"
     ]
    }
   ],
   "source": [
    "#sorted even\n",
    "data = [1,3,8,16,25,27]\n",
    "print(median(data))\n",
    "print(np.median(data))"
   ]
  },
  {
   "cell_type": "code",
   "execution_count": 16,
   "metadata": {},
   "outputs": [
    {
     "name": "stdout",
     "output_type": "stream",
     "text": [
      "54\n",
      "54.0\n"
     ]
    }
   ],
   "source": [
    "#unsorted, odd\n",
    "data = [72,34,100,19,54]\n",
    "print(median(data))\n",
    "print(np.median(data))"
   ]
  },
  {
   "cell_type": "code",
   "execution_count": 17,
   "metadata": {},
   "outputs": [
    {
     "name": "stdout",
     "output_type": "stream",
     "text": [
      "44.0\n",
      "44.0\n"
     ]
    }
   ],
   "source": [
    "#unsorted, even\n",
    "data = [72,34,24,100,19,54,]\n",
    "print(median(data))\n",
    "print(np.median(data))"
   ]
  },
  {
   "cell_type": "code",
   "execution_count": 21,
   "metadata": {},
   "outputs": [
    {
     "name": "stdout",
     "output_type": "stream",
     "text": [
      "'<' not supported between instances of 'int' and 'str'\n",
      "Invalid input\n",
      "None\n"
     ]
    }
   ],
   "source": [
    "#List with mixed types\n",
    "data = ['5',56,'10',45]\n",
    "print(median(data))\n",
    "#print(np.median(data))"
   ]
  },
  {
   "cell_type": "code",
   "execution_count": 23,
   "metadata": {},
   "outputs": [
    {
     "name": "stdout",
     "output_type": "stream",
     "text": [
      "45\n"
     ]
    }
   ],
   "source": [
    "#List with just strings\n",
    "data = ['5','56','10','45','24']\n",
    "print(median(data))"
   ]
  },
  {
   "cell_type": "code",
   "execution_count": 25,
   "metadata": {},
   "outputs": [
    {
     "name": "stdout",
     "output_type": "stream",
     "text": [
      "list index out of range\n",
      "Cannot process an empty list\n",
      "None\n"
     ]
    }
   ],
   "source": [
    "#Empty list\n",
    "data = []\n",
    "print(median(data))"
   ]
  },
  {
   "cell_type": "code",
   "execution_count": 5,
   "metadata": {
    "collapsed": true
   },
   "outputs": [],
   "source": [
    "#Test cases"
   ]
  },
  {
   "cell_type": "code",
   "execution_count": 26,
   "metadata": {},
   "outputs": [],
   "source": [
    "def median(data):\n",
    "    midpt = int(len(data)/2) #find the middle, len(data)//2\n",
    "    try:\n",
    "        data = sorted(data) #put data in order/sorting      \n",
    "        if len(data) % 2 == 0: #even\n",
    "            return (data[midpt] + data[midpt-1])/2\n",
    "        else: #odd case\n",
    "            return data[midpt]\n",
    "    except TypeError as te:\n",
    "        print(te)\n",
    "        print('Invalid input')\n",
    "    except IndexError as ie:\n",
    "        print(ie)\n",
    "        print('Cannot process an empty list')"
   ]
  },
  {
   "cell_type": "code",
   "execution_count": 27,
   "metadata": {},
   "outputs": [],
   "source": [
    "#Unittest code\n",
    "class Functions_Tester(unittest.TestCase):\n",
    "\n",
    "    def test_function_median_odd_sorted(self):\n",
    "        print('\\nfunction_median_odd_sorted:')\n",
    "        result = median([5,6,7])\n",
    "        self.assertEqual(result, 6)\n",
    "        \n",
    "    def test_function_median_even_sorted(self):\n",
    "        print('\\nfunction_median_even_sorted:')\n",
    "        result = median([5,6,7,8])\n",
    "        self.assertEqual(result, 6.5)"
   ]
  },
  {
   "cell_type": "code",
   "execution_count": 12,
   "metadata": {},
   "outputs": [
    {
     "name": "stderr",
     "output_type": "stream",
     "text": [
      "E"
     ]
    },
    {
     "name": "stdout",
     "output_type": "stream",
     "text": [
      "\n",
      "function_median_one:\n"
     ]
    },
    {
     "name": "stderr",
     "output_type": "stream",
     "text": [
      "\n",
      "======================================================================\n",
      "ERROR: test_function_median_one (__main__.Functions_Tester)\n",
      "----------------------------------------------------------------------\n",
      "Traceback (most recent call last):\n",
      "  File \"<ipython-input-11-d72eca164c72>\", line 6, in test_function_median_one\n",
      "    result = median([5,6,7])\n",
      "  File \"<ipython-input-10-7e06d8a9b81a>\", line 4, in median\n",
      "    if len(data) % 2 == 0:\n",
      "TypeError: object of type 'NoneType' has no len()\n",
      "\n",
      "----------------------------------------------------------------------\n",
      "Ran 1 test in 0.006s\n",
      "\n",
      "FAILED (errors=1)\n"
     ]
    }
   ],
   "source": [
    "if __name__ == '__main__':\n",
    "  unittest.main(argv=['first-arg-is-ignored'], exit=False)\n"
   ]
  },
  {
   "cell_type": "code",
   "execution_count": null,
   "metadata": {
    "collapsed": true
   },
   "outputs": [],
   "source": [
    "#Run from command line"
   ]
  }
 ],
 "metadata": {
  "kernelspec": {
   "display_name": "Python 3",
   "language": "python",
   "name": "python3"
  },
  "language_info": {
   "codemirror_mode": {
    "name": "ipython",
    "version": 3
   },
   "file_extension": ".py",
   "mimetype": "text/x-python",
   "name": "python",
   "nbconvert_exporter": "python",
   "pygments_lexer": "ipython3",
   "version": "3.7.4"
  }
 },
 "nbformat": 4,
 "nbformat_minor": 2
}
