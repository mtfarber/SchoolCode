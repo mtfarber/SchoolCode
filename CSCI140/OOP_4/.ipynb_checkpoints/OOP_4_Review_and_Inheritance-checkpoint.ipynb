{
 "cells": [
  {
   "cell_type": "code",
   "execution_count": 1,
   "metadata": {},
   "outputs": [],
   "source": [
    "import pandas as pd"
   ]
  },
  {
   "cell_type": "code",
   "execution_count": 2,
   "metadata": {},
   "outputs": [],
   "source": [
    "class DNA(object):\n",
    "    \n",
    "    def __init__(self, sequence):\n",
    "        self._sequence = sequence\n",
    "    \n",
    "    def transcribe(self):\n",
    "        return self._sequence.replace('T','U')\n",
    "    \n",
    "    def rev_comp(self):\n",
    "        return self._sequence[::-1].translate(self._sequence.maketrans('ACTG', 'TGAC'))\n",
    "    \n",
    "    def gc_content(self):\n",
    "        return (self._sequence.count('G') + self._sequence.count('C'))/len(self._sequence)\n",
    "    \n",
    "    def get_position_changes(self, other):\n",
    "        result = []\n",
    "        for i in range(len(self._sequence)):\n",
    "            if self._sequence[i] != other[i]:\n",
    "                result.append(self._sequence[i] + str(i+1) + other[i])\n",
    "        return result\n",
    "    \n",
    "    def get_sequence(self):\n",
    "        return self._sequence\n",
    "    \n",
    "    def __str__(self):\n",
    "        return 'Sequence with length ' + str(len(self._sequence))"
   ]
  },
  {
   "cell_type": "code",
   "execution_count": 5,
   "metadata": {},
   "outputs": [
    {
     "data": {
      "text/plain": [
       "['G6C', 'G7C', 'G12T']"
      ]
     },
     "execution_count": 5,
     "metadata": {},
     "output_type": "execute_result"
    }
   ],
   "source": [
    "#Create a DNA object with sequence 'AGGCAGGATTGGA'\n",
    "my_dna = DNA('AGGCAGGATTGGA')\n",
    "#Create second DNA object with sequence 'AGGCACCATTGTA'\n",
    "your_dna = DNA('AGGCACCATTGTA')\n",
    "#Compare the sequences in the two objects using get_position_changes....do not type the sequence in directly for other\n",
    "#use the object methods\n",
    "my_dna.get_position_changes(your_dna.get_sequence())"
   ]
  },
  {
   "cell_type": "code",
   "execution_count": 31,
   "metadata": {},
   "outputs": [],
   "source": [
    "class RNA(object):\n",
    "    \n",
    "    def __init__(self, sequence):\n",
    "        self._sequence = sequence\n",
    "        aminos = pd.read_csv('codons_R.txt', sep = '\\t') #https://github.com/zhanxw/anno/blob/master/codon.txt\n",
    "        self._aa_table = dict(zip(aminos['Codon'], aminos['Letter']))\n",
    "        #print(self._aa_table) #if you don't know what something is, print it out so you can see it\n",
    "    \n",
    "    def rev_comp(self):\n",
    "        return self._sequence[::-1].translate(self._sequence.maketrans('ACUG', 'UGAC'))\n",
    "        \n",
    "    def translate(self, frame = 1, find_start = True, dashes = False): #just consider frames 1 through 3 for now\n",
    "        peptide = ''\n",
    "        if(find_start):\n",
    "            frame = self._sequence.find('AUG')\n",
    "            print(frame, 'if block')\n",
    "        else:\n",
    "            frame -= 1\n",
    "            print(frame, 'else block')\n",
    "        if frame >= 0:\n",
    "            for i in range(frame,len(self._sequence)-2,3):\n",
    "                codon = self._sequence[i:i+3]\n",
    "                print(codon)\n",
    "                aa = self._aa_table[codon]\n",
    "                peptide += aa\n",
    "                if dashes:\n",
    "                    peptide += '-'\n",
    "            #print(peptide)\n",
    "            return peptide \n",
    "    \n",
    "    def get_sequence(self):\n",
    "        return self._sequence\n",
    "    \n",
    "    def gc_content(self):\n",
    "        return (self._sequence.count('G') + self._sequence.count('C'))/len(self._sequence)\n",
    "    \n",
    "    def get_position_changes(self, other):\n",
    "        result = []\n",
    "        for i in range(len(self._sequence)):\n",
    "            if self._sequence[i] != other[i]:\n",
    "                result.append(self._sequence[i] + str(i+1) + other[i])\n",
    "        return result\n",
    "\n",
    "    def __str__(self):\n",
    "        return 'Sequence with length ' + str(len(self._sequence))"
   ]
  },
  {
   "cell_type": "code",
   "execution_count": 32,
   "metadata": {},
   "outputs": [
    {
     "name": "stdout",
     "output_type": "stream",
     "text": [
      "0 if block\n",
      "AUG\n",
      "GCA\n",
      "GCC\n",
      "UAA\n",
      "MAA*\n"
     ]
    }
   ],
   "source": [
    "#Make an RNA object with sequence AUGGCAGCCUAA\n",
    "my_rna = RNA('AUGGCAGCCUAA')\n",
    "#Translate it with default args\n",
    "print(my_rna.translate())"
   ]
  },
  {
   "cell_type": "code",
   "execution_count": 36,
   "metadata": {},
   "outputs": [
    {
     "name": "stdout",
     "output_type": "stream",
     "text": [
      "1 else block\n",
      "GAU\n",
      "GGC\n",
      "AGC\n",
      "CUA\n"
     ]
    },
    {
     "data": {
      "text/plain": [
       "'DGSL'"
      ]
     },
     "execution_count": 36,
     "metadata": {},
     "output_type": "execute_result"
    }
   ],
   "source": [
    "#Make an RNA object with sequence CGAUGGCAGCCUAA\n",
    "new_rna = RNA('CGAUGGCAGCCUAA')\n",
    "#Translate it in all 3 frames without find_start\n",
    "new_rna.translate(find_start = False, frame=2)"
   ]
  },
  {
   "cell_type": "code",
   "execution_count": 37,
   "metadata": {},
   "outputs": [],
   "source": [
    "class Nucleic_Acid(object):\n",
    "    \n",
    "    def __init__(self, sequence):\n",
    "        self._sequence = sequence.upper()\n",
    "    \n",
    "    def get_sequence(self):\n",
    "        return self._sequence\n",
    "    \n",
    "    def rev_comp(self):\n",
    "        pass\n",
    "    \n",
    "    def gc_content(self):\n",
    "        return (self._sequence.count('G') + self._sequence.count('C'))/len(self._sequence)\n",
    "    \n",
    "    def get_position_changes(self, other):\n",
    "        result = []\n",
    "        for i in range(len(self._sequence)):\n",
    "            if self._sequence[i] != other[i]:\n",
    "                result.append(self._sequence[i] + str(i+1) + other[i])\n",
    "        return result\n",
    "    \n",
    "    def __str__(self):\n",
    "        return 'Sequence with length: ' + str(len(self.sequence))"
   ]
  },
  {
   "cell_type": "code",
   "execution_count": null,
   "metadata": {},
   "outputs": [],
   "source": [
    "class test_class(object):\n",
    "    "
   ]
  },
  {
   "cell_type": "code",
   "execution_count": 38,
   "metadata": {},
   "outputs": [],
   "source": [
    "class DNA(Nucleic_Acid):\n",
    "    \n",
    "    def transcribe(self):\n",
    "        return self._sequence.replace('T','U')"
   ]
  },
  {
   "cell_type": "code",
   "execution_count": null,
   "metadata": {
    "collapsed": true
   },
   "outputs": [],
   "source": [
    "#Make one of these and call methods....wait, where did those come from?"
   ]
  },
  {
   "cell_type": "code",
   "execution_count": null,
   "metadata": {
    "collapsed": true
   },
   "outputs": [],
   "source": [
    "class RNA(Nucleic_Acid):\n",
    "    \n",
    "    def translate(self, frame = 1, find_orf = True, dashes = False): #just consider frames 1 through 3 for now\n",
    "        pass #paste in corrected version"
   ]
  },
  {
   "cell_type": "code",
   "execution_count": null,
   "metadata": {
    "collapsed": true
   },
   "outputs": [],
   "source": [
    "#Make one of these and call methods....what's missing?"
   ]
  }
 ],
 "metadata": {
  "kernelspec": {
   "display_name": "Python 3",
   "language": "python",
   "name": "python3"
  },
  "language_info": {
   "codemirror_mode": {
    "name": "ipython",
    "version": 3
   },
   "file_extension": ".py",
   "mimetype": "text/x-python",
   "name": "python",
   "nbconvert_exporter": "python",
   "pygments_lexer": "ipython3",
   "version": "3.7.3"
  }
 },
 "nbformat": 4,
 "nbformat_minor": 2
}
