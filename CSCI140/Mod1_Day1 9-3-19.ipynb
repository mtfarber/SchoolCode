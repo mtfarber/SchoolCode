{
 "cells": [
  {
   "cell_type": "code",
   "execution_count": 7,
   "metadata": {},
   "outputs": [
    {
     "name": "stdout",
     "output_type": "stream",
     "text": [
      "You spent 1440.0 dollars this year\n"
     ]
    }
   ],
   "source": [
    "cost = 4.50\n",
    "days = 320\n",
    "total = cost*days\n",
    "print('You spent',total,'dollars this year')"
   ]
  },
  {
   "cell_type": "code",
   "execution_count": 10,
   "metadata": {},
   "outputs": [
    {
     "name": "stdout",
     "output_type": "stream",
     "text": [
      "How much does your coffee cost? 2.00\n",
      "How many days a year do you buy coffee every year?150\n",
      "You spent 300.0 dollars this year\n"
     ]
    }
   ],
   "source": [
    "cost = float(input('How much does your coffee cost? '))\n",
    "days = int(input('How many days a year do you buy coffee every year?'))\n",
    "total = cost*days\n",
    "print('You spent',total,'dollars this year')"
   ]
  },
  {
   "cell_type": "code",
   "execution_count": 12,
   "metadata": {},
   "outputs": [
    {
     "name": "stdout",
     "output_type": "stream",
     "text": [
      "How much does your coffee cost? 2.5\n",
      "How many days a year do you buy coffee every year?2\n",
      "You spent 260.0 dollars this year\n"
     ]
    }
   ],
   "source": [
    "WEEKS_YEAR = 52\n",
    "cost = float(input('How much does your coffee cost? '))\n",
    "days = int(input('How many days a year do you buy coffee every year? '))\n",
    "total = cost*days*WEEKS_YEAR\n",
    "print('You spent',total,'dollars this year')"
   ]
  },
  {
   "cell_type": "code",
   "execution_count": 22,
   "metadata": {},
   "outputs": [
    {
     "name": "stdout",
     "output_type": "stream",
     "text": [
      "How much money does your coffee cost? 3.5\n",
      "How much money do you want to spend on coffee? 70\n",
      "You can buy 20 cups of coffee.\n",
      "You will have 0 left over.\n"
     ]
    }
   ],
   "source": [
    "cost = float(input('How much money does your coffee cost? '))\n",
    "budget = float(input('How much money do you want to spend on coffee? '))\n",
    "cups = int(budget//cost)\n",
    "money_left = int(budget%cost)\n",
    "print('You can buy',cups, 'cups of coffee.\\nYou will have' , money_left, 'left over.')"
   ]
  },
  {
   "cell_type": "code",
   "execution_count": null,
   "metadata": {},
   "outputs": [],
   "source": []
  }
 ],
 "metadata": {
  "kernelspec": {
   "display_name": "Python 3",
   "language": "python",
   "name": "python3"
  },
  "language_info": {
   "codemirror_mode": {
    "name": "ipython",
    "version": 3
   },
   "file_extension": ".py",
   "mimetype": "text/x-python",
   "name": "python",
   "nbconvert_exporter": "python",
   "pygments_lexer": "ipython3",
   "version": "3.7.3"
  }
 },
 "nbformat": 4,
 "nbformat_minor": 2
}
