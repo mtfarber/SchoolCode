{
 "cells": [
  {
   "cell_type": "code",
   "execution_count": 1,
   "metadata": {},
   "outputs": [],
   "source": [
    "%matplotlib inline\n",
    "import numpy as np\n",
    "import pandas as pd\n",
    "import matplotlib.pyplot as plt\n",
    "import seaborn as sns\n",
    "import nltk\n",
    "#from wordcloud import WordCloud, STOPWORDS\n",
    "#from PIL import Image"
   ]
  },
  {
   "cell_type": "code",
   "execution_count": 2,
   "metadata": {},
   "outputs": [],
   "source": [
    "eng_stops = ['i', 'me', 'my', 'myself', 'we', 'our', 'ours', 'ourselves', 'you', \\\n",
    "             \"you're\", \"you've\", \"you'll\", \"you'd\", 'your', 'yours', 'yourself', 'yourselves',\\\n",
    "             'he', 'him', 'his', 'himself', 'she', \"she's\", 'her', 'hers', 'herself', \\\n",
    "             'it', \"it's\", 'its', 'itself', 'they', 'them', 'their', 'theirs', 'themselves',\\\n",
    "             'what', 'which', 'who', 'whom', 'this', 'that', \"that'll\", 'these', 'those', \\\n",
    "             'am', 'is', 'are', 'was', 'were', 'be', 'been', 'being', 'have', 'has', 'had', \\\n",
    "             'having', 'do', 'does', 'did', 'doing', 'a', 'an', 'the', 'and', 'but', 'if', \\\n",
    "             'or', 'because', 'as', 'until', 'while', 'of', 'at', 'by', 'for', 'with', 'about',\\\n",
    "             'against', 'between', 'into', 'through', 'during', 'before', 'after', 'above', 'below', \\\n",
    "             'to', 'from', 'up', 'down', 'in', 'out', 'on', 'off', 'over', 'under', 'again', 'further', \\\n",
    "             'then', 'once', 'here', 'there', 'when', 'where', 'why', 'how', 'all', 'any', 'both', 'each', \\\n",
    "             'few', 'more', 'most', 'other', 'some', 'such', 'no', 'nor', 'not', 'only', 'own', 'same', 'so', \\\n",
    "             'than', 'too', 'very', 's', 't', 'can', 'will', 'just', 'don', \"don't\", 'should', \"should've\",\\\n",
    "             'now', 'd', 'll', 'm', 'o', 're', 've', 'y', 'ain', 'aren', \"aren't\", 'couldn', \"couldn't\", \\\n",
    "             'didn', \"didn't\", 'doesn', \"doesn't\", 'hadn', \"hadn't\", 'hasn', \"hasn't\", 'haven', \"haven't\", \\\n",
    "             'isn', \"isn't\", 'ma', 'mightn', \"mightn't\", 'mustn', \"mustn't\", 'needn', \"needn't\", 'shan',\\\n",
    "             \"shan't\", 'shouldn', \"shouldn't\", 'wasn', \"wasn't\", 'weren', \"weren't\", 'won', \"won't\", 'wouldn',\\\n",
    "             \"wouldn't\"]"
   ]
  },
  {
   "cell_type": "markdown",
   "metadata": {},
   "source": [
    "### Making a test file"
   ]
  },
  {
   "cell_type": "code",
   "execution_count": 3,
   "metadata": {},
   "outputs": [],
   "source": [
    "###Make a test file\n",
    "def write_test(infile, outfile = 'test.txt', lines = 10):\n",
    "    with open(infile, 'r') as data_in: #opens file for reading\n",
    "        with open(outfile, 'w') as data_out: #open file for writing\n",
    "            for i in range(lines): #0 1 2 3 4 5 6 7 8 9, how many times to run loop\n",
    "                data_out.write(next(data_in))"
   ]
  },
  {
   "cell_type": "code",
   "execution_count": 4,
   "metadata": {},
   "outputs": [],
   "source": [
    "write_test('arthropod.txt', 'test_file.txt', 20)"
   ]
  },
  {
   "cell_type": "markdown",
   "metadata": {},
   "source": [
    "### NLTK reminder and how to make plots otherwise"
   ]
  },
  {
   "cell_type": "code",
   "execution_count": 6,
   "metadata": {},
   "outputs": [
    {
     "name": "stdout",
     "output_type": "stream",
     "text": [
      "['biting', 'piercing', 'arthropods', 'black', 'widow', 'spider', 'latrodectus', 'mactans', 'illustration', 'unlabelled', 'identification', 'female', 'black', 'widow', 'shiny', 'black', 'body', 'approximately', 'cm', 'long', 'usually', 'red', 'hourglass-shaped', 'marking', 'underside', 'globose', 'abdomen', 'individuals', 'distinct', 'hourglass', 'marking', 'replaced', 'several', 'triangles', 'spots', 'irregular', 'longitudinal', 'blotch', 'slim', 'black']\n"
     ]
    }
   ],
   "source": [
    "with open('arthropod.txt', 'r') as file: #open file\n",
    "    text = file.read().lower() #read in text, puts in lowercase\n",
    "    tokens = text.translate(text.maketrans('/',' ', '.,;:!?[]()')).split() #Anything you want to add?\n",
    "    tokens = [token for token in tokens \\\n",
    "              if token not in eng_stops and not token.isdigit()] #Anything you want to add? Part 2\n",
    "print(tokens[0:40])"
   ]
  },
  {
   "cell_type": "code",
   "execution_count": 7,
   "metadata": {},
   "outputs": [
    {
     "data": {
      "image/png": "[encoded data removed]",
      "text/plain": [
       "<Figure size 432x288 with 1 Axes>"
      ]
     },
     "metadata": {
      "needs_background": "light"
     },
     "output_type": "display_data"
    },
    {
     "data": {
      "text/plain": [
       "<matplotlib.axes._subplots.AxesSubplot at 0x1a1c013668>"
      ]
     },
     "execution_count": 7,
     "metadata": {},
     "output_type": "execute_result"
    }
   ],
   "source": [
    "bugs = nltk.FreqDist(tokens) #return this is on the project and not bugs.plot\n",
    "#print(bugs.most_common(20))\n",
    "bugs.plot(20)"
   ]
  },
  {
   "cell_type": "code",
   "execution_count": 8,
   "metadata": {},
   "outputs": [],
   "source": [
    "#autocomplete example in reading\n",
    "#a better top words - how does this work?\n",
    "def top_words(tally, num = 10):\n",
    "    inv = {} #empty dictionary\n",
    "    for w,n in tally.items():\n",
    "        if n in inv: #is key already in new dictionary\n",
    "            inv[n].add(w) #add to the existing values\n",
    "        else: #key not in dictionary\n",
    "            inv[n] = {w} #add the key as a set\n",
    "    tg = sorted(inv, reverse = True)[0:num] #list of occurences, sorting, slicing\n",
    "    result = {}\n",
    "    for val in tg: #flipping inverse dictionary back around\n",
    "        if len(result) < num: #checking that we haven't added too many things\n",
    "            for item in inv[val]: #pulling the strings out of the set\n",
    "                result[item] = val #adding to new dictionary\n",
    "    return result"
   ]
  },
  {
   "cell_type": "code",
   "execution_count": 9,
   "metadata": {},
   "outputs": [
    {
     "name": "stdout",
     "output_type": "stream",
     "text": [
      "{'bees': 25, 'ant': 18, 'insects': 18, 'species': 17, 'states': 16, 'areas': 15, 'honey': 14, 'spider': 14, 'control': 12, 'united': 11, 'fire': 11, 'ants': 11, 'human': 10, 'usually': 10, 'distribution': 10, 'harvester': 10, 'occur': 9, 'black': 9, 'bugs': 9, 'found': 9, 'treatment': 9, 'bee': 9, 'illustration': 9, 'behavior': 9, 'envenomization': 9}\n"
     ]
    }
   ],
   "source": [
    "top_20 = top_words(dict(bugs), 20)\n",
    "print(top_20)"
   ]
  },
  {
   "cell_type": "code",
   "execution_count": null,
   "metadata": {
    "collapsed": true
   },
   "outputs": [],
   "source": [
    "#What is plt????? What is sns?\n",
    "sns.set_style('whitegrid')\n",
    "plt.figure(figsize = [6,4])\n",
    "plt.tick_params(axis = 'both', which = 'major', labelsize = 12)\n",
    "plt.xticks(rotation = 90) \n",
    "sns.lineplot(list(top_20.keys()),list(top_20.values()), sort=False)"
   ]
  },
  {
   "cell_type": "markdown",
   "metadata": {},
   "source": [
    "### If you managed to install wordcloud"
   ]
  },
  {
   "cell_type": "code",
   "execution_count": null,
   "metadata": {},
   "outputs": [],
   "source": [
    "text = open('arthropod.txt','r',encoding = 'UTF-8')\n",
    "up_text = text.read().upper()\n",
    "text.close()\n",
    "stopwords = set(STOPWORDS)\n",
    "stopwords.add('AREA')\n",
    "wc = WordCloud(margin=10,random_state=1, stopwords=stopwords, colormap='jet').generate(up_text)\n",
    "wc.to_file('test.png')\n",
    "plt.figure()\n",
    "plt.imshow(wc)\n",
    "plt.axis('off')\n",
    "plt.show()"
   ]
  },
  {
   "cell_type": "code",
   "execution_count": null,
   "metadata": {},
   "outputs": [],
   "source": [
    "text = open('Tell_Tale_Heart.txt','r',encoding = 'UTF-8')\n",
    "up_text = text.read().upper()\n",
    "text.close()\n",
    "stopwords = set(STOPWORDS)\n",
    "stopwords.add('UPON')\n",
    "wc = WordCloud(font_path='Verdana.ttf',background_color=\"black\", stopwords = stopwords, \n",
    "               mask=np.array(Image.open(\"heart2.jpg\"))).generate(up_text)\n",
    "wc.to_file('test.png')\n",
    "plt.figure(figsize = [8,8])\n",
    "plt.imshow(wc, interpolation='bilinear')\n",
    "plt.axis('off')\n",
    "plt.show()"
   ]
  },
  {
   "cell_type": "markdown",
   "metadata": {},
   "source": [
    "### Another dictionary example"
   ]
  },
  {
   "cell_type": "code",
   "execution_count": 23,
   "metadata": {},
   "outputs": [
    {
     "ename": "SyntaxError",
     "evalue": "invalid syntax (<ipython-input-23-bdee73603024>, line 9)",
     "output_type": "error",
     "traceback": [
      "\u001b[0;36m  File \u001b[0;32m\"<ipython-input-23-bdee73603024>\"\u001b[0;36m, line \u001b[0;32m9\u001b[0m\n\u001b[0;31m    for item in items[1:]] #add to dictionary\u001b[0m\n\u001b[0m      ^\u001b[0m\n\u001b[0;31mSyntaxError\u001b[0m\u001b[0;31m:\u001b[0m invalid syntax\n"
     ]
    }
   ],
   "source": [
    "#gradebook\n",
    "#Create this by reading in from a file for several students\n",
    "gradebook = {}\n",
    "with open('Student_Data.txt', 'r', encoding = 'UTF-8') as grades: #open file\n",
    "    for line in grades: #read in line by line\n",
    "        items = line.rstrip('\\n').split('\\t')\n",
    "        print(items)\n",
    "        gradebook[items[0]] = int(item) if len(item) > 0 else 0\\\n",
    "        for item in items[1:]] #add to dictionary\n",
    "print(gradebook)\n",
    "#grades = gradebook['Student A']\n",
    "#print(grades)\n",
    "#print(sum(grades)/len(grades))"
   ]
  },
  {
   "cell_type": "code",
   "execution_count": 11,
   "metadata": {},
   "outputs": [
    {
     "name": "stdout",
     "output_type": "stream",
     "text": [
      "None\n"
     ]
    }
   ],
   "source": [
    "def make_gradebook(filename, delimiter = ','):\n",
    "    pass\n",
    "test = {100:'cheese'}\n",
    "test[umbrella]"
   ]
  },
  {
   "cell_type": "code",
   "execution_count": null,
   "metadata": {},
   "outputs": [],
   "source": [
    "a = make_gradebook('Student_Data.txt')\n",
    "print(a)"
   ]
  },
  {
   "cell_type": "code",
   "execution_count": null,
   "metadata": {
    "collapsed": true
   },
   "outputs": [],
   "source": [
    "#How would I find the averages for the students? Suppose all assignments equally weighted"
   ]
  },
  {
   "cell_type": "code",
   "execution_count": null,
   "metadata": {
    "collapsed": true
   },
   "outputs": [],
   "source": [
    "def get_final_grades(gradebook):\n",
    "    grades = {}\n",
    "    for k,v in gradebook.items():\n",
    "        pass #do what?????\n",
    "    return grades"
   ]
  },
  {
   "cell_type": "code",
   "execution_count": null,
   "metadata": {},
   "outputs": [],
   "source": [
    "get_final_grades(a)"
   ]
  },
  {
   "cell_type": "markdown",
   "metadata": {},
   "source": [
    "### Why do we want to use pandas?"
   ]
  },
  {
   "cell_type": "code",
   "execution_count": 24,
   "metadata": {},
   "outputs": [
    {
     "name": "stderr",
     "output_type": "stream",
     "text": [
      "//anaconda3/lib/python3.7/site-packages/ipykernel_launcher.py:1: FutureWarning: read_table is deprecated, use read_csv instead, passing sep='\\t'.\n",
      "  \"\"\"Entry point for launching an IPython kernel.\n"
     ]
    }
   ],
   "source": [
    "gradebook = pd.read_table('Student_Data.txt', header = None, index_col = 0)"
   ]
  },
  {
   "cell_type": "code",
   "execution_count": 25,
   "metadata": {},
   "outputs": [
    {
     "data": {
      "text/html": [
       "<div>\n",
       "<style scoped>\n",
       "    .dataframe tbody tr th:only-of-type {\n",
       "        vertical-align: middle;\n",
       "    }\n",
       "\n",
       "    .dataframe tbody tr th {\n",
       "        vertical-align: top;\n",
       "    }\n",
       "\n",
       "    .dataframe thead th {\n",
       "        text-align: right;\n",
       "    }\n",
       "</style>\n",
       "<table border=\"1\" class=\"dataframe\">\n",
       "  <thead>\n",
       "    <tr style=\"text-align: right;\">\n",
       "      <th></th>\n",
       "      <th>1</th>\n",
       "      <th>2</th>\n",
       "      <th>3</th>\n",
       "      <th>4</th>\n",
       "    </tr>\n",
       "    <tr>\n",
       "      <th>0</th>\n",
       "      <th></th>\n",
       "      <th></th>\n",
       "      <th></th>\n",
       "      <th></th>\n",
       "    </tr>\n",
       "  </thead>\n",
       "  <tbody>\n",
       "    <tr>\n",
       "      <th>Student A</th>\n",
       "      <td>90.0</td>\n",
       "      <td>95.0</td>\n",
       "      <td>96.0</td>\n",
       "      <td>97.0</td>\n",
       "    </tr>\n",
       "    <tr>\n",
       "      <th>Student B</th>\n",
       "      <td>89.0</td>\n",
       "      <td>83.0</td>\n",
       "      <td>84.0</td>\n",
       "      <td>82.0</td>\n",
       "    </tr>\n",
       "    <tr>\n",
       "      <th>Student C</th>\n",
       "      <td>78.0</td>\n",
       "      <td>NaN</td>\n",
       "      <td>77.0</td>\n",
       "      <td>76.0</td>\n",
       "    </tr>\n",
       "    <tr>\n",
       "      <th>Student D</th>\n",
       "      <td>NaN</td>\n",
       "      <td>67.0</td>\n",
       "      <td>NaN</td>\n",
       "      <td>NaN</td>\n",
       "    </tr>\n",
       "    <tr>\n",
       "      <th>Student E</th>\n",
       "      <td>42.0</td>\n",
       "      <td>NaN</td>\n",
       "      <td>46.0</td>\n",
       "      <td>NaN</td>\n",
       "    </tr>\n",
       "  </tbody>\n",
       "</table>\n",
       "</div>"
      ],
      "text/plain": [
       "              1     2     3     4\n",
       "0                                \n",
       "Student A  90.0  95.0  96.0  97.0\n",
       "Student B  89.0  83.0  84.0  82.0\n",
       "Student C  78.0   NaN  77.0  76.0\n",
       "Student D   NaN  67.0   NaN   NaN\n",
       "Student E  42.0   NaN  46.0   NaN"
      ]
     },
     "execution_count": 25,
     "metadata": {},
     "output_type": "execute_result"
    }
   ],
   "source": [
    "gradebook"
   ]
  },
  {
   "cell_type": "code",
   "execution_count": null,
   "metadata": {},
   "outputs": [],
   "source": [
    "gradebook.replace(np.nan, 0, inplace = True)\n",
    "gradebook"
   ]
  },
  {
   "cell_type": "code",
   "execution_count": null,
   "metadata": {},
   "outputs": [],
   "source": [
    "gradebook.loc['Student A']"
   ]
  },
  {
   "cell_type": "code",
   "execution_count": null,
   "metadata": {},
   "outputs": [],
   "source": [
    "finals = gradebook.mean(axis = 1)\n",
    "finals"
   ]
  }
 ],
 "metadata": {
  "kernelspec": {
   "display_name": "Python 3",
   "language": "python",
   "name": "python3"
  },
  "language_info": {
   "codemirror_mode": {
    "name": "ipython",
    "version": 3
   },
   "file_extension": ".py",
   "mimetype": "text/x-python",
   "name": "python",
   "nbconvert_exporter": "python",
   "pygments_lexer": "ipython3",
   "version": "3.7.3"
  }
 },
 "nbformat": 4,
 "nbformat_minor": 2
}
