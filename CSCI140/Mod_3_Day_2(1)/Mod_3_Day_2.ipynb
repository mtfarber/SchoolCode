{
 "cells": [
  {
   "cell_type": "code",
   "execution_count": 1,
   "metadata": {},
   "outputs": [],
   "source": [
    "import string"
   ]
  },
  {
   "cell_type": "code",
   "execution_count": null,
   "metadata": {
    "collapsed": true
   },
   "outputs": [],
   "source": [
    "#string constants\n",
    "print(string.punctuation)\n",
    "print(string.ascii_lowercase)"
   ]
  },
  {
   "cell_type": "markdown",
   "metadata": {},
   "source": [
    "## Using string and list methods"
   ]
  },
  {
   "cell_type": "code",
   "execution_count": 4,
   "metadata": {},
   "outputs": [],
   "source": [
    "FRONT = 'äöy'\n",
    "MIDDLE = 'ei'\n",
    "BACK = 'aou'\n",
    "CONSONANTS = 'bcdfghjklmnpqrstvwxyz'"
   ]
  },
  {
   "cell_type": "markdown",
   "metadata": {},
   "source": [
    "input: str word in Finnish 'taivas'\n",
    "output: str vowel pattern 'BMB'\n",
    "-locate vowels\n",
    "-figure out class of vowel, add appropriate letter"
   ]
  },
  {
   "cell_type": "code",
   "execution_count": 2,
   "metadata": {},
   "outputs": [],
   "source": [
    "def pattern(word):\n",
    "    result = ''\n",
    "    for letter in word: #pull out each letter and assign it to letter\n",
    "        if letter in FRONT: # 'y' FRONT  'äöy'\n",
    "            result += 'F'\n",
    "        elif letter in BACK:\n",
    "            result += 'B'\n",
    "        elif letter in MIDDLE:\n",
    "            result += 'M'\n",
    "    return result  "
   ]
  },
  {
   "cell_type": "code",
   "execution_count": 5,
   "metadata": {},
   "outputs": [
    {
     "name": "stdout",
     "output_type": "stream",
     "text": [
      "FFF\n",
      "BMB\n",
      "MMBB\n",
      "MBB\n"
     ]
    }
   ],
   "source": [
    "print(pattern('tänään'))\n",
    "print(pattern('taivas'))\n",
    "print(pattern('kilpikonna'))\n",
    "print(pattern('peruna'))"
   ]
  },
  {
   "cell_type": "markdown",
   "metadata": {},
   "source": [
    "### Attempt 1"
   ]
  },
  {
   "cell_type": "code",
   "execution_count": 6,
   "metadata": {},
   "outputs": [],
   "source": [
    "#What is this trying to do?\n",
    "#Why doesn't it work?\n",
    "def pattern(word):\n",
    "    return word.lower().replace(FRONT, 'F').replace(MIDDLE, 'M').replace(BACK, 'B')\n",
    "#doesn't work because the whole string front middle and back never appears"
   ]
  },
  {
   "cell_type": "code",
   "execution_count": 7,
   "metadata": {},
   "outputs": [
    {
     "name": "stdout",
     "output_type": "stream",
     "text": [
      "tänään\n",
      "taivas\n",
      "kilpikonna\n",
      "peruna\n"
     ]
    }
   ],
   "source": [
    "print(pattern('tänään'))\n",
    "print(pattern('taivas'))\n",
    "print(pattern('kilpikonna'))\n",
    "print(pattern('peruna'))"
   ]
  },
  {
   "cell_type": "markdown",
   "metadata": {},
   "source": [
    "### Attempt 2"
   ]
  },
  {
   "cell_type": "code",
   "execution_count": 8,
   "metadata": {},
   "outputs": [],
   "source": [
    "#This one works\n",
    "#How does it work? What is translate doing here?\n",
    "#Any possible things that might make it not work?\n",
    "def pattern(word):\n",
    "    return word.lower().translate(word.maketrans(FRONT+MIDDLE+BACK, 'FFFMMBBB', CONSONANTS+string.punctuation))"
   ]
  },
  {
   "cell_type": "code",
   "execution_count": 9,
   "metadata": {},
   "outputs": [
    {
     "name": "stdout",
     "output_type": "stream",
     "text": [
      "FFF\n",
      "BMB\n",
      "MMBB\n",
      "MBB\n"
     ]
    }
   ],
   "source": [
    "print(pattern('tänään'))\n",
    "print(pattern('taivas'))\n",
    "print(pattern('kilpikonna'))\n",
    "print(pattern('peruna'))"
   ]
  },
  {
   "cell_type": "markdown",
   "metadata": {},
   "source": [
    "### Attempt 3"
   ]
  },
  {
   "cell_type": "code",
   "execution_count": 10,
   "metadata": {},
   "outputs": [],
   "source": [
    "#This one does not work\n",
    "#Why does the clever clogs approach fail?\n",
    "def pattern(word):\n",
    "    return word.lower().translate(word.maketrans(FRONT+MIDDLE+BACK, 'FFFMMBBB', string.ascii_lowercase))"
   ]
  },
  {
   "cell_type": "code",
   "execution_count": 11,
   "metadata": {},
   "outputs": [
    {
     "name": "stdout",
     "output_type": "stream",
     "text": [
      "FFF\n",
      "\n",
      "\n",
      "\n"
     ]
    }
   ],
   "source": [
    "print(pattern('tänään')) #Why does this one work?\n",
    "print(pattern('taivas'))\n",
    "print(pattern('kilpikonna'))\n",
    "print(pattern('peruna'))"
   ]
  },
  {
   "cell_type": "markdown",
   "metadata": {},
   "source": [
    "### Attempt 4 - what is different about this one?"
   ]
  },
  {
   "cell_type": "code",
   "execution_count": 12,
   "metadata": {},
   "outputs": [],
   "source": [
    "text = \"Mieleni minun tekevi, aivoni ajattelevi lähteäni laulamahan, saa'ani sanelemahan, \\\n",
    "sukuvirttä suoltamahan, lajivirttä laulamahan. Sanat suussani sulavat, puhe'et putoelevat\""
   ]
  },
  {
   "cell_type": "code",
   "execution_count": 13,
   "metadata": {},
   "outputs": [],
   "source": [
    "def pattern(text):\n",
    "    return text.lower().translate(text.maketrans(FRONT+MIDDLE+BACK, 'FFFMMBBB', \\\n",
    "                                                 CONSONANTS+string.punctuation)).split() \n",
    "    "
   ]
  },
  {
   "cell_type": "code",
   "execution_count": 14,
   "metadata": {},
   "outputs": [
    {
     "name": "stdout",
     "output_type": "stream",
     "text": [
      "['MMMM', 'MB', 'MMM', 'BMBM', 'BBMMM', 'FMFM', 'BBBBB', 'BBBM', 'BMMBB', 'BBMF', 'BBBBB', 'BMMF', 'BBBBB', 'BB', 'BBBM', 'BBB', 'BMM', 'BBMMB']\n"
     ]
    }
   ],
   "source": [
    "print(pattern(text))"
   ]
  },
  {
   "cell_type": "code",
   "execution_count": 17,
   "metadata": {},
   "outputs": [
    {
     "name": "stdout",
     "output_type": "stream",
     "text": [
      "{'MMMM', 'MMM', 'BBB', 'BBMMB', 'MB', 'BMBM', 'BMMBB', 'BMMF', 'BBMMM', 'BBBM', 'BB', 'BBMF', 'FMFM', 'BBBBB', 'BMM'}\n",
      "{'MMMM', 'MMM', 'BBB', 'BBMMB', 'MB', 'BMBM', 'BMMBB', 'BMMF', 'BBMMM', 'BBBM', 'BB', 'BBMF', 'FMFM', 'BBBBB', 'BMM'}\n"
     ]
    }
   ],
   "source": [
    "unique  = set(pattern(text))\n",
    "print(unique) #Why is this shorter?\n",
    "#set gets rid of duplicates and they aren't indexable\n",
    "uniqe_list = list(unique)\n",
    "print(unique)"
   ]
  },
  {
   "cell_type": "code",
   "execution_count": 18,
   "metadata": {},
   "outputs": [
    {
     "ename": "TypeError",
     "evalue": "'set' object is not subscriptable",
     "output_type": "error",
     "traceback": [
      "\u001b[0;31m---------------------------------------------------------------------------\u001b[0m",
      "\u001b[0;31mTypeError\u001b[0m                                 Traceback (most recent call last)",
      "\u001b[0;32m<ipython-input-18-e03fc91ba3ae>\u001b[0m in \u001b[0;36m<module>\u001b[0;34m\u001b[0m\n\u001b[0;32m----> 1\u001b[0;31m \u001b[0mprint\u001b[0m\u001b[0;34m(\u001b[0m\u001b[0munique\u001b[0m\u001b[0;34m[\u001b[0m\u001b[0;36m1\u001b[0m\u001b[0;34m]\u001b[0m\u001b[0;34m)\u001b[0m\u001b[0;34m\u001b[0m\u001b[0;34m\u001b[0m\u001b[0m\n\u001b[0m",
      "\u001b[0;31mTypeError\u001b[0m: 'set' object is not subscriptable"
     ]
    }
   ],
   "source": [
    "print(unique[1])"
   ]
  },
  {
   "cell_type": "markdown",
   "metadata": {},
   "source": [
    "### Text processing and files"
   ]
  },
  {
   "cell_type": "code",
   "execution_count": 19,
   "metadata": {},
   "outputs": [
    {
     "name": "stdout",
     "output_type": "stream",
     "text": [
      "import random\n",
      "\n",
      "#This function will delete item from the list\n",
      "#Why didn't we just use remove?\n",
      "def delete_from_list(the_list, item):\n",
      "    return [obj for obj in the_list if obj != item]\n",
      "\n",
      "#Convert dollar amounts like $4.50 to floats: 4.5\n",
      "def convert(money):\n",
      "    return float(money.lstrip('$'))\n",
      "\n",
      "#Pick 5 random lotto numbers\n",
      "def lotto():\n",
      "    return [random.randint(1,34) for i in range(5)]\n"
     ]
    }
   ],
   "source": [
    "file = open('funcs.py', 'r', encoding = 'UTF8')\n",
    "text = file.read()\n",
    "print(text)\n",
    "file.close()"
   ]
  },
  {
   "cell_type": "code",
   "execution_count": 20,
   "metadata": {},
   "outputs": [
    {
     "name": "stdout",
     "output_type": "stream",
     "text": [
      "import random\n",
      "\n",
      "#This function will delete item from the list\n",
      "#Why didn't we just use remove?\n",
      "def delete_from_list(the_list, item):\n",
      "    return [obj for obj in the_list if obj != item]\n",
      "\n",
      "#Convert dollar amounts like $4.50 to floats: 4.5\n",
      "def convert(money):\n",
      "    return float(money.lstrip('$'))\n",
      "\n",
      "#Pick 5 random lotto numbers\n",
      "def lotto():\n",
      "    return [random.randint(1,34) for i in range(5)]\n"
     ]
    }
   ],
   "source": [
    "with open('funcs.py', 'r', encoding = 'UTF8') as file:\n",
    "    text = file.read()\n",
    "    print(text)"
   ]
  },
  {
   "cell_type": "code",
   "execution_count": 21,
   "metadata": {},
   "outputs": [
    {
     "name": "stdout",
     "output_type": "stream",
     "text": [
      "Line: import random\n",
      "\n",
      "Line: \n",
      "\n",
      "Line: #This function will delete item from the list\n",
      "\n",
      "Line: #Why didn't we just use remove?\n",
      "\n",
      "Line: def delete_from_list(the_list, item):\n",
      "\n",
      "Line:     return [obj for obj in the_list if obj != item]\n",
      "\n",
      "Line: \n",
      "\n",
      "Line: #Convert dollar amounts like $4.50 to floats: 4.5\n",
      "\n",
      "Line: def convert(money):\n",
      "\n",
      "Line:     return float(money.lstrip('$'))\n",
      "\n",
      "Line: \n",
      "\n",
      "Line: #Pick 5 random lotto numbers\n",
      "\n",
      "Line: def lotto():\n",
      "\n",
      "Line:     return [random.randint(1,34) for i in range(5)]\n"
     ]
    }
   ],
   "source": [
    "with open('funcs.py', 'r', encoding = 'UTF8') as file:\n",
    "    for line in file:\n",
    "        print('Line:', line)"
   ]
  },
  {
   "cell_type": "code",
   "execution_count": 25,
   "metadata": {},
   "outputs": [],
   "source": [
    "def get_comments(file):\n",
    "    with open(file, 'r', encoding = 'UTF8') as file: #opens the file, can be read\n",
    "        result = []\n",
    "        for line in file: #pull each line out, assigns that string to name line\n",
    "            if line.startswith('#'): #check if it's a comment\n",
    "                result.append(line.rstrip()) #add to our list of results\n",
    "    return result"
   ]
  },
  {
   "cell_type": "code",
   "execution_count": 26,
   "metadata": {},
   "outputs": [
    {
     "name": "stdout",
     "output_type": "stream",
     "text": [
      "['#This function will delete item from the list', \"#Why didn't we just use remove?\", '#Convert dollar amounts like $4.50 to floats: 4.5', '#Pick 5 random lotto numbers']\n"
     ]
    }
   ],
   "source": [
    "print(get_comments('funcs.py'))"
   ]
  },
  {
   "cell_type": "code",
   "execution_count": 30,
   "metadata": {},
   "outputs": [],
   "source": [
    "def fx_file_process(file):\n",
    "    with open(file, 'r', encoding = 'UTF8') as file: #opens file for reading\n",
    "        result = [] #empty list\n",
    "        for line in file: #look at each line, stores it with name line\n",
    "            if line.startswith('def') and line.rstrip().endswith(':'):\n",
    "                result.append(line[4:].split('(')[0])\n",
    "            #figure out if the line in a def line\n",
    "            #carve out the function name from the def line\n",
    "    return result\n",
    "    "
   ]
  },
  {
   "cell_type": "code",
   "execution_count": 31,
   "metadata": {},
   "outputs": [
    {
     "name": "stdout",
     "output_type": "stream",
     "text": [
      "['delete_from_list', 'convert', 'lotto']\n"
     ]
    }
   ],
   "source": [
    "print(fx_file_process('funcs.py'))"
   ]
  },
  {
   "cell_type": "code",
   "execution_count": 32,
   "metadata": {},
   "outputs": [],
   "source": [
    "test = 'def a_func(a,b):'"
   ]
  },
  {
   "cell_type": "code",
   "execution_count": 33,
   "metadata": {},
   "outputs": [],
   "source": [
    "def convert(money):\n",
    "    return float(money.lstrip('$'))"
   ]
  },
  {
   "cell_type": "code",
   "execution_count": 34,
   "metadata": {},
   "outputs": [
    {
     "name": "stdout",
     "output_type": "stream",
     "text": [
      "4.5\n"
     ]
    }
   ],
   "source": [
    "print(convert('$4.50'))"
   ]
  },
  {
   "cell_type": "markdown",
   "metadata": {},
   "source": [
    "### Debugging"
   ]
  },
  {
   "cell_type": "code",
   "execution_count": null,
   "metadata": {
    "collapsed": true
   },
   "outputs": [],
   "source": [
    "def get_emails(filename):\n",
    "    with open(filename, 'r') as content:\n",
    "        emails = []\n",
    "        tokens = content.split()\n",
    "        for token in tokens:\n",
    "            if token in '@':\n",
    "                token.translate(token.maketrans('','','<>/\"\\'')) #Do not change token.maketrans('','','<>/\"\\'')\n",
    "            emails = emails.append(token.upper())\n",
    "    return emails"
   ]
  },
  {
   "cell_type": "code",
   "execution_count": null,
   "metadata": {
    "collapsed": true
   },
   "outputs": [],
   "source": [
    "addresses = get_emails('enron_excerpt.txt')\n",
    "print(addresses)"
   ]
  },
  {
   "cell_type": "code",
   "execution_count": null,
   "metadata": {
    "collapsed": true
   },
   "outputs": [],
   "source": [
    "'''Expected output:\n",
    "\n",
    "['9056107.1075840200683.JAVAMAIL.EVANS@THYME', 'ROSALEE.FLEMING@ENRON.COM', \n",
    "'MMILKEN@KNOWLEDGEU.COM', 'MMILKEN@KNOWLEDGEU.COM', 'MMILKEN@KNOWLEDGEU.COM',\n",
    " 'LAYCORPENRON@ENRON', '19511586.1075840200934.JAVAMAIL.EVANS@THYME',\n",
    "  'NO.ADDRESS@ENRON.COM', 'KENNETH.LAY@ENRON.COM,', 'JLAYWP@AOL.COM,',\n",
    "   'MRSLINDA@LPLPI.COM,', 'SHARON@TRAVELPARK.COM', 'JLVITTOR@MOFO.COM', \n",
    "   'JLVITTOR@MOFO.COM', 'ENRON_DEVELOPMENT@CCMAIL', 'JLAYWP@AOL.COM',\n",
    "    'ENRON_DEVELOPMENT@CCMAIL,', 'MRSLINDA@LPLPI.COM', 'ENRON_DEVELOPMENT@CCMAIL,', \n",
    "    'SHARON@TRAVELPARK.COM', 'ENRON_DEVELOPMENT@CCMAIL', 'JLVITTOR@MOFO.COM', \n",
    "    'ENRON_DEVELOPMENT@CCMAIL', '15791788.1075840203209.JAVAMAIL.EVANS@THYME',\n",
    "     'JEFFREY.GARTEN@YALE.EDU', 'KENNETH.LAY@ENRON.COM', 'ROSALEE.FLEMING@ENRON.COM', \n",
    "     'ROSALEE.FLEMING@ENRON.COM', 'JEFFREY.GARTEN@YALE.EDU', 'KENNETH.LAY@ENRON.COM', \n",
    "     'KENNETH.LAY@ENRON.COM', 'ROSALEE.FLEMING@ENRON.COM', 'ROSALEE.FLEMING@ENRON.COM', \n",
    "     '28040030.1075840228655.JAVAMAIL.EVANS@THYME', 'RALPH.BLAKEMORE@ENRON.COM',\n",
    "      'KENNETH.LAY@ENRON.COM,', 'JEFF.SKILLING@ENRON.COM']\n",
    "      \n",
    "'''\n",
    "\n"
   ]
  }
 ],
 "metadata": {
  "kernelspec": {
   "display_name": "Python 3",
   "language": "python",
   "name": "python3"
  },
  "language_info": {
   "codemirror_mode": {
    "name": "ipython",
    "version": 3
   },
   "file_extension": ".py",
   "mimetype": "text/x-python",
   "name": "python",
   "nbconvert_exporter": "python",
   "pygments_lexer": "ipython3",
   "version": "3.7.3"
  }
 },
 "nbformat": 4,
 "nbformat_minor": 2
}
