{
 "cells": [
  {
   "cell_type": "code",
   "execution_count": 1,
   "metadata": {},
   "outputs": [],
   "source": [
    "import pandas as pd\n",
    "from random import shuffle"
   ]
  },
  {
   "cell_type": "code",
   "execution_count": 2,
   "metadata": {},
   "outputs": [
    {
     "name": "stdout",
     "output_type": "stream",
     "text": [
      "TURTLE\n"
     ]
    }
   ],
   "source": [
    "text = 'turtle'\n",
    "print(text.upper())"
   ]
  },
  {
   "cell_type": "code",
   "execution_count": 3,
   "metadata": {},
   "outputs": [
    {
     "name": "stdout",
     "output_type": "stream",
     "text": [
      "[0, 1, 2, 3, 4, 5, 6, 7, 8, 9]\n"
     ]
    }
   ],
   "source": [
    "idx = list(range(10))\n",
    "print(idx)"
   ]
  },
  {
   "cell_type": "code",
   "execution_count": 4,
   "metadata": {},
   "outputs": [
    {
     "name": "stdout",
     "output_type": "stream",
     "text": [
      "(10,)\n"
     ]
    }
   ],
   "source": [
    "data = ['turtle']*5+['potato']*5\n",
    "my_ser = pd.Series(data, idx)\n",
    "print(my_ser.shape)"
   ]
  },
  {
   "cell_type": "code",
   "execution_count": 16,
   "metadata": {},
   "outputs": [
    {
     "name": "stdout",
     "output_type": "stream",
     "text": [
      "['AS', 'KS', '8H', 'JH', '3S', '5H', '4H', '2C', '2D', '6D', '2H', '9S', 'JD', 'KD', '4S', 'AD', 'QH', 'KH', '9C', 'JS', '6S', '8D', 'QD', 'KC', '7H', '9H', '5D', 'QS', '3C', '9D', '10C', 'JC', '6H', '2S', '10D', '4C', '3H', '4D', '3D', 'AH', '5C', '10H', '7S', '6C', 'QC', '7C', 'AC', '8C', '10S', '8S', '7D', '5S']\n"
     ]
    }
   ],
   "source": [
    "SUITS = ['C']*13 + ['S']*13 + ['H']*13 + ['D']*13\n",
    "VALUES = (list(range(2,11))+['A','J','Q','K'])*4\n",
    "cards = [str(VALUES[i])+SUITS[i] for i in range(52)]\n",
    "shuffle(cards)\n",
    "print(cards)"
   ]
  },
  {
   "cell_type": "code",
   "execution_count": 8,
   "metadata": {},
   "outputs": [
    {
     "name": "stdout",
     "output_type": "stream",
     "text": [
      "[1, 2, 3, 5]\n"
     ]
    }
   ],
   "source": [
    "a = [1,2,3]\n",
    "a.append(5)\n",
    "print(a)"
   ]
  },
  {
   "cell_type": "code",
   "execution_count": 17,
   "metadata": {},
   "outputs": [],
   "source": [
    "def deal_cards(num = 2):\n",
    "    return [cards.pop() for i in range(num)] #Why am I using pop here instead of indexing?"
   ]
  },
  {
   "cell_type": "code",
   "execution_count": 18,
   "metadata": {},
   "outputs": [
    {
     "name": "stdout",
     "output_type": "stream",
     "text": [
      "['5S', '7D', '8S', '10S', '8C']\n",
      "47\n"
     ]
    }
   ],
   "source": [
    "hand = deal_cards(5)\n",
    "print(hand)\n",
    "print(len(cards))"
   ]
  },
  {
   "cell_type": "code",
   "execution_count": 14,
   "metadata": {},
   "outputs": [
    {
     "ename": "IndexError",
     "evalue": "pop from empty list",
     "output_type": "error",
     "traceback": [
      "\u001b[0;31m---------------------------------------------------------------------------\u001b[0m",
      "\u001b[0;31mIndexError\u001b[0m                                Traceback (most recent call last)",
      "\u001b[0;32m<ipython-input-14-82e70388bdc9>\u001b[0m in \u001b[0;36m<module>\u001b[0;34m\u001b[0m\n\u001b[0;32m----> 1\u001b[0;31m \u001b[0mhand\u001b[0m \u001b[0;34m=\u001b[0m \u001b[0mdeal_cards\u001b[0m\u001b[0;34m(\u001b[0m\u001b[0;36m60\u001b[0m\u001b[0;34m)\u001b[0m\u001b[0;34m\u001b[0m\u001b[0;34m\u001b[0m\u001b[0m\n\u001b[0m",
      "\u001b[0;32m<ipython-input-12-3b46f5ada54c>\u001b[0m in \u001b[0;36mdeal_cards\u001b[0;34m(num)\u001b[0m\n\u001b[1;32m      1\u001b[0m \u001b[0;32mdef\u001b[0m \u001b[0mdeal_cards\u001b[0m\u001b[0;34m(\u001b[0m\u001b[0mnum\u001b[0m \u001b[0;34m=\u001b[0m \u001b[0;36m2\u001b[0m\u001b[0;34m)\u001b[0m\u001b[0;34m:\u001b[0m\u001b[0;34m\u001b[0m\u001b[0;34m\u001b[0m\u001b[0m\n\u001b[0;32m----> 2\u001b[0;31m     \u001b[0;32mreturn\u001b[0m \u001b[0;34m[\u001b[0m\u001b[0mcards\u001b[0m\u001b[0;34m.\u001b[0m\u001b[0mpop\u001b[0m\u001b[0;34m(\u001b[0m\u001b[0;34m)\u001b[0m \u001b[0;32mfor\u001b[0m \u001b[0mi\u001b[0m \u001b[0;32min\u001b[0m \u001b[0mrange\u001b[0m\u001b[0;34m(\u001b[0m\u001b[0mnum\u001b[0m\u001b[0;34m)\u001b[0m\u001b[0;34m]\u001b[0m \u001b[0;31m#Why am I using pop here instead of indexing?\u001b[0m\u001b[0;34m\u001b[0m\u001b[0;34m\u001b[0m\u001b[0m\n\u001b[0m",
      "\u001b[0;32m<ipython-input-12-3b46f5ada54c>\u001b[0m in \u001b[0;36m<listcomp>\u001b[0;34m(.0)\u001b[0m\n\u001b[1;32m      1\u001b[0m \u001b[0;32mdef\u001b[0m \u001b[0mdeal_cards\u001b[0m\u001b[0;34m(\u001b[0m\u001b[0mnum\u001b[0m \u001b[0;34m=\u001b[0m \u001b[0;36m2\u001b[0m\u001b[0;34m)\u001b[0m\u001b[0;34m:\u001b[0m\u001b[0;34m\u001b[0m\u001b[0;34m\u001b[0m\u001b[0m\n\u001b[0;32m----> 2\u001b[0;31m     \u001b[0;32mreturn\u001b[0m \u001b[0;34m[\u001b[0m\u001b[0mcards\u001b[0m\u001b[0;34m.\u001b[0m\u001b[0mpop\u001b[0m\u001b[0;34m(\u001b[0m\u001b[0;34m)\u001b[0m \u001b[0;32mfor\u001b[0m \u001b[0mi\u001b[0m \u001b[0;32min\u001b[0m \u001b[0mrange\u001b[0m\u001b[0;34m(\u001b[0m\u001b[0mnum\u001b[0m\u001b[0;34m)\u001b[0m\u001b[0;34m]\u001b[0m \u001b[0;31m#Why am I using pop here instead of indexing?\u001b[0m\u001b[0;34m\u001b[0m\u001b[0;34m\u001b[0m\u001b[0m\n\u001b[0m",
      "\u001b[0;31mIndexError\u001b[0m: pop from empty list"
     ]
    }
   ],
   "source": [
    "hand = deal_cards(60)"
   ]
  },
  {
   "cell_type": "code",
   "execution_count": 20,
   "metadata": {},
   "outputs": [],
   "source": [
    "def deal_cards(num = 2):\n",
    "    SUITS = ['C']*13 + ['S']*13 + ['H']*13 + ['D']*13\n",
    "    VALUES = (list(range(2,11))+['A','J','Q','K'])*4\n",
    "    cards = [str(VALUES[i])+SUITS[i] for i in range(52)]\n",
    "    shuffle(cards)\n",
    "    while len(cards) < num: #Problematic!\n",
    "        new_cards = [str(VALUES[i])+SUITS[i] for i in range(52)]\n",
    "        shuffle(new_cards) \n",
    "        cards = new_cards + cards\n",
    "    return [cards.pop() for i in range(num)]"
   ]
  },
  {
   "cell_type": "code",
   "execution_count": 21,
   "metadata": {},
   "outputs": [
    {
     "data": {
      "text/plain": [
       "['AC', '5S', '2C', '7S', '9H', '6C', 'QH', '6S', '5D', '7D']"
      ]
     },
     "execution_count": 21,
     "metadata": {},
     "output_type": "execute_result"
    }
   ],
   "source": [
    "deal_cards(10)"
   ]
  },
  {
   "cell_type": "code",
   "execution_count": 28,
   "metadata": {},
   "outputs": [],
   "source": [
    "class Cards:\n",
    "    \n",
    "    def __init__(self): #Constructor: creates physical object (MAGIC) and object set up - put data in\n",
    "        self.SUITS = ['C']*13 + ['S']*13 + ['H']*13 + ['D']*13\n",
    "        self.VALUES = (list(range(2,11))+['A','J','Q','K'])*4\n",
    "        self.cards = [str(VALUES[i])+SUITS[i] for i in range(52)]\n",
    "        shuffle(self.cards)\n",
    "    def deal_cards(self, num = 2):\n",
    "        while len(self.cards) < num: #Problematic!\n",
    "            new_cards = [str(self.VALUES[i])+self.SUITS[i] for i in range(52)]\n",
    "            shuffle(new_cards) \n",
    "            self.cards = new_cards + self.cards\n",
    "        return [cards.pop() for i in range(num)]\n",
    "\n",
    "    def __str__(self): #call this method by printing object or casting to a string\n",
    "        return 'Deck of cards has:' + str(self.cards) #RETURNS a string that represents the object"
   ]
  },
  {
   "cell_type": "code",
   "execution_count": 31,
   "metadata": {},
   "outputs": [
    {
     "name": "stdout",
     "output_type": "stream",
     "text": [
      "['10H', '5C', 'AH', '3D', '4D']\n"
     ]
    }
   ],
   "source": [
    "my_cards = Cards() #Construtor call\n",
    "print(my_cards.deal_cards(5)) #calling__str__\n"
   ]
  },
  {
   "cell_type": "code",
   "execution_count": 30,
   "metadata": {},
   "outputs": [
    {
     "data": {
      "text/plain": [
       "'TURTLE'"
      ]
     },
     "execution_count": 30,
     "metadata": {},
     "output_type": "execute_result"
    }
   ],
   "source": [
    "text = 'turtle'\n",
    "#object_name.method_name()\n",
    "text.upper()"
   ]
  },
  {
   "cell_type": "code",
   "execution_count": null,
   "metadata": {},
   "outputs": [],
   "source": []
  }
 ],
 "metadata": {
  "kernelspec": {
   "display_name": "Python 3",
   "language": "python",
   "name": "python3"
  },
  "language_info": {
   "codemirror_mode": {
    "name": "ipython",
    "version": 3
   },
   "file_extension": ".py",
   "mimetype": "text/x-python",
   "name": "python",
   "nbconvert_exporter": "python",
   "pygments_lexer": "ipython3",
   "version": "3.7.3"
  }
 },
 "nbformat": 4,
 "nbformat_minor": 2
}
