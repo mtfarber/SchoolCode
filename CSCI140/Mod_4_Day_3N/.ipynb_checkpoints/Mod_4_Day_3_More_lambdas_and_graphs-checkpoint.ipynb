{
 "cells": [
  {
   "cell_type": "code",
   "execution_count": 1,
   "metadata": {},
   "outputs": [],
   "source": [
    "%matplotlib inline\n",
    "import pandas as pd\n",
    "import numpy as np\n",
    "import seaborn as sns\n",
    "import matplotlib.pyplot as plt"
   ]
  },
  {
   "cell_type": "code",
   "execution_count": 21,
   "metadata": {},
   "outputs": [],
   "source": [
    "lakes = pd.read_csv('Lakes_Edit_Data.txt', sep = '\\t') #Hmmm, what's wrong?"
   ]
  },
  {
   "cell_type": "code",
   "execution_count": 5,
   "metadata": {},
   "outputs": [
    {
     "data": {
      "text/html": [
       "<div>\n",
       "<style scoped>\n",
       "    .dataframe tbody tr th:only-of-type {\n",
       "        vertical-align: middle;\n",
       "    }\n",
       "\n",
       "    .dataframe tbody tr th {\n",
       "        vertical-align: top;\n",
       "    }\n",
       "\n",
       "    .dataframe thead th {\n",
       "        text-align: right;\n",
       "    }\n",
       "</style>\n",
       "<table border=\"1\" class=\"dataframe\">\n",
       "  <thead>\n",
       "    <tr style=\"text-align: right;\">\n",
       "      <th></th>\n",
       "      <th>Number</th>\n",
       "      <th>TP</th>\n",
       "      <th>Status</th>\n",
       "      <th>TN</th>\n",
       "      <th>TN.TP</th>\n",
       "      <th>Chl.a</th>\n",
       "      <th>pH</th>\n",
       "      <th>Secchi.Depth</th>\n",
       "      <th>Colour</th>\n",
       "      <th>Temperature</th>\n",
       "      <th>Latitude</th>\n",
       "      <th>Longitude</th>\n",
       "      <th>Cyanobacteria</th>\n",
       "      <th>Anabaena</th>\n",
       "      <th>Microcystis</th>\n",
       "      <th>logCyano.1</th>\n",
       "    </tr>\n",
       "  </thead>\n",
       "  <tbody>\n",
       "    <tr>\n",
       "      <th>0</th>\n",
       "      <td>12</td>\n",
       "      <td>24</td>\n",
       "      <td>Mesotrophic</td>\n",
       "      <td>440</td>\n",
       "      <td>11.0</td>\n",
       "      <td>12.0</td>\n",
       "      <td>8.0</td>\n",
       "      <td>2.2</td>\n",
       "      <td>20</td>\n",
       "      <td>20.4</td>\n",
       "      <td>61.01</td>\n",
       "      <td>22.12</td>\n",
       "      <td>0.0480</td>\n",
       "      <td>0.003</td>\n",
       "      <td>0.000</td>\n",
       "      <td>-3.036554</td>\n",
       "    </tr>\n",
       "    <tr>\n",
       "      <th>1</th>\n",
       "      <td>54</td>\n",
       "      <td>20</td>\n",
       "      <td>Mesotrophic</td>\n",
       "      <td>840</td>\n",
       "      <td>42.0</td>\n",
       "      <td>18.0</td>\n",
       "      <td>6.9</td>\n",
       "      <td>1.2</td>\n",
       "      <td>100</td>\n",
       "      <td>18.8</td>\n",
       "      <td>61.46</td>\n",
       "      <td>23.02</td>\n",
       "      <td>0.2184</td>\n",
       "      <td>0.058</td>\n",
       "      <td>0.000</td>\n",
       "      <td>-1.521427</td>\n",
       "    </tr>\n",
       "    <tr>\n",
       "      <th>2</th>\n",
       "      <td>15</td>\n",
       "      <td>8</td>\n",
       "      <td>Oligotrophic</td>\n",
       "      <td>370</td>\n",
       "      <td>46.3</td>\n",
       "      <td>3.2</td>\n",
       "      <td>7.0</td>\n",
       "      <td>5.3</td>\n",
       "      <td>15</td>\n",
       "      <td>18.5</td>\n",
       "      <td>61.03</td>\n",
       "      <td>23.15</td>\n",
       "      <td>0.0165</td>\n",
       "      <td>0.002</td>\n",
       "      <td>0.000</td>\n",
       "      <td>-4.104395</td>\n",
       "    </tr>\n",
       "    <tr>\n",
       "      <th>3</th>\n",
       "      <td>23</td>\n",
       "      <td>67</td>\n",
       "      <td>Eutrophic</td>\n",
       "      <td>990</td>\n",
       "      <td>14.8</td>\n",
       "      <td>36.0</td>\n",
       "      <td>7.4</td>\n",
       "      <td>0.4</td>\n",
       "      <td>160</td>\n",
       "      <td>19.4</td>\n",
       "      <td>61.24</td>\n",
       "      <td>23.19</td>\n",
       "      <td>0.0718</td>\n",
       "      <td>0.000</td>\n",
       "      <td>0.000</td>\n",
       "      <td>-2.633871</td>\n",
       "    </tr>\n",
       "    <tr>\n",
       "      <th>4</th>\n",
       "      <td>44</td>\n",
       "      <td>39</td>\n",
       "      <td>Eutrophic</td>\n",
       "      <td>810</td>\n",
       "      <td>20.8</td>\n",
       "      <td>26.0</td>\n",
       "      <td>8.9</td>\n",
       "      <td>0.5</td>\n",
       "      <td>60</td>\n",
       "      <td>20.1</td>\n",
       "      <td>60.50</td>\n",
       "      <td>23.29</td>\n",
       "      <td>0.3256</td>\n",
       "      <td>0.070</td>\n",
       "      <td>0.018</td>\n",
       "      <td>-1.122086</td>\n",
       "    </tr>\n",
       "  </tbody>\n",
       "</table>\n",
       "</div>"
      ],
      "text/plain": [
       "   Number  TP        Status   TN  TN.TP  Chl.a   pH  Secchi.Depth  Colour  \\\n",
       "0      12  24   Mesotrophic  440   11.0   12.0  8.0           2.2      20   \n",
       "1      54  20   Mesotrophic  840   42.0   18.0  6.9           1.2     100   \n",
       "2      15   8  Oligotrophic  370   46.3    3.2  7.0           5.3      15   \n",
       "3      23  67     Eutrophic  990   14.8   36.0  7.4           0.4     160   \n",
       "4      44  39     Eutrophic  810   20.8   26.0  8.9           0.5      60   \n",
       "\n",
       "   Temperature  Latitude  Longitude  Cyanobacteria  Anabaena  Microcystis  \\\n",
       "0         20.4     61.01      22.12         0.0480     0.003        0.000   \n",
       "1         18.8     61.46      23.02         0.2184     0.058        0.000   \n",
       "2         18.5     61.03      23.15         0.0165     0.002        0.000   \n",
       "3         19.4     61.24      23.19         0.0718     0.000        0.000   \n",
       "4         20.1     60.50      23.29         0.3256     0.070        0.018   \n",
       "\n",
       "   logCyano.1  \n",
       "0   -3.036554  \n",
       "1   -1.521427  \n",
       "2   -4.104395  \n",
       "3   -2.633871  \n",
       "4   -1.122086  "
      ]
     },
     "execution_count": 5,
     "metadata": {},
     "output_type": "execute_result"
    }
   ],
   "source": [
    "lakes.head()"
   ]
  },
  {
   "cell_type": "code",
   "execution_count": 7,
   "metadata": {},
   "outputs": [
    {
     "name": "stdout",
     "output_type": "stream",
     "text": [
      "MESO\n"
     ]
    }
   ],
   "source": [
    "#Make status all uppercase EU, OLIGO, MESO\n",
    "test = 'Mesotrophic'\n",
    "print(test.upper()[:-7])\n"
   ]
  },
  {
   "cell_type": "code",
   "execution_count": 11,
   "metadata": {},
   "outputs": [],
   "source": [
    "#Use Series methods\n",
    "lakes['Status'].str.upper().str.slice(0,-7);"
   ]
  },
  {
   "cell_type": "code",
   "execution_count": 12,
   "metadata": {},
   "outputs": [],
   "source": [
    "def convert(x):\n",
    "    return x.upper()[:-7]"
   ]
  },
  {
   "cell_type": "code",
   "execution_count": 16,
   "metadata": {},
   "outputs": [],
   "source": [
    "lakes['Status'].apply(convert);"
   ]
  },
  {
   "cell_type": "code",
   "execution_count": 22,
   "metadata": {},
   "outputs": [],
   "source": [
    "#Use lambda\n",
    "lakes['Status'] = lakes['Status'].apply(lambda x: x.upper()[:-7])"
   ]
  },
  {
   "cell_type": "code",
   "execution_count": 23,
   "metadata": {},
   "outputs": [
    {
     "data": {
      "text/html": [
       "<div>\n",
       "<style scoped>\n",
       "    .dataframe tbody tr th:only-of-type {\n",
       "        vertical-align: middle;\n",
       "    }\n",
       "\n",
       "    .dataframe tbody tr th {\n",
       "        vertical-align: top;\n",
       "    }\n",
       "\n",
       "    .dataframe thead th {\n",
       "        text-align: right;\n",
       "    }\n",
       "</style>\n",
       "<table border=\"1\" class=\"dataframe\">\n",
       "  <thead>\n",
       "    <tr style=\"text-align: right;\">\n",
       "      <th></th>\n",
       "      <th>Number</th>\n",
       "      <th>TP</th>\n",
       "      <th>Status</th>\n",
       "      <th>TN</th>\n",
       "      <th>TN.TP</th>\n",
       "      <th>Chl.a</th>\n",
       "      <th>pH</th>\n",
       "      <th>Secchi.Depth</th>\n",
       "      <th>Colour</th>\n",
       "      <th>Temperature</th>\n",
       "      <th>Latitude</th>\n",
       "      <th>Longitude</th>\n",
       "      <th>Cyanobacteria</th>\n",
       "      <th>Anabaena</th>\n",
       "      <th>Microcystis</th>\n",
       "      <th>logCyano.1</th>\n",
       "    </tr>\n",
       "  </thead>\n",
       "  <tbody>\n",
       "    <tr>\n",
       "      <th>0</th>\n",
       "      <td>12</td>\n",
       "      <td>24</td>\n",
       "      <td>MESO</td>\n",
       "      <td>440</td>\n",
       "      <td>11.0</td>\n",
       "      <td>12.0</td>\n",
       "      <td>8.0</td>\n",
       "      <td>2.2</td>\n",
       "      <td>20</td>\n",
       "      <td>20.4</td>\n",
       "      <td>61.01</td>\n",
       "      <td>22.12</td>\n",
       "      <td>0.0480</td>\n",
       "      <td>0.003</td>\n",
       "      <td>0.000</td>\n",
       "      <td>-3.036554</td>\n",
       "    </tr>\n",
       "    <tr>\n",
       "      <th>1</th>\n",
       "      <td>54</td>\n",
       "      <td>20</td>\n",
       "      <td>MESO</td>\n",
       "      <td>840</td>\n",
       "      <td>42.0</td>\n",
       "      <td>18.0</td>\n",
       "      <td>6.9</td>\n",
       "      <td>1.2</td>\n",
       "      <td>100</td>\n",
       "      <td>18.8</td>\n",
       "      <td>61.46</td>\n",
       "      <td>23.02</td>\n",
       "      <td>0.2184</td>\n",
       "      <td>0.058</td>\n",
       "      <td>0.000</td>\n",
       "      <td>-1.521427</td>\n",
       "    </tr>\n",
       "    <tr>\n",
       "      <th>2</th>\n",
       "      <td>15</td>\n",
       "      <td>8</td>\n",
       "      <td>OLIGO</td>\n",
       "      <td>370</td>\n",
       "      <td>46.3</td>\n",
       "      <td>3.2</td>\n",
       "      <td>7.0</td>\n",
       "      <td>5.3</td>\n",
       "      <td>15</td>\n",
       "      <td>18.5</td>\n",
       "      <td>61.03</td>\n",
       "      <td>23.15</td>\n",
       "      <td>0.0165</td>\n",
       "      <td>0.002</td>\n",
       "      <td>0.000</td>\n",
       "      <td>-4.104395</td>\n",
       "    </tr>\n",
       "    <tr>\n",
       "      <th>3</th>\n",
       "      <td>23</td>\n",
       "      <td>67</td>\n",
       "      <td>EU</td>\n",
       "      <td>990</td>\n",
       "      <td>14.8</td>\n",
       "      <td>36.0</td>\n",
       "      <td>7.4</td>\n",
       "      <td>0.4</td>\n",
       "      <td>160</td>\n",
       "      <td>19.4</td>\n",
       "      <td>61.24</td>\n",
       "      <td>23.19</td>\n",
       "      <td>0.0718</td>\n",
       "      <td>0.000</td>\n",
       "      <td>0.000</td>\n",
       "      <td>-2.633871</td>\n",
       "    </tr>\n",
       "    <tr>\n",
       "      <th>4</th>\n",
       "      <td>44</td>\n",
       "      <td>39</td>\n",
       "      <td>EU</td>\n",
       "      <td>810</td>\n",
       "      <td>20.8</td>\n",
       "      <td>26.0</td>\n",
       "      <td>8.9</td>\n",
       "      <td>0.5</td>\n",
       "      <td>60</td>\n",
       "      <td>20.1</td>\n",
       "      <td>60.50</td>\n",
       "      <td>23.29</td>\n",
       "      <td>0.3256</td>\n",
       "      <td>0.070</td>\n",
       "      <td>0.018</td>\n",
       "      <td>-1.122086</td>\n",
       "    </tr>\n",
       "  </tbody>\n",
       "</table>\n",
       "</div>"
      ],
      "text/plain": [
       "   Number  TP Status   TN  TN.TP  Chl.a   pH  Secchi.Depth  Colour  \\\n",
       "0      12  24   MESO  440   11.0   12.0  8.0           2.2      20   \n",
       "1      54  20   MESO  840   42.0   18.0  6.9           1.2     100   \n",
       "2      15   8  OLIGO  370   46.3    3.2  7.0           5.3      15   \n",
       "3      23  67     EU  990   14.8   36.0  7.4           0.4     160   \n",
       "4      44  39     EU  810   20.8   26.0  8.9           0.5      60   \n",
       "\n",
       "   Temperature  Latitude  Longitude  Cyanobacteria  Anabaena  Microcystis  \\\n",
       "0         20.4     61.01      22.12         0.0480     0.003        0.000   \n",
       "1         18.8     61.46      23.02         0.2184     0.058        0.000   \n",
       "2         18.5     61.03      23.15         0.0165     0.002        0.000   \n",
       "3         19.4     61.24      23.19         0.0718     0.000        0.000   \n",
       "4         20.1     60.50      23.29         0.3256     0.070        0.018   \n",
       "\n",
       "   logCyano.1  \n",
       "0   -3.036554  \n",
       "1   -1.521427  \n",
       "2   -4.104395  \n",
       "3   -2.633871  \n",
       "4   -1.122086  "
      ]
     },
     "execution_count": 23,
     "metadata": {},
     "output_type": "execute_result"
    }
   ],
   "source": [
    "lakes.head()"
   ]
  },
  {
   "cell_type": "code",
   "execution_count": 24,
   "metadata": {},
   "outputs": [],
   "source": [
    "#Make status into an int: 0 for OLIGO, 1 for MESO, 2 for EU\n",
    "def convert(trophic):\n",
    "    if trophic == 'OLIGO':\n",
    "        return 0\n",
    "    elif trophic == 'MESO':\n",
    "        return 1\n",
    "    elif trophic == 'EU':\n",
    "        return 2"
   ]
  },
  {
   "cell_type": "code",
   "execution_count": 26,
   "metadata": {},
   "outputs": [
    {
     "data": {
      "text/plain": [
       "1"
      ]
     },
     "execution_count": 26,
     "metadata": {},
     "output_type": "execute_result"
    }
   ],
   "source": [
    "stat = {'OLIGO':0, 'MESO':1, 'EU':2}\n",
    "trophic = 'MESO'\n",
    "stat.get(trophic)\n",
    "stat[trophic]"
   ]
  },
  {
   "cell_type": "code",
   "execution_count": 25,
   "metadata": {},
   "outputs": [
    {
     "data": {
      "text/plain": [
       "0     1\n",
       "1     1\n",
       "2     0\n",
       "3     2\n",
       "4     2\n",
       "5     1\n",
       "6     0\n",
       "7     0\n",
       "8     0\n",
       "9     1\n",
       "10    1\n",
       "11    0\n",
       "12    1\n",
       "13    2\n",
       "14    1\n",
       "15    1\n",
       "16    1\n",
       "17    1\n",
       "18    1\n",
       "19    2\n",
       "20    2\n",
       "21    0\n",
       "22    1\n",
       "23    2\n",
       "24    1\n",
       "25    0\n",
       "26    1\n",
       "27    1\n",
       "28    1\n",
       "29    0\n",
       "30    0\n",
       "31    2\n",
       "32    1\n",
       "33    0\n",
       "34    0\n",
       "35    1\n",
       "36    1\n",
       "37    2\n",
       "38    1\n",
       "39    2\n",
       "40    0\n",
       "41    0\n",
       "42    1\n",
       "43    1\n",
       "44    0\n",
       "45    1\n",
       "46    0\n",
       "47    1\n",
       "48    1\n",
       "49    0\n",
       "50    1\n",
       "51    1\n",
       "Name: Status, dtype: int64"
      ]
     },
     "execution_count": 25,
     "metadata": {},
     "output_type": "execute_result"
    }
   ],
   "source": [
    "lakes['Status'].apply(convert)"
   ]
  },
  {
   "cell_type": "code",
   "execution_count": null,
   "metadata": {},
   "outputs": [],
   "source": []
  },
  {
   "cell_type": "code",
   "execution_count": 27,
   "metadata": {},
   "outputs": [],
   "source": [
    "#With a lambda\n",
    "lakes['Status'] = lakes['Status'].apply(lambda trophic: stat.get(trophic))"
   ]
  },
  {
   "cell_type": "code",
   "execution_count": 28,
   "metadata": {},
   "outputs": [
    {
     "data": {
      "text/html": [
       "<div>\n",
       "<style scoped>\n",
       "    .dataframe tbody tr th:only-of-type {\n",
       "        vertical-align: middle;\n",
       "    }\n",
       "\n",
       "    .dataframe tbody tr th {\n",
       "        vertical-align: top;\n",
       "    }\n",
       "\n",
       "    .dataframe thead th {\n",
       "        text-align: right;\n",
       "    }\n",
       "</style>\n",
       "<table border=\"1\" class=\"dataframe\">\n",
       "  <thead>\n",
       "    <tr style=\"text-align: right;\">\n",
       "      <th></th>\n",
       "      <th>Number</th>\n",
       "      <th>TP</th>\n",
       "      <th>Status</th>\n",
       "      <th>TN</th>\n",
       "      <th>TN.TP</th>\n",
       "      <th>Chl.a</th>\n",
       "      <th>pH</th>\n",
       "      <th>Secchi.Depth</th>\n",
       "      <th>Colour</th>\n",
       "      <th>Temperature</th>\n",
       "      <th>Latitude</th>\n",
       "      <th>Longitude</th>\n",
       "      <th>Cyanobacteria</th>\n",
       "      <th>Anabaena</th>\n",
       "      <th>Microcystis</th>\n",
       "      <th>logCyano.1</th>\n",
       "    </tr>\n",
       "  </thead>\n",
       "  <tbody>\n",
       "    <tr>\n",
       "      <th>0</th>\n",
       "      <td>12</td>\n",
       "      <td>24</td>\n",
       "      <td>1</td>\n",
       "      <td>440</td>\n",
       "      <td>11.0</td>\n",
       "      <td>12.0</td>\n",
       "      <td>8.0</td>\n",
       "      <td>2.2</td>\n",
       "      <td>20</td>\n",
       "      <td>20.4</td>\n",
       "      <td>61.01</td>\n",
       "      <td>22.12</td>\n",
       "      <td>0.0480</td>\n",
       "      <td>0.003</td>\n",
       "      <td>0.000</td>\n",
       "      <td>-3.036554</td>\n",
       "    </tr>\n",
       "    <tr>\n",
       "      <th>1</th>\n",
       "      <td>54</td>\n",
       "      <td>20</td>\n",
       "      <td>1</td>\n",
       "      <td>840</td>\n",
       "      <td>42.0</td>\n",
       "      <td>18.0</td>\n",
       "      <td>6.9</td>\n",
       "      <td>1.2</td>\n",
       "      <td>100</td>\n",
       "      <td>18.8</td>\n",
       "      <td>61.46</td>\n",
       "      <td>23.02</td>\n",
       "      <td>0.2184</td>\n",
       "      <td>0.058</td>\n",
       "      <td>0.000</td>\n",
       "      <td>-1.521427</td>\n",
       "    </tr>\n",
       "    <tr>\n",
       "      <th>2</th>\n",
       "      <td>15</td>\n",
       "      <td>8</td>\n",
       "      <td>0</td>\n",
       "      <td>370</td>\n",
       "      <td>46.3</td>\n",
       "      <td>3.2</td>\n",
       "      <td>7.0</td>\n",
       "      <td>5.3</td>\n",
       "      <td>15</td>\n",
       "      <td>18.5</td>\n",
       "      <td>61.03</td>\n",
       "      <td>23.15</td>\n",
       "      <td>0.0165</td>\n",
       "      <td>0.002</td>\n",
       "      <td>0.000</td>\n",
       "      <td>-4.104395</td>\n",
       "    </tr>\n",
       "    <tr>\n",
       "      <th>3</th>\n",
       "      <td>23</td>\n",
       "      <td>67</td>\n",
       "      <td>2</td>\n",
       "      <td>990</td>\n",
       "      <td>14.8</td>\n",
       "      <td>36.0</td>\n",
       "      <td>7.4</td>\n",
       "      <td>0.4</td>\n",
       "      <td>160</td>\n",
       "      <td>19.4</td>\n",
       "      <td>61.24</td>\n",
       "      <td>23.19</td>\n",
       "      <td>0.0718</td>\n",
       "      <td>0.000</td>\n",
       "      <td>0.000</td>\n",
       "      <td>-2.633871</td>\n",
       "    </tr>\n",
       "    <tr>\n",
       "      <th>4</th>\n",
       "      <td>44</td>\n",
       "      <td>39</td>\n",
       "      <td>2</td>\n",
       "      <td>810</td>\n",
       "      <td>20.8</td>\n",
       "      <td>26.0</td>\n",
       "      <td>8.9</td>\n",
       "      <td>0.5</td>\n",
       "      <td>60</td>\n",
       "      <td>20.1</td>\n",
       "      <td>60.50</td>\n",
       "      <td>23.29</td>\n",
       "      <td>0.3256</td>\n",
       "      <td>0.070</td>\n",
       "      <td>0.018</td>\n",
       "      <td>-1.122086</td>\n",
       "    </tr>\n",
       "  </tbody>\n",
       "</table>\n",
       "</div>"
      ],
      "text/plain": [
       "   Number  TP  Status   TN  TN.TP  Chl.a   pH  Secchi.Depth  Colour  \\\n",
       "0      12  24       1  440   11.0   12.0  8.0           2.2      20   \n",
       "1      54  20       1  840   42.0   18.0  6.9           1.2     100   \n",
       "2      15   8       0  370   46.3    3.2  7.0           5.3      15   \n",
       "3      23  67       2  990   14.8   36.0  7.4           0.4     160   \n",
       "4      44  39       2  810   20.8   26.0  8.9           0.5      60   \n",
       "\n",
       "   Temperature  Latitude  Longitude  Cyanobacteria  Anabaena  Microcystis  \\\n",
       "0         20.4     61.01      22.12         0.0480     0.003        0.000   \n",
       "1         18.8     61.46      23.02         0.2184     0.058        0.000   \n",
       "2         18.5     61.03      23.15         0.0165     0.002        0.000   \n",
       "3         19.4     61.24      23.19         0.0718     0.000        0.000   \n",
       "4         20.1     60.50      23.29         0.3256     0.070        0.018   \n",
       "\n",
       "   logCyano.1  \n",
       "0   -3.036554  \n",
       "1   -1.521427  \n",
       "2   -4.104395  \n",
       "3   -2.633871  \n",
       "4   -1.122086  "
      ]
     },
     "execution_count": 28,
     "metadata": {},
     "output_type": "execute_result"
    }
   ],
   "source": [
    "lakes.head()"
   ]
  },
  {
   "cell_type": "markdown",
   "metadata": {},
   "source": [
    "### Some graphs"
   ]
  },
  {
   "cell_type": "code",
   "execution_count": 29,
   "metadata": {},
   "outputs": [],
   "source": [
    "unemp = pd.read_csv('US_Unemployment_Oct2012.csv', index_col = 0)"
   ]
  },
  {
   "cell_type": "code",
   "execution_count": 31,
   "metadata": {},
   "outputs": [
    {
     "data": {
      "text/plain": [
       "Unemployment    10.1\n",
       "Name: CA, dtype: float64"
      ]
     },
     "execution_count": 31,
     "metadata": {},
     "output_type": "execute_result"
    }
   ],
   "source": [
    "unemp.loc['CA']"
   ]
  },
  {
   "cell_type": "code",
   "execution_count": 32,
   "metadata": {},
   "outputs": [
    {
     "data": {
      "text/plain": [
       "Index(['AL', 'AK', 'AZ', 'AR', 'CA', 'CO', 'CT', 'DE', 'FL', 'GA', 'HI', 'ID',\n",
       "       'IL', 'IN', 'IA', 'KS', 'KY', 'LA', 'ME', 'MD', 'MA', 'MI', 'MN', 'MS',\n",
       "       'MO', 'MT', 'NE', 'NV', 'NH', 'NJ', 'NM', 'NY', 'NC', 'ND', 'OH', 'OK',\n",
       "       'OR', 'PA', 'RI', 'SC', 'SD', 'TN', 'TX', 'UT', 'VT', 'VA', 'WA', 'WV',\n",
       "       'WI', 'WY'],\n",
       "      dtype='object', name='State')"
      ]
     },
     "execution_count": 32,
     "metadata": {},
     "output_type": "execute_result"
    }
   ],
   "source": [
    "unemp.index"
   ]
  },
  {
   "cell_type": "code",
   "execution_count": 30,
   "metadata": {},
   "outputs": [
    {
     "data": {
      "text/html": [
       "<div>\n",
       "<style scoped>\n",
       "    .dataframe tbody tr th:only-of-type {\n",
       "        vertical-align: middle;\n",
       "    }\n",
       "\n",
       "    .dataframe tbody tr th {\n",
       "        vertical-align: top;\n",
       "    }\n",
       "\n",
       "    .dataframe thead th {\n",
       "        text-align: right;\n",
       "    }\n",
       "</style>\n",
       "<table border=\"1\" class=\"dataframe\">\n",
       "  <thead>\n",
       "    <tr style=\"text-align: right;\">\n",
       "      <th></th>\n",
       "      <th>Unemployment</th>\n",
       "    </tr>\n",
       "    <tr>\n",
       "      <th>State</th>\n",
       "      <th></th>\n",
       "    </tr>\n",
       "  </thead>\n",
       "  <tbody>\n",
       "    <tr>\n",
       "      <th>AL</th>\n",
       "      <td>7.1</td>\n",
       "    </tr>\n",
       "    <tr>\n",
       "      <th>AK</th>\n",
       "      <td>6.8</td>\n",
       "    </tr>\n",
       "    <tr>\n",
       "      <th>AZ</th>\n",
       "      <td>8.1</td>\n",
       "    </tr>\n",
       "    <tr>\n",
       "      <th>AR</th>\n",
       "      <td>7.2</td>\n",
       "    </tr>\n",
       "    <tr>\n",
       "      <th>CA</th>\n",
       "      <td>10.1</td>\n",
       "    </tr>\n",
       "  </tbody>\n",
       "</table>\n",
       "</div>"
      ],
      "text/plain": [
       "       Unemployment\n",
       "State              \n",
       "AL              7.1\n",
       "AK              6.8\n",
       "AZ              8.1\n",
       "AR              7.2\n",
       "CA             10.1"
      ]
     },
     "execution_count": 30,
     "metadata": {},
     "output_type": "execute_result"
    }
   ],
   "source": [
    "unemp.head()"
   ]
  },
  {
   "cell_type": "code",
   "execution_count": 33,
   "metadata": {},
   "outputs": [
    {
     "data": {
      "text/plain": [
       "<matplotlib.axes._subplots.AxesSubplot at 0x1a1d01eef0>"
      ]
     },
     "execution_count": 33,
     "metadata": {},
     "output_type": "execute_result"
    },
    {
     "data": {
      "image/png": "[encoded data removed]",
      "text/plain": [
       "<Figure size 432x288 with 1 Axes>"
      ]
     },
     "metadata": {
      "needs_background": "light"
     },
     "output_type": "display_data"
    }
   ],
   "source": [
    "sns.barplot(unemp)"
   ]
  },
  {
   "cell_type": "code",
   "execution_count": 34,
   "metadata": {},
   "outputs": [
    {
     "data": {
      "text/plain": [
       "<matplotlib.axes._subplots.AxesSubplot at 0x1a1d37bb70>"
      ]
     },
     "execution_count": 34,
     "metadata": {},
     "output_type": "execute_result"
    },
    {
     "data": {
      "image/png": "[encoded data removed]",
      "text/plain": [
       "<Figure size 432x288 with 1 Axes>"
      ]
     },
     "metadata": {
      "needs_background": "light"
     },
     "output_type": "display_data"
    }
   ],
   "source": [
    "sns.barplot(unemp['Unemployment'])"
   ]
  },
  {
   "cell_type": "code",
   "execution_count": 35,
   "metadata": {},
   "outputs": [
    {
     "ename": "KeyError",
     "evalue": "'State'",
     "output_type": "error",
     "traceback": [
      "\u001b[0;31m---------------------------------------------------------------------------\u001b[0m",
      "\u001b[0;31mKeyError\u001b[0m                                  Traceback (most recent call last)",
      "\u001b[0;32m//anaconda3/lib/python3.7/site-packages/pandas/core/indexes/base.py\u001b[0m in \u001b[0;36mget_loc\u001b[0;34m(self, key, method, tolerance)\u001b[0m\n\u001b[1;32m   2656\u001b[0m             \u001b[0;32mtry\u001b[0m\u001b[0;34m:\u001b[0m\u001b[0;34m\u001b[0m\u001b[0;34m\u001b[0m\u001b[0m\n\u001b[0;32m-> 2657\u001b[0;31m                 \u001b[0;32mreturn\u001b[0m \u001b[0mself\u001b[0m\u001b[0;34m.\u001b[0m\u001b[0m_engine\u001b[0m\u001b[0;34m.\u001b[0m\u001b[0mget_loc\u001b[0m\u001b[0;34m(\u001b[0m\u001b[0mkey\u001b[0m\u001b[0;34m)\u001b[0m\u001b[0;34m\u001b[0m\u001b[0;34m\u001b[0m\u001b[0m\n\u001b[0m\u001b[1;32m   2658\u001b[0m             \u001b[0;32mexcept\u001b[0m \u001b[0mKeyError\u001b[0m\u001b[0;34m:\u001b[0m\u001b[0;34m\u001b[0m\u001b[0;34m\u001b[0m\u001b[0m\n",
      "\u001b[0;32mpandas/_libs/index.pyx\u001b[0m in \u001b[0;36mpandas._libs.index.IndexEngine.get_loc\u001b[0;34m()\u001b[0m\n",
      "\u001b[0;32mpandas/_libs/index.pyx\u001b[0m in \u001b[0;36mpandas._libs.index.IndexEngine.get_loc\u001b[0;34m()\u001b[0m\n",
      "\u001b[0;32mpandas/_libs/hashtable_class_helper.pxi\u001b[0m in \u001b[0;36mpandas._libs.hashtable.PyObjectHashTable.get_item\u001b[0;34m()\u001b[0m\n",
      "\u001b[0;32mpandas/_libs/hashtable_class_helper.pxi\u001b[0m in \u001b[0;36mpandas._libs.hashtable.PyObjectHashTable.get_item\u001b[0;34m()\u001b[0m\n",
      "\u001b[0;31mKeyError\u001b[0m: 'State'",
      "\nDuring handling of the above exception, another exception occurred:\n",
      "\u001b[0;31mKeyError\u001b[0m                                  Traceback (most recent call last)",
      "\u001b[0;32m<ipython-input-35-ac991f2779dd>\u001b[0m in \u001b[0;36m<module>\u001b[0;34m\u001b[0m\n\u001b[0;32m----> 1\u001b[0;31m \u001b[0msns\u001b[0m\u001b[0;34m.\u001b[0m\u001b[0mbarplot\u001b[0m\u001b[0;34m(\u001b[0m\u001b[0munemp\u001b[0m\u001b[0;34m[\u001b[0m\u001b[0;34m'State'\u001b[0m\u001b[0;34m]\u001b[0m\u001b[0;34m,\u001b[0m\u001b[0munemp\u001b[0m\u001b[0;34m[\u001b[0m\u001b[0;34m'Unemployment'\u001b[0m\u001b[0;34m]\u001b[0m\u001b[0;34m)\u001b[0m\u001b[0;34m\u001b[0m\u001b[0;34m\u001b[0m\u001b[0m\n\u001b[0m",
      "\u001b[0;32m//anaconda3/lib/python3.7/site-packages/pandas/core/frame.py\u001b[0m in \u001b[0;36m__getitem__\u001b[0;34m(self, key)\u001b[0m\n\u001b[1;32m   2925\u001b[0m             \u001b[0;32mif\u001b[0m \u001b[0mself\u001b[0m\u001b[0;34m.\u001b[0m\u001b[0mcolumns\u001b[0m\u001b[0;34m.\u001b[0m\u001b[0mnlevels\u001b[0m \u001b[0;34m>\u001b[0m \u001b[0;36m1\u001b[0m\u001b[0;34m:\u001b[0m\u001b[0;34m\u001b[0m\u001b[0;34m\u001b[0m\u001b[0m\n\u001b[1;32m   2926\u001b[0m                 \u001b[0;32mreturn\u001b[0m \u001b[0mself\u001b[0m\u001b[0;34m.\u001b[0m\u001b[0m_getitem_multilevel\u001b[0m\u001b[0;34m(\u001b[0m\u001b[0mkey\u001b[0m\u001b[0;34m)\u001b[0m\u001b[0;34m\u001b[0m\u001b[0;34m\u001b[0m\u001b[0m\n\u001b[0;32m-> 2927\u001b[0;31m             \u001b[0mindexer\u001b[0m \u001b[0;34m=\u001b[0m \u001b[0mself\u001b[0m\u001b[0;34m.\u001b[0m\u001b[0mcolumns\u001b[0m\u001b[0;34m.\u001b[0m\u001b[0mget_loc\u001b[0m\u001b[0;34m(\u001b[0m\u001b[0mkey\u001b[0m\u001b[0;34m)\u001b[0m\u001b[0;34m\u001b[0m\u001b[0;34m\u001b[0m\u001b[0m\n\u001b[0m\u001b[1;32m   2928\u001b[0m             \u001b[0;32mif\u001b[0m \u001b[0mis_integer\u001b[0m\u001b[0;34m(\u001b[0m\u001b[0mindexer\u001b[0m\u001b[0;34m)\u001b[0m\u001b[0;34m:\u001b[0m\u001b[0;34m\u001b[0m\u001b[0;34m\u001b[0m\u001b[0m\n\u001b[1;32m   2929\u001b[0m                 \u001b[0mindexer\u001b[0m \u001b[0;34m=\u001b[0m \u001b[0;34m[\u001b[0m\u001b[0mindexer\u001b[0m\u001b[0;34m]\u001b[0m\u001b[0;34m\u001b[0m\u001b[0;34m\u001b[0m\u001b[0m\n",
      "\u001b[0;32m//anaconda3/lib/python3.7/site-packages/pandas/core/indexes/base.py\u001b[0m in \u001b[0;36mget_loc\u001b[0;34m(self, key, method, tolerance)\u001b[0m\n\u001b[1;32m   2657\u001b[0m                 \u001b[0;32mreturn\u001b[0m \u001b[0mself\u001b[0m\u001b[0;34m.\u001b[0m\u001b[0m_engine\u001b[0m\u001b[0;34m.\u001b[0m\u001b[0mget_loc\u001b[0m\u001b[0;34m(\u001b[0m\u001b[0mkey\u001b[0m\u001b[0;34m)\u001b[0m\u001b[0;34m\u001b[0m\u001b[0;34m\u001b[0m\u001b[0m\n\u001b[1;32m   2658\u001b[0m             \u001b[0;32mexcept\u001b[0m \u001b[0mKeyError\u001b[0m\u001b[0;34m:\u001b[0m\u001b[0;34m\u001b[0m\u001b[0;34m\u001b[0m\u001b[0m\n\u001b[0;32m-> 2659\u001b[0;31m                 \u001b[0;32mreturn\u001b[0m \u001b[0mself\u001b[0m\u001b[0;34m.\u001b[0m\u001b[0m_engine\u001b[0m\u001b[0;34m.\u001b[0m\u001b[0mget_loc\u001b[0m\u001b[0;34m(\u001b[0m\u001b[0mself\u001b[0m\u001b[0;34m.\u001b[0m\u001b[0m_maybe_cast_indexer\u001b[0m\u001b[0;34m(\u001b[0m\u001b[0mkey\u001b[0m\u001b[0;34m)\u001b[0m\u001b[0;34m)\u001b[0m\u001b[0;34m\u001b[0m\u001b[0;34m\u001b[0m\u001b[0m\n\u001b[0m\u001b[1;32m   2660\u001b[0m         \u001b[0mindexer\u001b[0m \u001b[0;34m=\u001b[0m \u001b[0mself\u001b[0m\u001b[0;34m.\u001b[0m\u001b[0mget_indexer\u001b[0m\u001b[0;34m(\u001b[0m\u001b[0;34m[\u001b[0m\u001b[0mkey\u001b[0m\u001b[0;34m]\u001b[0m\u001b[0;34m,\u001b[0m \u001b[0mmethod\u001b[0m\u001b[0;34m=\u001b[0m\u001b[0mmethod\u001b[0m\u001b[0;34m,\u001b[0m \u001b[0mtolerance\u001b[0m\u001b[0;34m=\u001b[0m\u001b[0mtolerance\u001b[0m\u001b[0;34m)\u001b[0m\u001b[0;34m\u001b[0m\u001b[0;34m\u001b[0m\u001b[0m\n\u001b[1;32m   2661\u001b[0m         \u001b[0;32mif\u001b[0m \u001b[0mindexer\u001b[0m\u001b[0;34m.\u001b[0m\u001b[0mndim\u001b[0m \u001b[0;34m>\u001b[0m \u001b[0;36m1\u001b[0m \u001b[0;32mor\u001b[0m \u001b[0mindexer\u001b[0m\u001b[0;34m.\u001b[0m\u001b[0msize\u001b[0m \u001b[0;34m>\u001b[0m \u001b[0;36m1\u001b[0m\u001b[0;34m:\u001b[0m\u001b[0;34m\u001b[0m\u001b[0;34m\u001b[0m\u001b[0m\n",
      "\u001b[0;32mpandas/_libs/index.pyx\u001b[0m in \u001b[0;36mpandas._libs.index.IndexEngine.get_loc\u001b[0;34m()\u001b[0m\n",
      "\u001b[0;32mpandas/_libs/index.pyx\u001b[0m in \u001b[0;36mpandas._libs.index.IndexEngine.get_loc\u001b[0;34m()\u001b[0m\n",
      "\u001b[0;32mpandas/_libs/hashtable_class_helper.pxi\u001b[0m in \u001b[0;36mpandas._libs.hashtable.PyObjectHashTable.get_item\u001b[0;34m()\u001b[0m\n",
      "\u001b[0;32mpandas/_libs/hashtable_class_helper.pxi\u001b[0m in \u001b[0;36mpandas._libs.hashtable.PyObjectHashTable.get_item\u001b[0;34m()\u001b[0m\n",
      "\u001b[0;31mKeyError\u001b[0m: 'State'"
     ]
    }
   ],
   "source": [
    "sns.barplot(unemp['State'],unemp['Unemployment'])"
   ]
  },
  {
   "cell_type": "code",
   "execution_count": 36,
   "metadata": {},
   "outputs": [
    {
     "data": {
      "text/plain": [
       "<matplotlib.axes._subplots.AxesSubplot at 0x1a1d464630>"
      ]
     },
     "execution_count": 36,
     "metadata": {},
     "output_type": "execute_result"
    },
    {
     "data": {
      "image/png": "[encoded data removed]",
      "text/plain": [
       "<Figure size 432x288 with 1 Axes>"
      ]
     },
     "metadata": {
      "needs_background": "light"
     },
     "output_type": "display_data"
    }
   ],
   "source": [
    "sns.barplot(unemp.index, unemp['Unemployment'])"
   ]
  },
  {
   "cell_type": "code",
   "execution_count": 1,
   "metadata": {},
   "outputs": [
    {
     "ename": "NameError",
     "evalue": "name 'plt' is not defined",
     "output_type": "error",
     "traceback": [
      "\u001b[0;31m---------------------------------------------------------------------------\u001b[0m",
      "\u001b[0;31mNameError\u001b[0m                                 Traceback (most recent call last)",
      "\u001b[0;32m<ipython-input-1-b099f725bafd>\u001b[0m in \u001b[0;36m<module>\u001b[0;34m\u001b[0m\n\u001b[0;32m----> 1\u001b[0;31m \u001b[0mplt\u001b[0m\u001b[0;34m.\u001b[0m\u001b[0mfigure\u001b[0m\u001b[0;34m(\u001b[0m\u001b[0mfigsize\u001b[0m \u001b[0;34m=\u001b[0m \u001b[0;34m(\u001b[0m\u001b[0;36m10\u001b[0m\u001b[0;34m,\u001b[0m\u001b[0;36m10\u001b[0m\u001b[0;34m)\u001b[0m\u001b[0;34m)\u001b[0m\u001b[0;34m\u001b[0m\u001b[0;34m\u001b[0m\u001b[0m\n\u001b[0m\u001b[1;32m      2\u001b[0m \u001b[0mplt\u001b[0m\u001b[0;34m.\u001b[0m\u001b[0mxticks\u001b[0m\u001b[0;34m(\u001b[0m\u001b[0mrotation\u001b[0m \u001b[0;34m=\u001b[0m \u001b[0;36m90\u001b[0m\u001b[0;34m)\u001b[0m\u001b[0;34m\u001b[0m\u001b[0;34m\u001b[0m\u001b[0m\n\u001b[1;32m      3\u001b[0m \u001b[0msns\u001b[0m\u001b[0;34m.\u001b[0m\u001b[0mbarplot\u001b[0m\u001b[0;34m(\u001b[0m\u001b[0munemp\u001b[0m\u001b[0;34m.\u001b[0m\u001b[0mindex\u001b[0m\u001b[0;34m,\u001b[0m\u001b[0munemp\u001b[0m\u001b[0;34m[\u001b[0m\u001b[0;34m'Unemployment'\u001b[0m\u001b[0;34m]\u001b[0m\u001b[0;34m,\u001b[0m \u001b[0mpalette\u001b[0m\u001b[0;34m=\u001b[0m\u001b[0;34m'winter'\u001b[0m\u001b[0;34m)\u001b[0m\u001b[0;34m\u001b[0m\u001b[0;34m\u001b[0m\u001b[0m\n",
      "\u001b[0;31mNameError\u001b[0m: name 'plt' is not defined"
     ]
    }
   ],
   "source": [
    "plt.figure(figsize = (10,10))\n",
    "plt.xticks(rotation = 90)\n",
    "sns.barplot(unemp.index,unemp['Unemployment'], palette='winter')"
   ]
  },
  {
   "cell_type": "code",
   "execution_count": null,
   "metadata": {
    "collapsed": true
   },
   "outputs": [],
   "source": [
    "#unemp_test.py file"
   ]
  },
  {
   "cell_type": "markdown",
   "metadata": {},
   "source": [
    "### Pockets data"
   ]
  },
  {
   "cell_type": "code",
   "execution_count": 42,
   "metadata": {},
   "outputs": [],
   "source": [
    "pockets = pd.read_csv('pockets.csv')"
   ]
  },
  {
   "cell_type": "code",
   "execution_count": 43,
   "metadata": {},
   "outputs": [
    {
     "data": {
      "text/html": [
       "<div>\n",
       "<style scoped>\n",
       "    .dataframe tbody tr th:only-of-type {\n",
       "        vertical-align: middle;\n",
       "    }\n",
       "\n",
       "    .dataframe tbody tr th {\n",
       "        vertical-align: top;\n",
       "    }\n",
       "\n",
       "    .dataframe thead th {\n",
       "        text-align: right;\n",
       "    }\n",
       "</style>\n",
       "<table border=\"1\" class=\"dataframe\">\n",
       "  <thead>\n",
       "    <tr style=\"text-align: right;\">\n",
       "      <th></th>\n",
       "      <th>brand</th>\n",
       "      <th>style</th>\n",
       "      <th>menWomen</th>\n",
       "      <th>name</th>\n",
       "      <th>fabric</th>\n",
       "      <th>price</th>\n",
       "      <th>maxHeightFront</th>\n",
       "      <th>minHeightFront</th>\n",
       "      <th>rivetHeightFront</th>\n",
       "      <th>maxWidthFront</th>\n",
       "      <th>minWidthFront</th>\n",
       "      <th>maxHeightBack</th>\n",
       "      <th>minHeightBack</th>\n",
       "      <th>maxWidthBack</th>\n",
       "      <th>minWidthBack</th>\n",
       "      <th>cutout</th>\n",
       "    </tr>\n",
       "  </thead>\n",
       "  <tbody>\n",
       "    <tr>\n",
       "      <th>0</th>\n",
       "      <td>Arizona</td>\n",
       "      <td>skinny</td>\n",
       "      <td>women</td>\n",
       "      <td>Fave Super Skinny</td>\n",
       "      <td>78% cotton, 20% polyester, 2% spandex</td>\n",
       "      <td>42.0</td>\n",
       "      <td>14.5</td>\n",
       "      <td>15.0</td>\n",
       "      <td>6.5</td>\n",
       "      <td>16.5</td>\n",
       "      <td>13.0</td>\n",
       "      <td>15.0</td>\n",
       "      <td>12.2</td>\n",
       "      <td>13.7</td>\n",
       "      <td>12.0</td>\n",
       "      <td>False</td>\n",
       "    </tr>\n",
       "    <tr>\n",
       "      <th>1</th>\n",
       "      <td>Arizona</td>\n",
       "      <td>straight</td>\n",
       "      <td>women</td>\n",
       "      <td>Perfect Boot</td>\n",
       "      <td>78% cotton, 20% polyester, 2% spandex</td>\n",
       "      <td>42.0</td>\n",
       "      <td>14.5</td>\n",
       "      <td>14.0</td>\n",
       "      <td>6.5</td>\n",
       "      <td>16.0</td>\n",
       "      <td>12.5</td>\n",
       "      <td>15.5</td>\n",
       "      <td>12.2</td>\n",
       "      <td>13.0</td>\n",
       "      <td>11.2</td>\n",
       "      <td>False</td>\n",
       "    </tr>\n",
       "    <tr>\n",
       "      <th>2</th>\n",
       "      <td>Ralph Lauren</td>\n",
       "      <td>skinny</td>\n",
       "      <td>women</td>\n",
       "      <td>Modern Skinny Slimming Fit</td>\n",
       "      <td>92% cotton, 7% poly, 1% elastane</td>\n",
       "      <td>89.5</td>\n",
       "      <td>13.0</td>\n",
       "      <td>13.5</td>\n",
       "      <td>6.5</td>\n",
       "      <td>14.5</td>\n",
       "      <td>12.0</td>\n",
       "      <td>15.5</td>\n",
       "      <td>13.0</td>\n",
       "      <td>13.5</td>\n",
       "      <td>12.5</td>\n",
       "      <td>False</td>\n",
       "    </tr>\n",
       "    <tr>\n",
       "      <th>3</th>\n",
       "      <td>Ralph Lauren</td>\n",
       "      <td>straight</td>\n",
       "      <td>women</td>\n",
       "      <td>Premier Straight Slimming Fit</td>\n",
       "      <td>92% cotton, 7% poly, 1% elastane</td>\n",
       "      <td>89.5</td>\n",
       "      <td>13.0</td>\n",
       "      <td>13.5</td>\n",
       "      <td>6.5</td>\n",
       "      <td>14.5</td>\n",
       "      <td>12.0</td>\n",
       "      <td>14.5</td>\n",
       "      <td>13.0</td>\n",
       "      <td>13.0</td>\n",
       "      <td>12.2</td>\n",
       "      <td>False</td>\n",
       "    </tr>\n",
       "    <tr>\n",
       "      <th>4</th>\n",
       "      <td>Uniqlo</td>\n",
       "      <td>skinny</td>\n",
       "      <td>women</td>\n",
       "      <td>Skinny Fit</td>\n",
       "      <td>87% cotton, 9% polyester, 4% spandex</td>\n",
       "      <td>39.9</td>\n",
       "      <td>13.0</td>\n",
       "      <td>13.0</td>\n",
       "      <td>5.5</td>\n",
       "      <td>14.0</td>\n",
       "      <td>11.5</td>\n",
       "      <td>14.0</td>\n",
       "      <td>12.0</td>\n",
       "      <td>14.2</td>\n",
       "      <td>11.7</td>\n",
       "      <td>False</td>\n",
       "    </tr>\n",
       "  </tbody>\n",
       "</table>\n",
       "</div>"
      ],
      "text/plain": [
       "          brand     style menWomen                           name  \\\n",
       "0       Arizona    skinny    women              Fave Super Skinny   \n",
       "1       Arizona  straight    women                   Perfect Boot   \n",
       "2  Ralph Lauren    skinny    women     Modern Skinny Slimming Fit   \n",
       "3  Ralph Lauren  straight    women  Premier Straight Slimming Fit   \n",
       "4        Uniqlo    skinny    women                     Skinny Fit   \n",
       "\n",
       "                                  fabric  price  maxHeightFront  \\\n",
       "0  78% cotton, 20% polyester, 2% spandex   42.0            14.5   \n",
       "1  78% cotton, 20% polyester, 2% spandex   42.0            14.5   \n",
       "2       92% cotton, 7% poly, 1% elastane   89.5            13.0   \n",
       "3       92% cotton, 7% poly, 1% elastane   89.5            13.0   \n",
       "4   87% cotton, 9% polyester, 4% spandex   39.9            13.0   \n",
       "\n",
       "   minHeightFront  rivetHeightFront  maxWidthFront  minWidthFront  \\\n",
       "0            15.0               6.5           16.5           13.0   \n",
       "1            14.0               6.5           16.0           12.5   \n",
       "2            13.5               6.5           14.5           12.0   \n",
       "3            13.5               6.5           14.5           12.0   \n",
       "4            13.0               5.5           14.0           11.5   \n",
       "\n",
       "   maxHeightBack  minHeightBack  maxWidthBack  minWidthBack  cutout  \n",
       "0           15.0           12.2          13.7          12.0   False  \n",
       "1           15.5           12.2          13.0          11.2   False  \n",
       "2           15.5           13.0          13.5          12.5   False  \n",
       "3           14.5           13.0          13.0          12.2   False  \n",
       "4           14.0           12.0          14.2          11.7   False  "
      ]
     },
     "execution_count": 43,
     "metadata": {},
     "output_type": "execute_result"
    }
   ],
   "source": [
    "pockets.head()"
   ]
  },
  {
   "cell_type": "code",
   "execution_count": 45,
   "metadata": {},
   "outputs": [],
   "source": [
    "#put fabric in all caps\n",
    "pockets['fabric'] = pockets['fabric'].str.upper()"
   ]
  },
  {
   "cell_type": "code",
   "execution_count": 46,
   "metadata": {},
   "outputs": [
    {
     "data": {
      "text/html": [
       "<div>\n",
       "<style scoped>\n",
       "    .dataframe tbody tr th:only-of-type {\n",
       "        vertical-align: middle;\n",
       "    }\n",
       "\n",
       "    .dataframe tbody tr th {\n",
       "        vertical-align: top;\n",
       "    }\n",
       "\n",
       "    .dataframe thead th {\n",
       "        text-align: right;\n",
       "    }\n",
       "</style>\n",
       "<table border=\"1\" class=\"dataframe\">\n",
       "  <thead>\n",
       "    <tr style=\"text-align: right;\">\n",
       "      <th></th>\n",
       "      <th>brand</th>\n",
       "      <th>style</th>\n",
       "      <th>menWomen</th>\n",
       "      <th>name</th>\n",
       "      <th>fabric</th>\n",
       "      <th>price</th>\n",
       "      <th>maxHeightFront</th>\n",
       "      <th>minHeightFront</th>\n",
       "      <th>rivetHeightFront</th>\n",
       "      <th>maxWidthFront</th>\n",
       "      <th>minWidthFront</th>\n",
       "      <th>maxHeightBack</th>\n",
       "      <th>minHeightBack</th>\n",
       "      <th>maxWidthBack</th>\n",
       "      <th>minWidthBack</th>\n",
       "      <th>cutout</th>\n",
       "    </tr>\n",
       "  </thead>\n",
       "  <tbody>\n",
       "    <tr>\n",
       "      <th>0</th>\n",
       "      <td>Arizona</td>\n",
       "      <td>skinny</td>\n",
       "      <td>women</td>\n",
       "      <td>Fave Super Skinny</td>\n",
       "      <td>78% COTTON, 20% POLYESTER, 2% SPANDEX</td>\n",
       "      <td>42.0</td>\n",
       "      <td>14.5</td>\n",
       "      <td>15.0</td>\n",
       "      <td>6.5</td>\n",
       "      <td>16.5</td>\n",
       "      <td>13.0</td>\n",
       "      <td>15.0</td>\n",
       "      <td>12.2</td>\n",
       "      <td>13.7</td>\n",
       "      <td>12.0</td>\n",
       "      <td>False</td>\n",
       "    </tr>\n",
       "    <tr>\n",
       "      <th>1</th>\n",
       "      <td>Arizona</td>\n",
       "      <td>straight</td>\n",
       "      <td>women</td>\n",
       "      <td>Perfect Boot</td>\n",
       "      <td>78% COTTON, 20% POLYESTER, 2% SPANDEX</td>\n",
       "      <td>42.0</td>\n",
       "      <td>14.5</td>\n",
       "      <td>14.0</td>\n",
       "      <td>6.5</td>\n",
       "      <td>16.0</td>\n",
       "      <td>12.5</td>\n",
       "      <td>15.5</td>\n",
       "      <td>12.2</td>\n",
       "      <td>13.0</td>\n",
       "      <td>11.2</td>\n",
       "      <td>False</td>\n",
       "    </tr>\n",
       "    <tr>\n",
       "      <th>2</th>\n",
       "      <td>Ralph Lauren</td>\n",
       "      <td>skinny</td>\n",
       "      <td>women</td>\n",
       "      <td>Modern Skinny Slimming Fit</td>\n",
       "      <td>92% COTTON, 7% POLY, 1% ELASTANE</td>\n",
       "      <td>89.5</td>\n",
       "      <td>13.0</td>\n",
       "      <td>13.5</td>\n",
       "      <td>6.5</td>\n",
       "      <td>14.5</td>\n",
       "      <td>12.0</td>\n",
       "      <td>15.5</td>\n",
       "      <td>13.0</td>\n",
       "      <td>13.5</td>\n",
       "      <td>12.5</td>\n",
       "      <td>False</td>\n",
       "    </tr>\n",
       "    <tr>\n",
       "      <th>3</th>\n",
       "      <td>Ralph Lauren</td>\n",
       "      <td>straight</td>\n",
       "      <td>women</td>\n",
       "      <td>Premier Straight Slimming Fit</td>\n",
       "      <td>92% COTTON, 7% POLY, 1% ELASTANE</td>\n",
       "      <td>89.5</td>\n",
       "      <td>13.0</td>\n",
       "      <td>13.5</td>\n",
       "      <td>6.5</td>\n",
       "      <td>14.5</td>\n",
       "      <td>12.0</td>\n",
       "      <td>14.5</td>\n",
       "      <td>13.0</td>\n",
       "      <td>13.0</td>\n",
       "      <td>12.2</td>\n",
       "      <td>False</td>\n",
       "    </tr>\n",
       "    <tr>\n",
       "      <th>4</th>\n",
       "      <td>Uniqlo</td>\n",
       "      <td>skinny</td>\n",
       "      <td>women</td>\n",
       "      <td>Skinny Fit</td>\n",
       "      <td>87% COTTON, 9% POLYESTER, 4% SPANDEX</td>\n",
       "      <td>39.9</td>\n",
       "      <td>13.0</td>\n",
       "      <td>13.0</td>\n",
       "      <td>5.5</td>\n",
       "      <td>14.0</td>\n",
       "      <td>11.5</td>\n",
       "      <td>14.0</td>\n",
       "      <td>12.0</td>\n",
       "      <td>14.2</td>\n",
       "      <td>11.7</td>\n",
       "      <td>False</td>\n",
       "    </tr>\n",
       "  </tbody>\n",
       "</table>\n",
       "</div>"
      ],
      "text/plain": [
       "          brand     style menWomen                           name  \\\n",
       "0       Arizona    skinny    women              Fave Super Skinny   \n",
       "1       Arizona  straight    women                   Perfect Boot   \n",
       "2  Ralph Lauren    skinny    women     Modern Skinny Slimming Fit   \n",
       "3  Ralph Lauren  straight    women  Premier Straight Slimming Fit   \n",
       "4        Uniqlo    skinny    women                     Skinny Fit   \n",
       "\n",
       "                                  fabric  price  maxHeightFront  \\\n",
       "0  78% COTTON, 20% POLYESTER, 2% SPANDEX   42.0            14.5   \n",
       "1  78% COTTON, 20% POLYESTER, 2% SPANDEX   42.0            14.5   \n",
       "2       92% COTTON, 7% POLY, 1% ELASTANE   89.5            13.0   \n",
       "3       92% COTTON, 7% POLY, 1% ELASTANE   89.5            13.0   \n",
       "4   87% COTTON, 9% POLYESTER, 4% SPANDEX   39.9            13.0   \n",
       "\n",
       "   minHeightFront  rivetHeightFront  maxWidthFront  minWidthFront  \\\n",
       "0            15.0               6.5           16.5           13.0   \n",
       "1            14.0               6.5           16.0           12.5   \n",
       "2            13.5               6.5           14.5           12.0   \n",
       "3            13.5               6.5           14.5           12.0   \n",
       "4            13.0               5.5           14.0           11.5   \n",
       "\n",
       "   maxHeightBack  minHeightBack  maxWidthBack  minWidthBack  cutout  \n",
       "0           15.0           12.2          13.7          12.0   False  \n",
       "1           15.5           12.2          13.0          11.2   False  \n",
       "2           15.5           13.0          13.5          12.5   False  \n",
       "3           14.5           13.0          13.0          12.2   False  \n",
       "4           14.0           12.0          14.2          11.7   False  "
      ]
     },
     "execution_count": 46,
     "metadata": {},
     "output_type": "execute_result"
    }
   ],
   "source": [
    "pockets.head()"
   ]
  },
  {
   "cell_type": "code",
   "execution_count": 47,
   "metadata": {},
   "outputs": [
    {
     "data": {
      "text/plain": [
       "79"
      ]
     },
     "execution_count": 47,
     "metadata": {},
     "output_type": "execute_result"
    }
   ],
   "source": [
    "pockets['fabric'].str.contains('COTTON').sum()"
   ]
  },
  {
   "cell_type": "code",
   "execution_count": 48,
   "metadata": {},
   "outputs": [
    {
     "data": {
      "text/plain": [
       "(80, 16)"
      ]
     },
     "execution_count": 48,
     "metadata": {},
     "output_type": "execute_result"
    }
   ],
   "source": [
    "pockets.shape"
   ]
  },
  {
   "cell_type": "code",
   "execution_count": 50,
   "metadata": {},
   "outputs": [
    {
     "data": {
      "text/html": [
       "<div>\n",
       "<style scoped>\n",
       "    .dataframe tbody tr th:only-of-type {\n",
       "        vertical-align: middle;\n",
       "    }\n",
       "\n",
       "    .dataframe tbody tr th {\n",
       "        vertical-align: top;\n",
       "    }\n",
       "\n",
       "    .dataframe thead th {\n",
       "        text-align: right;\n",
       "    }\n",
       "</style>\n",
       "<table border=\"1\" class=\"dataframe\">\n",
       "  <thead>\n",
       "    <tr style=\"text-align: right;\">\n",
       "      <th></th>\n",
       "      <th>brand</th>\n",
       "      <th>style</th>\n",
       "      <th>menWomen</th>\n",
       "      <th>name</th>\n",
       "      <th>fabric</th>\n",
       "      <th>price</th>\n",
       "      <th>maxHeightFront</th>\n",
       "      <th>minHeightFront</th>\n",
       "      <th>rivetHeightFront</th>\n",
       "      <th>maxWidthFront</th>\n",
       "      <th>minWidthFront</th>\n",
       "      <th>maxHeightBack</th>\n",
       "      <th>minHeightBack</th>\n",
       "      <th>maxWidthBack</th>\n",
       "      <th>minWidthBack</th>\n",
       "      <th>cutout</th>\n",
       "    </tr>\n",
       "  </thead>\n",
       "  <tbody>\n",
       "    <tr>\n",
       "      <th>14</th>\n",
       "      <td>7 for All Mankind</td>\n",
       "      <td>skinny</td>\n",
       "      <td>women</td>\n",
       "      <td>The Ankle Skinny</td>\n",
       "      <td>89% COTTTON, 9% POLYESTER, 2% SPANDEX</td>\n",
       "      <td>199.0</td>\n",
       "      <td>13.0</td>\n",
       "      <td>13.5</td>\n",
       "      <td>6.0</td>\n",
       "      <td>15.0</td>\n",
       "      <td>12.5</td>\n",
       "      <td>16.5</td>\n",
       "      <td>13.7</td>\n",
       "      <td>12.5</td>\n",
       "      <td>11.5</td>\n",
       "      <td>False</td>\n",
       "    </tr>\n",
       "  </tbody>\n",
       "</table>\n",
       "</div>"
      ],
      "text/plain": [
       "                brand   style menWomen              name  \\\n",
       "14  7 for All Mankind  skinny    women  The Ankle Skinny   \n",
       "\n",
       "                                   fabric  price  maxHeightFront  \\\n",
       "14  89% COTTTON, 9% POLYESTER, 2% SPANDEX  199.0            13.0   \n",
       "\n",
       "    minHeightFront  rivetHeightFront  maxWidthFront  minWidthFront  \\\n",
       "14            13.5               6.0           15.0           12.5   \n",
       "\n",
       "    maxHeightBack  minHeightBack  maxWidthBack  minWidthBack  cutout  \n",
       "14           16.5           13.7          12.5          11.5   False  "
      ]
     },
     "execution_count": 50,
     "metadata": {},
     "output_type": "execute_result"
    }
   ],
   "source": [
    "pockets[~pockets['fabric'].str.contains('COTTON')] #Should be one row"
   ]
  },
  {
   "cell_type": "code",
   "execution_count": 51,
   "metadata": {},
   "outputs": [],
   "source": [
    "#Fix this\n",
    "pockets['fabric'] = pockets['fabric'].str.replace('COTTTON', 'COTTON')\n",
    "#pockets.loc[14,'fabric'] = '89% COTTON, 9% POLYESTER, 2% SPANDEX'"
   ]
  },
  {
   "cell_type": "code",
   "execution_count": 52,
   "metadata": {},
   "outputs": [
    {
     "data": {
      "text/html": [
       "<div>\n",
       "<style scoped>\n",
       "    .dataframe tbody tr th:only-of-type {\n",
       "        vertical-align: middle;\n",
       "    }\n",
       "\n",
       "    .dataframe tbody tr th {\n",
       "        vertical-align: top;\n",
       "    }\n",
       "\n",
       "    .dataframe thead th {\n",
       "        text-align: right;\n",
       "    }\n",
       "</style>\n",
       "<table border=\"1\" class=\"dataframe\">\n",
       "  <thead>\n",
       "    <tr style=\"text-align: right;\">\n",
       "      <th></th>\n",
       "      <th>brand</th>\n",
       "      <th>style</th>\n",
       "      <th>menWomen</th>\n",
       "      <th>name</th>\n",
       "      <th>fabric</th>\n",
       "      <th>price</th>\n",
       "      <th>maxHeightFront</th>\n",
       "      <th>minHeightFront</th>\n",
       "      <th>rivetHeightFront</th>\n",
       "      <th>maxWidthFront</th>\n",
       "      <th>minWidthFront</th>\n",
       "      <th>maxHeightBack</th>\n",
       "      <th>minHeightBack</th>\n",
       "      <th>maxWidthBack</th>\n",
       "      <th>minWidthBack</th>\n",
       "      <th>cutout</th>\n",
       "    </tr>\n",
       "  </thead>\n",
       "  <tbody>\n",
       "  </tbody>\n",
       "</table>\n",
       "</div>"
      ],
      "text/plain": [
       "Empty DataFrame\n",
       "Columns: [brand, style, menWomen, name, fabric, price, maxHeightFront, minHeightFront, rivetHeightFront, maxWidthFront, minWidthFront, maxHeightBack, minHeightBack, maxWidthBack, minWidthBack, cutout]\n",
       "Index: []"
      ]
     },
     "execution_count": 52,
     "metadata": {},
     "output_type": "execute_result"
    }
   ],
   "source": [
    "#find any that don't have cotton now\n",
    "pockets[~pockets['fabric'].str.contains('COTTON')]"
   ]
  },
  {
   "cell_type": "code",
   "execution_count": 55,
   "metadata": {},
   "outputs": [
    {
     "data": {
      "text/plain": [
       "98% COTTON, 2% SPANDEX                                 9\n",
       "100% COTTON                                            8\n",
       "98% COTTON, 2% ELASTANE                                7\n",
       "99% COTTON, 1% ELASTANE                                5\n",
       "99% COTTON, 1% SPANDEX                                 3\n",
       "75% COTTON, 24% POLYESTER, 1% SPANDEX                  3\n",
       "90% COTTON, 8% POLYESTER, 2% ELASTANE                  2\n",
       "95% COTTON, 4% POLYESTER, 1% ELASTANE                  2\n",
       "86% COTTON, 13% POLYESTER, 1% SPANDEX                  2\n",
       "87% COTTON, 12% POLYESTER, 1% SPANDEX                  2\n",
       "83% COTTON, 14% POLYESTER, 3% ELASTANE                 2\n",
       "78% COTTON, 20% POLYESTER, 2% SPANDEX                  2\n",
       "92% COTTON, 6% POLYESTER, 2% SPANDEX                   2\n",
       "92% COTTON, 7% POLY, 1% ELASTANE                       2\n",
       "92% COTTON, 6% POLYESTER, 2% ELASTANE                  1\n",
       "91% COTTON, 7% POLYESTER, 2% ELASTANE                  1\n",
       "72% COTTON, 19% POLYESTER, 8% RAYON, 1% SPANDEX        1\n",
       "99% COTTON, 1% ELASTANE                                1\n",
       "90% COTTON, 8% POLYESTER, 2% SPANDEX                   1\n",
       "55% COTTON, 24% RAYON, 19% POLYESTER, 2% SPANDEX       1\n",
       "78% COTTON, 19% POLYESTER, 3% ELASTANE                 1\n",
       "94% COTTON, 5% POLYESTER, 1% ELASTANE                  1\n",
       "81% COTTON, 17% POLYESTER, 2% SPANDEX                  1\n",
       "71% COTTON, 19% POLYESTER, 9% VISCOSE, 1% ELASTANE     1\n",
       "71% COTTON, 21% VISCOSE, 7% POLYESTER, 1% SPANDEX      1\n",
       "85% COTTON, 13% POLYESTER, 2% ELASTANE                 1\n",
       "79% COTTON, 19% POLYESTER, 2% ELASTANE                 1\n",
       "60% COTTON, 23% VISCOSE, 16% POLYESTER, 1% ELASTANE    1\n",
       "78% COTTON, 18% MODAL, 3% POLY                         1\n",
       "88% COTTON, 8% POLYESTER, 4% ELASTANE                  1\n",
       "55% COTTON, 31% POLYESTER, 13% LYOCELL, 1% ELASTANE    1\n",
       "51% COTTON, 36% RAYON, 12% POLYESTER, 1% SPANDEX       1\n",
       "96% COTTON, 3% OTHER FIBER, 1% ELASTANE                1\n",
       "65% COTTON, 23% VISCOSE, 10% POLYESTER, 2% ELASTANE    1\n",
       "90% COTTON, 8% ELASTERELL-P, 2% SPANDEX                1\n",
       "53% COTTON, 22% POLYESTER, 23% RAYAN, 2% SPANDEX       1\n",
       "56% COTTON, 28% MODAL, 14% SPANDEX, 2% ELASTANE        1\n",
       "69% COTTON, 21% POLYESTER, 8% MODAL, 2% ELASTANE       1\n",
       "85% COTTON, 13% POLY, 2% ELASTANE                      1\n",
       "87% COTTON, 9% POLYESTER, 4% SPANDEX                   1\n",
       "89% COTTON, 9% POLYESTER, 2% SPANDEX                   1\n",
       "30% COTTON, 45% RAYON, 25% POLYESTER                   1\n",
       "62% COTTON, 21% RAYON, 15% POLYESTER, 2% ELASTANE      1\n",
       "Name: fabric, dtype: int64"
      ]
     },
     "execution_count": 55,
     "metadata": {},
     "output_type": "execute_result"
    }
   ],
   "source": [
    "pockets['fabric'].value_counts()"
   ]
  },
  {
   "cell_type": "code",
   "execution_count": 54,
   "metadata": {},
   "outputs": [],
   "source": [
    "pockets['fabric'] = pockets['fabric'].str.replace('45% RAYON, 30% COTTON, 25% POLYESTER', \\\n",
    "                                                  '30% COTTON, 45% RAYON, 25% POLYESTER' )"
   ]
  },
  {
   "cell_type": "code",
   "execution_count": 143,
   "metadata": {},
   "outputs": [
    {
     "data": {
      "text/plain": [
       "87.0"
      ]
     },
     "execution_count": 143,
     "metadata": {},
     "output_type": "execute_result"
    }
   ],
   "source": [
    "text = '87% COTTON, 9% POLYESTER, 4% SPANDEX'\n",
    "float(text.split('%')[0]) "
   ]
  },
  {
   "cell_type": "code",
   "execution_count": 56,
   "metadata": {},
   "outputs": [],
   "source": [
    "def convert(x):\n",
    "    return float(x.split('%')[0])"
   ]
  },
  {
   "cell_type": "code",
   "execution_count": 58,
   "metadata": {},
   "outputs": [],
   "source": [
    "pockets['cotton'] = pockets['fabric'].apply(lambda x: float(x.split('%')[0]))"
   ]
  },
  {
   "cell_type": "code",
   "execution_count": 59,
   "metadata": {},
   "outputs": [
    {
     "data": {
      "text/html": [
       "<div>\n",
       "<style scoped>\n",
       "    .dataframe tbody tr th:only-of-type {\n",
       "        vertical-align: middle;\n",
       "    }\n",
       "\n",
       "    .dataframe tbody tr th {\n",
       "        vertical-align: top;\n",
       "    }\n",
       "\n",
       "    .dataframe thead th {\n",
       "        text-align: right;\n",
       "    }\n",
       "</style>\n",
       "<table border=\"1\" class=\"dataframe\">\n",
       "  <thead>\n",
       "    <tr style=\"text-align: right;\">\n",
       "      <th></th>\n",
       "      <th>brand</th>\n",
       "      <th>style</th>\n",
       "      <th>menWomen</th>\n",
       "      <th>name</th>\n",
       "      <th>fabric</th>\n",
       "      <th>price</th>\n",
       "      <th>maxHeightFront</th>\n",
       "      <th>minHeightFront</th>\n",
       "      <th>rivetHeightFront</th>\n",
       "      <th>maxWidthFront</th>\n",
       "      <th>minWidthFront</th>\n",
       "      <th>maxHeightBack</th>\n",
       "      <th>minHeightBack</th>\n",
       "      <th>maxWidthBack</th>\n",
       "      <th>minWidthBack</th>\n",
       "      <th>cutout</th>\n",
       "      <th>cotton</th>\n",
       "    </tr>\n",
       "  </thead>\n",
       "  <tbody>\n",
       "    <tr>\n",
       "      <th>0</th>\n",
       "      <td>Arizona</td>\n",
       "      <td>skinny</td>\n",
       "      <td>women</td>\n",
       "      <td>Fave Super Skinny</td>\n",
       "      <td>78% COTTON, 20% POLYESTER, 2% SPANDEX</td>\n",
       "      <td>42.0</td>\n",
       "      <td>14.5</td>\n",
       "      <td>15.0</td>\n",
       "      <td>6.5</td>\n",
       "      <td>16.5</td>\n",
       "      <td>13.0</td>\n",
       "      <td>15.0</td>\n",
       "      <td>12.2</td>\n",
       "      <td>13.7</td>\n",
       "      <td>12.0</td>\n",
       "      <td>False</td>\n",
       "      <td>78.0</td>\n",
       "    </tr>\n",
       "    <tr>\n",
       "      <th>1</th>\n",
       "      <td>Arizona</td>\n",
       "      <td>straight</td>\n",
       "      <td>women</td>\n",
       "      <td>Perfect Boot</td>\n",
       "      <td>78% COTTON, 20% POLYESTER, 2% SPANDEX</td>\n",
       "      <td>42.0</td>\n",
       "      <td>14.5</td>\n",
       "      <td>14.0</td>\n",
       "      <td>6.5</td>\n",
       "      <td>16.0</td>\n",
       "      <td>12.5</td>\n",
       "      <td>15.5</td>\n",
       "      <td>12.2</td>\n",
       "      <td>13.0</td>\n",
       "      <td>11.2</td>\n",
       "      <td>False</td>\n",
       "      <td>78.0</td>\n",
       "    </tr>\n",
       "    <tr>\n",
       "      <th>2</th>\n",
       "      <td>Ralph Lauren</td>\n",
       "      <td>skinny</td>\n",
       "      <td>women</td>\n",
       "      <td>Modern Skinny Slimming Fit</td>\n",
       "      <td>92% COTTON, 7% POLY, 1% ELASTANE</td>\n",
       "      <td>89.5</td>\n",
       "      <td>13.0</td>\n",
       "      <td>13.5</td>\n",
       "      <td>6.5</td>\n",
       "      <td>14.5</td>\n",
       "      <td>12.0</td>\n",
       "      <td>15.5</td>\n",
       "      <td>13.0</td>\n",
       "      <td>13.5</td>\n",
       "      <td>12.5</td>\n",
       "      <td>False</td>\n",
       "      <td>92.0</td>\n",
       "    </tr>\n",
       "    <tr>\n",
       "      <th>3</th>\n",
       "      <td>Ralph Lauren</td>\n",
       "      <td>straight</td>\n",
       "      <td>women</td>\n",
       "      <td>Premier Straight Slimming Fit</td>\n",
       "      <td>92% COTTON, 7% POLY, 1% ELASTANE</td>\n",
       "      <td>89.5</td>\n",
       "      <td>13.0</td>\n",
       "      <td>13.5</td>\n",
       "      <td>6.5</td>\n",
       "      <td>14.5</td>\n",
       "      <td>12.0</td>\n",
       "      <td>14.5</td>\n",
       "      <td>13.0</td>\n",
       "      <td>13.0</td>\n",
       "      <td>12.2</td>\n",
       "      <td>False</td>\n",
       "      <td>92.0</td>\n",
       "    </tr>\n",
       "    <tr>\n",
       "      <th>4</th>\n",
       "      <td>Uniqlo</td>\n",
       "      <td>skinny</td>\n",
       "      <td>women</td>\n",
       "      <td>Skinny Fit</td>\n",
       "      <td>87% COTTON, 9% POLYESTER, 4% SPANDEX</td>\n",
       "      <td>39.9</td>\n",
       "      <td>13.0</td>\n",
       "      <td>13.0</td>\n",
       "      <td>5.5</td>\n",
       "      <td>14.0</td>\n",
       "      <td>11.5</td>\n",
       "      <td>14.0</td>\n",
       "      <td>12.0</td>\n",
       "      <td>14.2</td>\n",
       "      <td>11.7</td>\n",
       "      <td>False</td>\n",
       "      <td>87.0</td>\n",
       "    </tr>\n",
       "  </tbody>\n",
       "</table>\n",
       "</div>"
      ],
      "text/plain": [
       "          brand     style menWomen                           name  \\\n",
       "0       Arizona    skinny    women              Fave Super Skinny   \n",
       "1       Arizona  straight    women                   Perfect Boot   \n",
       "2  Ralph Lauren    skinny    women     Modern Skinny Slimming Fit   \n",
       "3  Ralph Lauren  straight    women  Premier Straight Slimming Fit   \n",
       "4        Uniqlo    skinny    women                     Skinny Fit   \n",
       "\n",
       "                                  fabric  price  maxHeightFront  \\\n",
       "0  78% COTTON, 20% POLYESTER, 2% SPANDEX   42.0            14.5   \n",
       "1  78% COTTON, 20% POLYESTER, 2% SPANDEX   42.0            14.5   \n",
       "2       92% COTTON, 7% POLY, 1% ELASTANE   89.5            13.0   \n",
       "3       92% COTTON, 7% POLY, 1% ELASTANE   89.5            13.0   \n",
       "4   87% COTTON, 9% POLYESTER, 4% SPANDEX   39.9            13.0   \n",
       "\n",
       "   minHeightFront  rivetHeightFront  maxWidthFront  minWidthFront  \\\n",
       "0            15.0               6.5           16.5           13.0   \n",
       "1            14.0               6.5           16.0           12.5   \n",
       "2            13.5               6.5           14.5           12.0   \n",
       "3            13.5               6.5           14.5           12.0   \n",
       "4            13.0               5.5           14.0           11.5   \n",
       "\n",
       "   maxHeightBack  minHeightBack  maxWidthBack  minWidthBack  cutout  cotton  \n",
       "0           15.0           12.2          13.7          12.0   False    78.0  \n",
       "1           15.5           12.2          13.0          11.2   False    78.0  \n",
       "2           15.5           13.0          13.5          12.5   False    92.0  \n",
       "3           14.5           13.0          13.0          12.2   False    92.0  \n",
       "4           14.0           12.0          14.2          11.7   False    87.0  "
      ]
     },
     "execution_count": 59,
     "metadata": {},
     "output_type": "execute_result"
    }
   ],
   "source": [
    "pockets.head()"
   ]
  },
  {
   "cell_type": "code",
   "execution_count": 61,
   "metadata": {},
   "outputs": [
    {
     "data": {
      "text/plain": [
       "<matplotlib.axes._subplots.AxesSubplot at 0x1a1e870668>"
      ]
     },
     "execution_count": 61,
     "metadata": {},
     "output_type": "execute_result"
    },
    {
     "data": {
      "image/png": "[encoded data removed]",
      "text/plain": [
       "<Figure size 432x288 with 1 Axes>"
      ]
     },
     "metadata": {
      "needs_background": "light"
     },
     "output_type": "display_data"
    }
   ],
   "source": [
    "sns.distplot(pockets['price'], kde = False) #Why this type of chart? About variable types "
   ]
  },
  {
   "cell_type": "code",
   "execution_count": 67,
   "metadata": {},
   "outputs": [
    {
     "data": {
      "text/plain": [
       "<matplotlib.axes._subplots.AxesSubplot at 0x1a1e545390>"
      ]
     },
     "execution_count": 67,
     "metadata": {},
     "output_type": "execute_result"
    },
    {
     "data": {
      "image/png": "[encoded data removed]",
      "text/plain": [
       "<Figure size 432x288 with 1 Axes>"
      ]
     },
     "metadata": {
      "needs_background": "light"
     },
     "output_type": "display_data"
    }
   ],
   "source": [
    "sns.stripplot(pockets['style'],pockets['price'], jitter = True) #Why this type of chart?"
   ]
  },
  {
   "cell_type": "code",
   "execution_count": 64,
   "metadata": {},
   "outputs": [
    {
     "data": {
      "text/plain": [
       "<matplotlib.axes._subplots.AxesSubplot at 0x1a1ed13320>"
      ]
     },
     "execution_count": 64,
     "metadata": {},
     "output_type": "execute_result"
    },
    {
     "data": {
      "image/png": "[encoded data removed]",
      "text/plain": [
       "<Figure size 432x288 with 1 Axes>"
      ]
     },
     "metadata": {
      "needs_background": "light"
     },
     "output_type": "display_data"
    }
   ],
   "source": [
    "sns.barplot(pockets['style'],pockets['price'])"
   ]
  },
  {
   "cell_type": "code",
   "execution_count": 16,
   "metadata": {},
   "outputs": [
    {
     "data": {
      "text/plain": [
       "<matplotlib.axes._subplots.AxesSubplot at 0x1a0d191fd0>"
      ]
     },
     "execution_count": 16,
     "metadata": {},
     "output_type": "execute_result"
    },
    {
     "data": {
      "image/png": "[encoded data removed]",
      "text/plain": [
       "<Figure size 432x288 with 1 Axes>"
      ]
     },
     "metadata": {},
     "output_type": "display_data"
    }
   ],
   "source": [
    "sns.barplot(unemp['Unemployment'])"
   ]
  },
  {
   "cell_type": "code",
   "execution_count": 17,
   "metadata": {},
   "outputs": [
    {
     "ename": "KeyError",
     "evalue": "'State'",
     "output_type": "error",
     "traceback": [
      "\u001b[0;31m---------------------------------------------------------------------------\u001b[0m",
      "\u001b[0;31mKeyError\u001b[0m                                  Traceback (most recent call last)",
      "\u001b[0;32m/Users/dwatwork/anaconda3/lib/python3.6/site-packages/pandas/core/indexes/base.py\u001b[0m in \u001b[0;36mget_loc\u001b[0;34m(self, key, method, tolerance)\u001b[0m\n\u001b[1;32m   2896\u001b[0m             \u001b[0;32mtry\u001b[0m\u001b[0;34m:\u001b[0m\u001b[0;34m\u001b[0m\u001b[0;34m\u001b[0m\u001b[0m\n\u001b[0;32m-> 2897\u001b[0;31m                 \u001b[0;32mreturn\u001b[0m \u001b[0mself\u001b[0m\u001b[0;34m.\u001b[0m\u001b[0m_engine\u001b[0m\u001b[0;34m.\u001b[0m\u001b[0mget_loc\u001b[0m\u001b[0;34m(\u001b[0m\u001b[0mkey\u001b[0m\u001b[0;34m)\u001b[0m\u001b[0;34m\u001b[0m\u001b[0;34m\u001b[0m\u001b[0m\n\u001b[0m\u001b[1;32m   2898\u001b[0m             \u001b[0;32mexcept\u001b[0m \u001b[0mKeyError\u001b[0m\u001b[0;34m:\u001b[0m\u001b[0;34m\u001b[0m\u001b[0;34m\u001b[0m\u001b[0m\n",
      "\u001b[0;32mpandas/_libs/index.pyx\u001b[0m in \u001b[0;36mpandas._libs.index.IndexEngine.get_loc\u001b[0;34m()\u001b[0m\n",
      "\u001b[0;32mpandas/_libs/index.pyx\u001b[0m in \u001b[0;36mpandas._libs.index.IndexEngine.get_loc\u001b[0;34m()\u001b[0m\n",
      "\u001b[0;32mpandas/_libs/hashtable_class_helper.pxi\u001b[0m in \u001b[0;36mpandas._libs.hashtable.PyObjectHashTable.get_item\u001b[0;34m()\u001b[0m\n",
      "\u001b[0;32mpandas/_libs/hashtable_class_helper.pxi\u001b[0m in \u001b[0;36mpandas._libs.hashtable.PyObjectHashTable.get_item\u001b[0;34m()\u001b[0m\n",
      "\u001b[0;31mKeyError\u001b[0m: 'State'",
      "\nDuring handling of the above exception, another exception occurred:\n",
      "\u001b[0;31mKeyError\u001b[0m                                  Traceback (most recent call last)",
      "\u001b[0;32m<ipython-input-17-61b37a21a565>\u001b[0m in \u001b[0;36m<module>\u001b[0;34m()\u001b[0m\n\u001b[0;32m----> 1\u001b[0;31m \u001b[0msns\u001b[0m\u001b[0;34m.\u001b[0m\u001b[0mbarplot\u001b[0m\u001b[0;34m(\u001b[0m\u001b[0munemp\u001b[0m\u001b[0;34m[\u001b[0m\u001b[0;34m'State'\u001b[0m\u001b[0;34m]\u001b[0m\u001b[0;34m,\u001b[0m\u001b[0munemp\u001b[0m\u001b[0;34m[\u001b[0m\u001b[0;34m'Unemployment'\u001b[0m\u001b[0;34m]\u001b[0m\u001b[0;34m)\u001b[0m\u001b[0;34m\u001b[0m\u001b[0;34m\u001b[0m\u001b[0m\n\u001b[0m",
      "\u001b[0;32m/Users/dwatwork/anaconda3/lib/python3.6/site-packages/pandas/core/frame.py\u001b[0m in \u001b[0;36m__getitem__\u001b[0;34m(self, key)\u001b[0m\n\u001b[1;32m   2978\u001b[0m             \u001b[0;32mif\u001b[0m \u001b[0mself\u001b[0m\u001b[0;34m.\u001b[0m\u001b[0mcolumns\u001b[0m\u001b[0;34m.\u001b[0m\u001b[0mnlevels\u001b[0m \u001b[0;34m>\u001b[0m \u001b[0;36m1\u001b[0m\u001b[0;34m:\u001b[0m\u001b[0;34m\u001b[0m\u001b[0;34m\u001b[0m\u001b[0m\n\u001b[1;32m   2979\u001b[0m                 \u001b[0;32mreturn\u001b[0m \u001b[0mself\u001b[0m\u001b[0;34m.\u001b[0m\u001b[0m_getitem_multilevel\u001b[0m\u001b[0;34m(\u001b[0m\u001b[0mkey\u001b[0m\u001b[0;34m)\u001b[0m\u001b[0;34m\u001b[0m\u001b[0;34m\u001b[0m\u001b[0m\n\u001b[0;32m-> 2980\u001b[0;31m             \u001b[0mindexer\u001b[0m \u001b[0;34m=\u001b[0m \u001b[0mself\u001b[0m\u001b[0;34m.\u001b[0m\u001b[0mcolumns\u001b[0m\u001b[0;34m.\u001b[0m\u001b[0mget_loc\u001b[0m\u001b[0;34m(\u001b[0m\u001b[0mkey\u001b[0m\u001b[0;34m)\u001b[0m\u001b[0;34m\u001b[0m\u001b[0;34m\u001b[0m\u001b[0m\n\u001b[0m\u001b[1;32m   2981\u001b[0m             \u001b[0;32mif\u001b[0m \u001b[0mis_integer\u001b[0m\u001b[0;34m(\u001b[0m\u001b[0mindexer\u001b[0m\u001b[0;34m)\u001b[0m\u001b[0;34m:\u001b[0m\u001b[0;34m\u001b[0m\u001b[0;34m\u001b[0m\u001b[0m\n\u001b[1;32m   2982\u001b[0m                 \u001b[0mindexer\u001b[0m \u001b[0;34m=\u001b[0m \u001b[0;34m[\u001b[0m\u001b[0mindexer\u001b[0m\u001b[0;34m]\u001b[0m\u001b[0;34m\u001b[0m\u001b[0;34m\u001b[0m\u001b[0m\n",
      "\u001b[0;32m/Users/dwatwork/anaconda3/lib/python3.6/site-packages/pandas/core/indexes/base.py\u001b[0m in \u001b[0;36mget_loc\u001b[0;34m(self, key, method, tolerance)\u001b[0m\n\u001b[1;32m   2897\u001b[0m                 \u001b[0;32mreturn\u001b[0m \u001b[0mself\u001b[0m\u001b[0;34m.\u001b[0m\u001b[0m_engine\u001b[0m\u001b[0;34m.\u001b[0m\u001b[0mget_loc\u001b[0m\u001b[0;34m(\u001b[0m\u001b[0mkey\u001b[0m\u001b[0;34m)\u001b[0m\u001b[0;34m\u001b[0m\u001b[0;34m\u001b[0m\u001b[0m\n\u001b[1;32m   2898\u001b[0m             \u001b[0;32mexcept\u001b[0m \u001b[0mKeyError\u001b[0m\u001b[0;34m:\u001b[0m\u001b[0;34m\u001b[0m\u001b[0;34m\u001b[0m\u001b[0m\n\u001b[0;32m-> 2899\u001b[0;31m                 \u001b[0;32mreturn\u001b[0m \u001b[0mself\u001b[0m\u001b[0;34m.\u001b[0m\u001b[0m_engine\u001b[0m\u001b[0;34m.\u001b[0m\u001b[0mget_loc\u001b[0m\u001b[0;34m(\u001b[0m\u001b[0mself\u001b[0m\u001b[0;34m.\u001b[0m\u001b[0m_maybe_cast_indexer\u001b[0m\u001b[0;34m(\u001b[0m\u001b[0mkey\u001b[0m\u001b[0;34m)\u001b[0m\u001b[0;34m)\u001b[0m\u001b[0;34m\u001b[0m\u001b[0;34m\u001b[0m\u001b[0m\n\u001b[0m\u001b[1;32m   2900\u001b[0m         \u001b[0mindexer\u001b[0m \u001b[0;34m=\u001b[0m \u001b[0mself\u001b[0m\u001b[0;34m.\u001b[0m\u001b[0mget_indexer\u001b[0m\u001b[0;34m(\u001b[0m\u001b[0;34m[\u001b[0m\u001b[0mkey\u001b[0m\u001b[0;34m]\u001b[0m\u001b[0;34m,\u001b[0m \u001b[0mmethod\u001b[0m\u001b[0;34m=\u001b[0m\u001b[0mmethod\u001b[0m\u001b[0;34m,\u001b[0m \u001b[0mtolerance\u001b[0m\u001b[0;34m=\u001b[0m\u001b[0mtolerance\u001b[0m\u001b[0;34m)\u001b[0m\u001b[0;34m\u001b[0m\u001b[0;34m\u001b[0m\u001b[0m\n\u001b[1;32m   2901\u001b[0m         \u001b[0;32mif\u001b[0m \u001b[0mindexer\u001b[0m\u001b[0;34m.\u001b[0m\u001b[0mndim\u001b[0m \u001b[0;34m>\u001b[0m \u001b[0;36m1\u001b[0m \u001b[0;32mor\u001b[0m \u001b[0mindexer\u001b[0m\u001b[0;34m.\u001b[0m\u001b[0msize\u001b[0m \u001b[0;34m>\u001b[0m \u001b[0;36m1\u001b[0m\u001b[0;34m:\u001b[0m\u001b[0;34m\u001b[0m\u001b[0;34m\u001b[0m\u001b[0m\n",
      "\u001b[0;32mpandas/_libs/index.pyx\u001b[0m in \u001b[0;36mpandas._libs.index.IndexEngine.get_loc\u001b[0;34m()\u001b[0m\n",
      "\u001b[0;32mpandas/_libs/index.pyx\u001b[0m in \u001b[0;36mpandas._libs.index.IndexEngine.get_loc\u001b[0;34m()\u001b[0m\n",
      "\u001b[0;32mpandas/_libs/hashtable_class_helper.pxi\u001b[0m in \u001b[0;36mpandas._libs.hashtable.PyObjectHashTable.get_item\u001b[0;34m()\u001b[0m\n",
      "\u001b[0;32mpandas/_libs/hashtable_class_helper.pxi\u001b[0m in \u001b[0;36mpandas._libs.hashtable.PyObjectHashTable.get_item\u001b[0;34m()\u001b[0m\n",
      "\u001b[0;31mKeyError\u001b[0m: 'State'"
     ]
    }
   ],
   "source": [
    "sns.barplot(unemp['State'],unemp['Unemployment'])"
   ]
  },
  {
   "cell_type": "code",
   "execution_count": 20,
   "metadata": {},
   "outputs": [
    {
     "data": {
      "text/plain": [
       "<matplotlib.axes._subplots.AxesSubplot at 0x1a18f818d0>"
      ]
     },
     "execution_count": 20,
     "metadata": {},
     "output_type": "execute_result"
    },
    {
     "data": {
      "image/png": "[encoded data removed]",
      "text/plain": [
       "<Figure size 432x288 with 1 Axes>"
      ]
     },
     "metadata": {},
     "output_type": "display_data"
    }
   ],
   "source": [
    "sns.barplot(unemp.index,unemp['Unemployment'])"
   ]
  },
  {
   "cell_type": "code",
   "execution_count": 33,
   "metadata": {},
   "outputs": [
    {
     "data": {
      "text/plain": [
       "<matplotlib.axes._subplots.AxesSubplot at 0x1a1a74d9e8>"
      ]
     },
     "execution_count": 33,
     "metadata": {},
     "output_type": "execute_result"
    },
    {
     "data": {
      "image/png": "[encoded data removed]",
      "text/plain": [
       "<Figure size 720x720 with 1 Axes>"
      ]
     },
     "metadata": {},
     "output_type": "display_data"
    }
   ],
   "source": []
  },
  {
   "cell_type": "code",
   "execution_count": null,
   "metadata": {
    "collapsed": true
   },
   "outputs": [],
   "source": [
    "# Go back to pockets data\n",
    "# Plot average price by style"
   ]
  },
  {
   "cell_type": "code",
   "execution_count": 142,
   "metadata": {},
   "outputs": [
    {
     "data": {
      "text/html": [
       "<div>\n",
       "<style scoped>\n",
       "    .dataframe tbody tr th:only-of-type {\n",
       "        vertical-align: middle;\n",
       "    }\n",
       "\n",
       "    .dataframe tbody tr th {\n",
       "        vertical-align: top;\n",
       "    }\n",
       "\n",
       "    .dataframe thead th {\n",
       "        text-align: right;\n",
       "    }\n",
       "</style>\n",
       "<table border=\"1\" class=\"dataframe\">\n",
       "  <thead>\n",
       "    <tr style=\"text-align: right;\">\n",
       "      <th></th>\n",
       "      <th>brand</th>\n",
       "      <th>style</th>\n",
       "      <th>menWomen</th>\n",
       "      <th>name</th>\n",
       "      <th>fabric</th>\n",
       "      <th>price</th>\n",
       "      <th>maxHeightFront</th>\n",
       "      <th>minHeightFront</th>\n",
       "      <th>rivetHeightFront</th>\n",
       "      <th>maxWidthFront</th>\n",
       "      <th>minWidthFront</th>\n",
       "      <th>maxHeightBack</th>\n",
       "      <th>minHeightBack</th>\n",
       "      <th>maxWidthBack</th>\n",
       "      <th>minWidthBack</th>\n",
       "      <th>cutout</th>\n",
       "      <th>cotton_over_90</th>\n",
       "      <th>cotton</th>\n",
       "    </tr>\n",
       "  </thead>\n",
       "  <tbody>\n",
       "    <tr>\n",
       "      <td>0</td>\n",
       "      <td>Arizona</td>\n",
       "      <td>skinny</td>\n",
       "      <td>women</td>\n",
       "      <td>Fave Super Skinny</td>\n",
       "      <td>78% COTTON, 20% POLYESTER, 2% SPANDEX</td>\n",
       "      <td>42.0</td>\n",
       "      <td>14.5</td>\n",
       "      <td>15.0</td>\n",
       "      <td>6.5</td>\n",
       "      <td>16.5</td>\n",
       "      <td>13.0</td>\n",
       "      <td>15.0</td>\n",
       "      <td>12.2</td>\n",
       "      <td>13.7</td>\n",
       "      <td>12.0</td>\n",
       "      <td>False</td>\n",
       "      <td>False</td>\n",
       "      <td>78.0</td>\n",
       "    </tr>\n",
       "    <tr>\n",
       "      <td>1</td>\n",
       "      <td>Arizona</td>\n",
       "      <td>straight</td>\n",
       "      <td>women</td>\n",
       "      <td>Perfect Boot</td>\n",
       "      <td>78% COTTON, 20% POLYESTER, 2% SPANDEX</td>\n",
       "      <td>42.0</td>\n",
       "      <td>14.5</td>\n",
       "      <td>14.0</td>\n",
       "      <td>6.5</td>\n",
       "      <td>16.0</td>\n",
       "      <td>12.5</td>\n",
       "      <td>15.5</td>\n",
       "      <td>12.2</td>\n",
       "      <td>13.0</td>\n",
       "      <td>11.2</td>\n",
       "      <td>False</td>\n",
       "      <td>False</td>\n",
       "      <td>78.0</td>\n",
       "    </tr>\n",
       "    <tr>\n",
       "      <td>2</td>\n",
       "      <td>Ralph Lauren</td>\n",
       "      <td>skinny</td>\n",
       "      <td>women</td>\n",
       "      <td>Modern Skinny Slimming Fit</td>\n",
       "      <td>92% COTTON, 7% POLY, 1% ELASTANE</td>\n",
       "      <td>89.5</td>\n",
       "      <td>13.0</td>\n",
       "      <td>13.5</td>\n",
       "      <td>6.5</td>\n",
       "      <td>14.5</td>\n",
       "      <td>12.0</td>\n",
       "      <td>15.5</td>\n",
       "      <td>13.0</td>\n",
       "      <td>13.5</td>\n",
       "      <td>12.5</td>\n",
       "      <td>False</td>\n",
       "      <td>True</td>\n",
       "      <td>92.0</td>\n",
       "    </tr>\n",
       "    <tr>\n",
       "      <td>3</td>\n",
       "      <td>Ralph Lauren</td>\n",
       "      <td>straight</td>\n",
       "      <td>women</td>\n",
       "      <td>Premier Straight Slimming Fit</td>\n",
       "      <td>92% COTTON, 7% POLY, 1% ELASTANE</td>\n",
       "      <td>89.5</td>\n",
       "      <td>13.0</td>\n",
       "      <td>13.5</td>\n",
       "      <td>6.5</td>\n",
       "      <td>14.5</td>\n",
       "      <td>12.0</td>\n",
       "      <td>14.5</td>\n",
       "      <td>13.0</td>\n",
       "      <td>13.0</td>\n",
       "      <td>12.2</td>\n",
       "      <td>False</td>\n",
       "      <td>True</td>\n",
       "      <td>92.0</td>\n",
       "    </tr>\n",
       "    <tr>\n",
       "      <td>4</td>\n",
       "      <td>Uniqlo</td>\n",
       "      <td>skinny</td>\n",
       "      <td>women</td>\n",
       "      <td>Skinny Fit</td>\n",
       "      <td>87% COTTON, 9% POLYESTER, 4% SPANDEX</td>\n",
       "      <td>39.9</td>\n",
       "      <td>13.0</td>\n",
       "      <td>13.0</td>\n",
       "      <td>5.5</td>\n",
       "      <td>14.0</td>\n",
       "      <td>11.5</td>\n",
       "      <td>14.0</td>\n",
       "      <td>12.0</td>\n",
       "      <td>14.2</td>\n",
       "      <td>11.7</td>\n",
       "      <td>False</td>\n",
       "      <td>False</td>\n",
       "      <td>87.0</td>\n",
       "    </tr>\n",
       "  </tbody>\n",
       "</table>\n",
       "</div>"
      ],
      "text/plain": [
       "          brand     style menWomen                           name  \\\n",
       "0       Arizona    skinny    women              Fave Super Skinny   \n",
       "1       Arizona  straight    women                   Perfect Boot   \n",
       "2  Ralph Lauren    skinny    women     Modern Skinny Slimming Fit   \n",
       "3  Ralph Lauren  straight    women  Premier Straight Slimming Fit   \n",
       "4        Uniqlo    skinny    women                     Skinny Fit   \n",
       "\n",
       "                                  fabric  price  maxHeightFront  \\\n",
       "0  78% COTTON, 20% POLYESTER, 2% SPANDEX   42.0            14.5   \n",
       "1  78% COTTON, 20% POLYESTER, 2% SPANDEX   42.0            14.5   \n",
       "2       92% COTTON, 7% POLY, 1% ELASTANE   89.5            13.0   \n",
       "3       92% COTTON, 7% POLY, 1% ELASTANE   89.5            13.0   \n",
       "4   87% COTTON, 9% POLYESTER, 4% SPANDEX   39.9            13.0   \n",
       "\n",
       "   minHeightFront  rivetHeightFront  maxWidthFront  minWidthFront  \\\n",
       "0            15.0               6.5           16.5           13.0   \n",
       "1            14.0               6.5           16.0           12.5   \n",
       "2            13.5               6.5           14.5           12.0   \n",
       "3            13.5               6.5           14.5           12.0   \n",
       "4            13.0               5.5           14.0           11.5   \n",
       "\n",
       "   maxHeightBack  minHeightBack  maxWidthBack  minWidthBack  cutout  \\\n",
       "0           15.0           12.2          13.7          12.0   False   \n",
       "1           15.5           12.2          13.0          11.2   False   \n",
       "2           15.5           13.0          13.5          12.5   False   \n",
       "3           14.5           13.0          13.0          12.2   False   \n",
       "4           14.0           12.0          14.2          11.7   False   \n",
       "\n",
       "   cotton_over_90  cotton  \n",
       "0           False    78.0  \n",
       "1           False    78.0  \n",
       "2            True    92.0  \n",
       "3            True    92.0  \n",
       "4           False    87.0  "
      ]
     },
     "execution_count": 142,
     "metadata": {},
     "output_type": "execute_result"
    }
   ],
   "source": [
    "pockets.head()"
   ]
  },
  {
   "cell_type": "code",
   "execution_count": 140,
   "metadata": {
    "collapsed": true
   },
   "outputs": [],
   "source": [
    "#By default, will plot the means, and will draw error bars"
   ]
  },
  {
   "cell_type": "code",
   "execution_count": 141,
   "metadata": {},
   "outputs": [
    {
     "data": {
      "text/plain": [
       "<matplotlib.axes._subplots.AxesSubplot at 0x1a19e62470>"
      ]
     },
     "execution_count": 141,
     "metadata": {},
     "output_type": "execute_result"
    },
    {
     "data": {
      "image/png": "[encoded data removed]",
      "text/plain": [
       "<Figure size 432x288 with 1 Axes>"
      ]
     },
     "metadata": {},
     "output_type": "display_data"
    }
   ],
   "source": [
    "sns.barplot(pockets['style'], pockets['price'])"
   ]
  },
  {
   "cell_type": "code",
   "execution_count": null,
   "metadata": {
    "collapsed": true
   },
   "outputs": [],
   "source": [
    "#plot from command line"
   ]
  },
  {
   "cell_type": "code",
   "execution_count": null,
   "metadata": {
    "collapsed": true
   },
   "outputs": [],
   "source": []
  }
 ],
 "metadata": {
  "kernelspec": {
   "display_name": "Python 3",
   "language": "python",
   "name": "python3"
  },
  "language_info": {
   "codemirror_mode": {
    "name": "ipython",
    "version": 3
   },
   "file_extension": ".py",
   "mimetype": "text/x-python",
   "name": "python",
   "nbconvert_exporter": "python",
   "pygments_lexer": "ipython3",
   "version": "3.7.3"
  }
 },
 "nbformat": 4,
 "nbformat_minor": 2
}
