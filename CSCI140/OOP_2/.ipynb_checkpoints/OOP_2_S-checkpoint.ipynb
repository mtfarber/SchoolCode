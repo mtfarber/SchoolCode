{
 "cells": [
  {
   "cell_type": "code",
   "execution_count": 1,
   "metadata": {},
   "outputs": [],
   "source": [
    "import pandas as pd\n",
    "import random"
   ]
  },
  {
   "cell_type": "code",
   "execution_count": 39,
   "metadata": {},
   "outputs": [],
   "source": [
    "class Right_Tri: #inside of object\n",
    "    \n",
    "    def __init__(self, base, height): #constructor\n",
    "        self.__base = base\n",
    "        self.__height = height\n",
    "        sum_sq = (self.__base**2)+(self.__height**2) \n",
    "        self.__hypotenuse = sum_sq**0.5\n",
    "    \n",
    "    def area(self):\n",
    "        return 0.5*self.__base*self.__height\n",
    "    \n",
    "    def get_hypoteneuse(self): #accessor\n",
    "        return self.__hypotenuse\n",
    "    \n",
    "    def __is_isoceles(self):\n",
    "        return self.__base == self.__height\n",
    "    \n",
    "    def __has_int_sides(self):\n",
    "        return self.__base % 1 == 0 and self.__height % 1 == 0\n",
    "    \n",
    "    def draw(self):\n",
    "        if self.__is_isoceles() and self.__has_int_sides():\n",
    "            for i in range(1, self.__base +1): #self.base is 5, 0 1 2 3 4\n",
    "                print('*'*i)\n",
    "        else:\n",
    "            print(self)\n",
    "    \n",
    "    def __str__(self): #Call by casting to a string or printing the object, return a string\n",
    "        return \"Right Triangle with base: \" +  str(self.__base) + \" and height \" + str(self.__height)"
   ]
  },
  {
   "cell_type": "code",
   "execution_count": 40,
   "metadata": {},
   "outputs": [
    {
     "name": "stdout",
     "output_type": "stream",
     "text": [
      "Right Triangle with base: 4 and height 5\n"
     ]
    }
   ],
   "source": [
    "#Debug this\n",
    "#object_name.method_name(args)\n",
    "#Main program, OUTSIDE OBJECT\n",
    "my_tri = Right_Tri(4,5) #Calling constructor,  making new object\n",
    "#print(my_tri)\n",
    "#print(my_tri.area())\n",
    "#my_tri.draw()\n",
    "my_tri.base = 72 #won't work and will create a new object\n",
    "print(my_tri)"
   ]
  },
  {
   "cell_type": "code",
   "execution_count": 41,
   "metadata": {},
   "outputs": [],
   "source": [
    "my_tri.hypotenuse = 8 #Hmmm, is this ok?"
   ]
  },
  {
   "cell_type": "code",
   "execution_count": 43,
   "metadata": {},
   "outputs": [],
   "source": [
    "class Portfolio: \n",
    "    \n",
    "    def __init__(self, name, filename = None): #Code is correct, DO NOT CHANGE ANYTHING unless you are completing extra credit\n",
    "        self.__name = name\n",
    "        #Data frame to hold portfolio, index is Symbol\n",
    "        self.__holdings = pd.DataFrame(columns = ['Symbol','Name', 'Shares', 'Last Price'])\n",
    "        self.__holdings.set_index('Symbol', inplace = True)\n",
    "        #Set up dictionary with symbols and names\n",
    "        nasdaq = pd.read_csv('nasdaq_symbol_info.csv')\n",
    "        nasdaq['Security Name'] = nasdaq['Security Name'].str.replace('Common Stock', '').str.rstrip(' -')\n",
    "        self.symbol_map = dict(zip(nasdaq['Symbol'], nasdaq['Security Name']))\n",
    "    \n",
    "    def __is_held(self, symbol): #Code is correct, DO NOT CHANGE ANYTHING in the def line or indented code\n",
    "        return symbol in self.__holdings.index #Do not change\n",
    "        \n",
    "    def buy_stock(self, symbol, shares, price, name = None):#Fill in your code, do not change def line\n",
    "        pass\n",
    "    \n",
    "    def sell_stock(self, symbol, shares): #Fill in your code, do not change def line\n",
    "        pass\n",
    "    \n",
    "    def update_price(self, symbol, price): #Fill in your code, do not change def line\n",
    "        pass\n",
    "    \n",
    "    def get_total_value(self): #Fill in your code, do not change def line\n",
    "        pass\n",
    "    \n",
    "    def get_stock_info(self, symbol): #Fill in your code, do not change def line\n",
    "        pass\n",
    "        \n",
    "    #You won't use the two accessor methods below in your other methods,but they are examples of accessors\n",
    "    #They are needed by the GUI - don't change them\n",
    "    def get_symbols(self): #Code is correct, DO NOT CHANGE ANYTHING in the def line or indented code\n",
    "        return list(self.__holdings.index) #Do not change\n",
    "    \n",
    "    def get_name(self): #Code is correct, DO NOT CHANGE ANYTHING in the def line or indented code\n",
    "        return self.__name #Do not change\n",
    "    \n",
    "    def save_to_file(self, filename): #Fill in your code for EXTRA CREDIT below, do not change def line\n",
    "        pass\n",
    "        \n",
    "   # def __str__(self): #Do not change def line, debug the line of code below\n",
    "   #     print(self.__name + ''s Portfolio:' + str(self.__holdings)) #Correct this line - don't add lines"
   ]
  },
  {
   "cell_type": "code",
   "execution_count": 44,
   "metadata": {},
   "outputs": [
    {
     "data": {
      "text/plain": [
       "'Turtle'"
      ]
     },
     "execution_count": 44,
     "metadata": {},
     "output_type": "execute_result"
    }
   ],
   "source": [
    "my_port = Portfolio('Turtle')\n",
    "my_port.get_name()"
   ]
  },
  {
   "cell_type": "code",
   "execution_count": null,
   "metadata": {},
   "outputs": [],
   "source": []
  }
 ],
 "metadata": {
  "kernelspec": {
   "display_name": "Python 3",
   "language": "python",
   "name": "python3"
  },
  "language_info": {
   "codemirror_mode": {
    "name": "ipython",
    "version": 3
   },
   "file_extension": ".py",
   "mimetype": "text/x-python",
   "name": "python",
   "nbconvert_exporter": "python",
   "pygments_lexer": "ipython3",
   "version": "3.7.3"
  }
 },
 "nbformat": 4,
 "nbformat_minor": 2
}
