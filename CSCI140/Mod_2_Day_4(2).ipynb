{
 "cells": [
  {
   "cell_type": "code",
   "execution_count": 7,
   "metadata": {},
   "outputs": [],
   "source": [
    "from random import randint, choice"
   ]
  },
  {
   "cell_type": "code",
   "execution_count": null,
   "metadata": {
    "collapsed": true
   },
   "outputs": [],
   "source": [
    "#Input, string in format of 12hr time: '4:30 PM', Output, string in format of 24hr time: '1630'\n",
    "def military(time):\n",
    "    hours = int(time[:-6])\n",
    "    minutes = time[-5:-3]\n",
    "    meridian = time[-2:]\n",
    "    if hours < 12 and meridian == 'PM':\n",
    "        hours = str(hours + 12)\n",
    "    elif hours == 12 and meridian == 'AM':\n",
    "        if minutes == '00':\n",
    "            hours = '24'\n",
    "        else:\n",
    "            hours = '00'\n",
    "    else:\n",
    "        hours = str(hours)\n",
    "    if len(hours) < 2:\n",
    "        hours  = '0' + hours\n",
    "    return hours + minutes"
   ]
  },
  {
   "cell_type": "code",
   "execution_count": 1,
   "metadata": {},
   "outputs": [],
   "source": [
    "def military_2(time):\n",
    "    hours = int(time[:-6])\n",
    "    minutes = time[-5:-3]\n",
    "    meridian = time[-2:]\n",
    "    if hours < 12:\n",
    "        if meridian == 'PM':\n",
    "            return str(hours + 12) + minutes\n",
    "        else:\n",
    "            return '0' + str(hours) + minutes\n",
    "    if hours == 12 and meridian == 'AM':\n",
    "        if minutes == '00':\n",
    "            return '24' + minutes\n",
    "        else:\n",
    "            return '00' + minutes\n",
    "    return str(hours) + minutes"
   ]
  },
  {
   "cell_type": "code",
   "execution_count": 2,
   "metadata": {},
   "outputs": [
    {
     "name": "stdout",
     "output_type": "stream",
     "text": [
      "1630\n",
      "0430\n",
      "2400\n",
      "01120\n"
     ]
    }
   ],
   "source": [
    "print(military_2('4:30 PM'))\n",
    "print(military_2('4:30 AM'))\n",
    "print(military_2('12:00 AM'))\n",
    "print(military_2('11:20 AM'))"
   ]
  },
  {
   "cell_type": "code",
   "execution_count": 8,
   "metadata": {},
   "outputs": [],
   "source": [
    "def random_mutation(DNA):\n",
    "    position = randint(0, len(DNA)-1)\n",
    "    new_base = choice('ACTG') \n",
    "    return DNA[:position] + new_base + DNA[position+1:]"
   ]
  },
  {
   "cell_type": "code",
   "execution_count": 9,
   "metadata": {},
   "outputs": [
    {
     "name": "stdout",
     "output_type": "stream",
     "text": [
      "ACAGC\n"
     ]
    }
   ],
   "source": [
    "DNA = 'ACTGC'\n",
    "#DNA = 'ACTCGGAAGACCCGAGAGCCGAACGGACCGAAGCCCAG'\n",
    "mutant = random_mutation(DNA)\n",
    "print(mutant)"
   ]
  },
  {
   "cell_type": "code",
   "execution_count": 10,
   "metadata": {},
   "outputs": [],
   "source": [
    "#What is wrong with this? How can you figure it out?\n",
    "def random_mutation_better(DNA):\n",
    "    position = randint(0, len(DNA)-1)\n",
    "    base = choice('ACGT')\n",
    "    if base == position:\n",
    "        base = choice('ACGT')\n",
    "    return DNA[:position] + base + DNA[position+1:]"
   ]
  },
  {
   "cell_type": "code",
   "execution_count": 15,
   "metadata": {},
   "outputs": [
    {
     "name": "stdout",
     "output_type": "stream",
     "text": [
      "ATTG\n"
     ]
    }
   ],
   "source": [
    "DNA = 'ATTG'\n",
    "mut = random_mutation_better(DNA)\n",
    "print(mut)"
   ]
  },
  {
   "cell_type": "code",
   "execution_count": null,
   "metadata": {
    "collapsed": true
   },
   "outputs": [],
   "source": [
    "original = 'A'\n",
    "base = choice('AC')\n",
    "print('base is', base)\n",
    "if base == original:\n",
    "    base = choice('AC')\n",
    "    print('base is', base)\n",
    "    if base == original:\n",
    "        print('base is', base)\n",
    "        base = choice('AC')\n"
   ]
  },
  {
   "cell_type": "code",
   "execution_count": 16,
   "metadata": {},
   "outputs": [],
   "source": [
    "def convert(amount):\n",
    "    return float(amount[1:])"
   ]
  },
  {
   "cell_type": "code",
   "execution_count": 17,
   "metadata": {},
   "outputs": [
    {
     "name": "stdout",
     "output_type": "stream",
     "text": [
      "4.5\n"
     ]
    }
   ],
   "source": [
    "print(convert('$4.50'))"
   ]
  },
  {
   "cell_type": "code",
   "execution_count": 26,
   "metadata": {},
   "outputs": [],
   "source": [
    "def money_list(data):\n",
    "    i = 0\n",
    "    new_list = []\n",
    "    while i <=len(data)-1:\n",
    "        result = (convert(data[i]))\n",
    "        new_list = new_list + [result]\n",
    "        i += 1\n",
    "    return new_list"
   ]
  },
  {
   "cell_type": "code",
   "execution_count": 27,
   "metadata": {},
   "outputs": [
    {
     "data": {
      "text/plain": [
       "[4.5, 12.99, 100.5, 17.25]"
      ]
     },
     "execution_count": 27,
     "metadata": {},
     "output_type": "execute_result"
    }
   ],
   "source": [
    "a = ['$4.50', '$12.99','$100.50', '$17.25']\n",
    "money_list(a)"
   ]
  },
  {
   "cell_type": "code",
   "execution_count": 20,
   "metadata": {},
   "outputs": [
    {
     "name": "stdout",
     "output_type": "stream",
     "text": [
      "What is your guess? Or enter 0 to quit.600\n",
      "Too high\n",
      "What is your guess?300\n",
      "Too high\n",
      "What is your guess?100\n",
      "Too high\n",
      "What is your guess?50\n",
      "Too high\n",
      "What is your guess?30\n",
      "Too high\n",
      "What is your guess?10\n",
      "You got it!\n"
     ]
    }
   ],
   "source": [
    "number = randint(1,100)\n",
    "guess = int(input('What is your guess? Or enter 0 to quit.'))\n",
    "while(guess != number and guess != 0):\n",
    "    if (guess<number):\n",
    "        print('Too low')\n",
    "    else:\n",
    "        print('Too high')\n",
    "    guess = int(input('What is your guess?'))\n",
    "print('You got it!')"
   ]
  },
  {
   "cell_type": "code",
   "execution_count": null,
   "metadata": {},
   "outputs": [],
   "source": []
  }
 ],
 "metadata": {
  "kernelspec": {
   "display_name": "Python 3",
   "language": "python",
   "name": "python3"
  },
  "language_info": {
   "codemirror_mode": {
    "name": "ipython",
    "version": 3
   },
   "file_extension": ".py",
   "mimetype": "text/x-python",
   "name": "python",
   "nbconvert_exporter": "python",
   "pygments_lexer": "ipython3",
   "version": "3.7.3"
  }
 },
 "nbformat": 4,
 "nbformat_minor": 2
}
